{
 "cells": [
  {
   "cell_type": "code",
   "execution_count": 1,
   "metadata": {
    "collapsed": false
   },
   "outputs": [],
   "source": [
    "from IPython.core.interactiveshell import InteractiveShell\n",
    "InteractiveShell.ast_node_interactivity = \"all\"\n",
    "\n",
    "from urllib.request import Request, urlopen\n",
    "from bs4 import BeautifulSoup\n",
    "import re\n",
    "import time\n",
    "import json\n",
    "import csv\n",
    "from concurrent.futures import ThreadPoolExecutor, as_completed\n",
    "from tqdm import tqdm_notebook\n",
    "import pandas as pd\n",
    "\n",
    "HEADERS = {'User-Agent': 'Mozilla/5.0', 'Accept': 'text/html,application/xhtml+xml,application/xml'}\n",
    "\n",
    "COLUMNS_LIST = ['name', 'url', 'city', 'cuisine', 'avgRating', 'numReviews', 'priceRange', 'latitude', 'longitude', 'telephone', 'postalCode', 'streetAddress', 'addressLocality', 'addressRegion', 'openingHoursSpecification', 'addressString', 'geoString', 'ratingString']"
   ]
  },
  {
   "cell_type": "code",
   "execution_count": 2,
   "metadata": {
    "collapsed": true
   },
   "outputs": [],
   "source": [
    "def get_rest_details(row):\n",
    "    rest_city = row['city']\n",
    "    rest_url  = row['url']\n",
    "    dict1 = {'city': rest_city, 'url': rest_url, 'name': None}\n",
    "    try:\n",
    "        req = Request(rest_url, headers=HEADERS)\n",
    "        webpage = urlopen(req, timeout=20).read()\n",
    "        soup = BeautifulSoup(webpage, 'html.parser')\n",
    "        obj = json.loads(soup.find(\"script\", type=\"application/ld+json\").text.replace('&amp;', '&'))\n",
    "        dict1 = {\n",
    "                    'name': obj['name'],\n",
    "                    'url': rest_url,\n",
    "                    'city': rest_city,\n",
    "                    'cuisine': obj.get('servesCuisine'),\n",
    "                    'avgRating': obj.get('aggregateRating', {}).get('ratingValue'),\n",
    "                    'numReviews': obj.get('aggregateRating', {}).get('reviewCount'),\n",
    "                    'priceRange': obj.get('priceRange'),\n",
    "                    'latitude': obj.get('geo', {}).get('latitude'),\n",
    "                    'longitude': obj.get('geo', {}).get('longitude'),\n",
    "                    'telephone': obj.get('telephone'),\n",
    "                    'postalCode': obj.get('address', {}).get('postalCode'),\n",
    "                    'streetAddress': obj.get('address', {}).get('streetAddress'),\n",
    "                    'addressLocality': obj.get('address', {}).get('addressLocality'),\n",
    "                    'addressRegion': obj.get('address', {}).get('addressRegion'),\n",
    "                    'openingHoursSpecification': obj.get('openingHoursSpecification'),\n",
    "                    'addressString': obj.get('address'),\n",
    "                    'geoString': obj.get('geo'),\n",
    "                    'ratingString': obj.get('aggregateRating')\n",
    "                }\n",
    "    except Exception as e:\n",
    "        print(f\"Restaurant error: {e} url: {rest_url}\")\n",
    "        \n",
    "    return dict1"
   ]
  },
  {
   "cell_type": "code",
   "execution_count": 3,
   "metadata": {
    "collapsed": false
   },
   "outputs": [],
   "source": [
    "def scrap_city_restaurants(cityname, columnsList=COLUMNS_LIST):\n",
    "    urls_df = pd.read_csv('./archive/'+cityname+'.csv')\n",
    "    num_restaurants = urls_df.shape[0]\n",
    "    restaurant_list = []\n",
    "    \n",
    "#     for i in tqdm_notebook(range(num_restaurants), desc=cityname):\n",
    "    with ThreadPoolExecutor(max_workers = 100) as executor:\n",
    "        future_to_url = {executor.submit(get_rest_details, row): row for index,row in urls_df.iterrows()}\n",
    "        for future in tqdm_notebook(as_completed(future_to_url), desc=\"cities\"):\n",
    "            row = future_to_url[future]\n",
    "            dict1 = future.result()\n",
    "            restaurant_list.append(dict1)\n",
    "\n",
    "    details_df = pd.DataFrame(restaurant_list, columns=columnsList)\n",
    "    return details_df"
   ]
  },
  {
   "cell_type": "code",
   "execution_count": 4,
   "metadata": {
    "collapsed": true
   },
   "outputs": [],
   "source": [
    "def store_city_restaurants(df, cityname):\n",
    "    filename = './scraped-data/rest-details/'+cityname+'-details.csv'\n",
    "    df.to_csv(filename, index=False)"
   ]
  },
  {
   "cell_type": "code",
   "execution_count": 5,
   "metadata": {
    "collapsed": false
   },
   "outputs": [],
   "source": [
    "def execute_city(cityname):\n",
    "    city_restaurants_df = scrap_city_restaurants(cityname)\n",
    "    store_city_restaurants(city_restaurants_df, cityname)"
   ]
  },
  {
   "cell_type": "code",
   "execution_count": 6,
   "metadata": {
    "collapsed": false
   },
   "outputs": [
    {
     "name": "stdout",
     "output_type": "stream",
     "text": [
      "Restaurant error: HTTP Error 410: Gone url: https://www.ubereats.com/new-york/food-delivery/le-tea/ZFKlr3UdQ2WhJjYp5FU02A\n",
      "Restaurant error: Remote end closed connection without response url: https://www.ubereats.com/new-york/food-delivery/umami-burger-57th-street/2RpbVoSRTjefmzq1sd85BQ\n",
      "Restaurant error: HTTP Error 404: Not Found url: https://www.ubereats.com/new-york/food-delivery/healthy-market-%26-deli/D1Sw07WwQi-39-mzSDcuVQ\n",
      "Restaurant error: HTTP Error 410: Gone url: https://www.ubereats.com/new-york/food-delivery/lions-tigers-%26-squares-detroit-pizza-2nd-ave/HHYBFvGuRY-_WTy3chiNrg\n",
      "Restaurant error: HTTP Error 410: Gone url: https://www.ubereats.com/new-york/food-delivery/bar-pa-tea/n22IIJ6fQ4qPqzZ6W5SnpQ\n",
      "Restaurant error: HTTP Error 410: Gone url: https://www.ubereats.com/new-york/food-delivery/the-wayfarer/4aNGnGZZSg-0A1gIksZHwQ\n",
      "Restaurant error: Remote end closed connection without response url: https://www.ubereats.com/new-york/food-delivery/seven-grams-caffe-chelsea/0Fmj7UHyS5qYmlNNyc1Q3w\n",
      "Restaurant error: The read operation timed out url: https://www.ubereats.com/new-york/food-delivery/murrays-cheese-melt-shop/7a7-XQySRXemUHEZOJYkeg\n",
      "Restaurant error: HTTP Error 410: Gone url: https://www.ubereats.com/new-york/food-delivery/gradys-house-of-chicken-nyc02-1/t86Xa32HSB-jmh7965hIRw\n",
      "Restaurant error: HTTP Error 410: Gone url: https://www.ubereats.com/new-york/food-delivery/avra-madison/5y3VhXMIS5WwYYnDkxzTaQ\n",
      "Restaurant error: HTTP Error 410: Gone url: https://www.ubereats.com/new-york/food-delivery/moulin-rouge/ppcnUMxDRf-Kxp7xBV7p3w\n",
      "Restaurant error: The read operation timed out url: https://www.ubereats.com/new-york/food-delivery/the-commons-chelsea/mtFhfzY9TvetCPWZQAw2mw\n",
      "Restaurant error: HTTP Error 410: Gone url: https://www.ubereats.com/new-york/food-delivery/beyond-sushi-fidi/hGQLnWkiQguV2mxCr7ufiA\n",
      "Restaurant error: HTTP Error 410: Gone url: https://www.ubereats.com/new-york/food-delivery/edible-arrangements-875-third-avenue/1FqolOa5Rm-HckTpP7TxnQ\n",
      "Restaurant error: <urlopen error _ssl.c:835: The handshake operation timed out> url: https://www.ubereats.com/new-york/food-delivery/jell-%26-chill/3k8efBQKSTWXOVSkczxINg\n",
      "Restaurant error: Remote end closed connection without response url: https://www.ubereats.com/new-york/food-delivery/salad-box/TtJZWGNjRNKdynYv6DASaA\n",
      "Restaurant error: Remote end closed connection without response url: https://www.ubereats.com/new-york/food-delivery/fuel-grill-%26-juice-bar-kips-bay/pWSshLP7RN6iQ0FY90evrQ\n",
      "Restaurant error: The read operation timed out url: https://www.ubereats.com/new-york/food-delivery/beans-%26-greens/UmQEPfRcReusjJKUN8dNTA\n",
      "Restaurant error: HTTP Error 410: Gone url: https://www.ubereats.com/new-york/food-delivery/biscuit-n-brisket/OeKxGCYNSY68c03hZmYYkw\n",
      "Restaurant error: HTTP Error 410: Gone url: https://www.ubereats.com/new-york/food-delivery/stickys-finger-joint-7-penn/kkDPBTShSwGVjVD8_WvLmw\n",
      "Restaurant error: The read operation timed out url: https://www.ubereats.com/new-york/food-delivery/mendys-grand-central/lHreXLUxQ6Oyl1j0dMyMgw\n",
      "Restaurant error: <urlopen error timed out> url: https://www.ubereats.com/new-york/food-delivery/lombardis-pizza/3YaVK1yET761RDZ0k1jdXA\n",
      "Restaurant error: HTTP Error 410: Gone url: https://www.ubereats.com/new-york/food-delivery/serafina-ludlow/rKyw7oOES9ClI5OTTepurQ\n",
      "Restaurant error: HTTP Error 410: Gone url: https://www.ubereats.com/new-york/food-delivery/sweet-moment/18Yhq4Y1Toqo4H6TiPHg1g\n",
      "Restaurant error: HTTP Error 404: Not Found url: https://www.ubereats.com/new-york/food-delivery/healthy-choice-deli/Aj0ok9eLQgy5XfNxwyvjxQ\n",
      "Restaurant error: HTTP Error 404: Not Found url: https://www.ubereats.com/new-york/food-delivery/healthy-joes/wSTrgbESTeCmgbaNrGqE5A\n",
      "Restaurant error: Remote end closed connection without response url: https://www.ubereats.com/new-york/food-delivery/cornerstone-cafe-nyc/KpJey_SOTYixqcq78wVuHg\n",
      "Restaurant error: The read operation timed out url: https://www.ubereats.com/new-york/food-delivery/mr-broadway/05K5ZZjyT5mvEH829PDzhg\n",
      "Restaurant error: The read operation timed out url: https://www.ubereats.com/new-york/food-delivery/soho-99-cents-cheese-pizza/-lhLDvRMQGGK6POlyMC-pA\n",
      "Restaurant error: The read operation timed out url: https://www.ubereats.com/new-york/food-delivery/lasagna-chelsea-restaurant-chelsea/MbLEEQAXSDGngc5BARNemQ\n",
      "Restaurant error: The read operation timed out url: https://www.ubereats.com/new-york/food-delivery/the-little-beet-midtown-west/l4U8licwS2ae8tlG-9ReWg\n",
      "Restaurant error: The read operation timed out url: https://www.ubereats.com/new-york/food-delivery/sammys-halal-1st-ave/84GD7gzQTumd1n_08FGJVA\n",
      "Restaurant error: HTTP Error 410: Gone url: https://www.ubereats.com/new-york/food-delivery/230-fifth-rooftop/rdaUtrlnSyOpHQyv9O1g3g\n",
      "Restaurant error: HTTP Error 410: Gone url: https://www.ubereats.com/new-york/food-delivery/eat-real-halal-bank-of-america-location/GRYVSYhMT9y_wyeUBAqvvw\n",
      "Restaurant error: The read operation timed out url: https://www.ubereats.com/new-york/food-delivery/juice-generation-bleecker-st/6cOuVnBoT_ivtt5viKojIA\n",
      "Restaurant error: The read operation timed out url: https://www.ubereats.com/new-york/food-delivery/europan/dw8RsAA5Tt2OtASpVWhZOg\n",
      "Restaurant error: Remote end closed connection without response url: https://www.ubereats.com/new-york/food-delivery/mother-of-pearl-east-village/31q9vXIGTw22K1LKPmljfQ\n",
      "Restaurant error: HTTP Error 410: Gone url: https://www.ubereats.com/new-york/food-delivery/empire-diner/WgiDrR51QQucZi7iaNAwUw\n",
      "Restaurant error: The read operation timed out url: https://www.ubereats.com/new-york/food-delivery/oneills-irish-pub/DdDlsgzcQBqzLIDzAoCoIw\n",
      "Restaurant error: HTTP Error 410: Gone url: https://www.ubereats.com/new-york/food-delivery/shuraku-west-village/H92VRdnoQwWrCZXlUAW1Ew\n",
      "Restaurant error: HTTP Error 410: Gone url: https://www.ubereats.com/new-york/food-delivery/nice-day-chinese/lArvhBwSRzeZBe3sZkpkeg\n",
      "Restaurant error: The read operation timed out url: https://www.ubereats.com/new-york/food-delivery/evas-kitchen-greenwich-village/NDqBGTgzTh6LCGaVJv-iAA\n",
      "Restaurant error: HTTP Error 404: Not Found url: https://www.ubereats.com/new-york/food-delivery/healthy-salad-shop/wuqNZn8dTXiHG6UaQ3dL2A\n",
      "Restaurant error: The read operation timed out url: https://www.ubereats.com/new-york/food-delivery/smile-to-go-soho/5frCeRy5T-Ww8QNP6n-T1Q\n",
      "Restaurant error: The read operation timed out url: https://www.ubereats.com/new-york/food-delivery/zuckers-bagels-%26-smoked-fish-flat-iron/exu_otfCRUKT7A0yjwR5FQ\n",
      "Restaurant error: Remote end closed connection without response url: https://www.ubereats.com/new-york/food-delivery/bobwhite-lunch-%26-supper-counter-east-village/dvi5ydvZRrae-UvTxO61hg\n",
      "Restaurant error: The read operation timed out url: https://www.ubereats.com/new-york/food-delivery/panera-330-5th-ave/U2aHVl8MR4eiz5lGZo0Y5w\n",
      "Restaurant error: HTTP Error 404: Not Found url: https://www.ubereats.com/new-york/food-delivery/healthy-greens-gourmet-deli/mH51YsICRy6d4eEW4w4rfg\n",
      "Restaurant error: HTTP Error 410: Gone url: https://www.ubereats.com/new-york/food-delivery/curry-express/yf00kUaJSE2d9IlqZ2_bfw\n",
      "Restaurant error: HTTP Error 410: Gone url: https://www.ubereats.com/new-york/food-delivery/sushi-cat-ny/xIE7QT7fRjyYht9UfSRxgA\n",
      "Restaurant error: The read operation timed out url: https://www.ubereats.com/new-york/food-delivery/by-chloe-soho/PYa__rpsTuWddA3xtJ_3yQ\n",
      "Restaurant error: HTTP Error 410: Gone url: https://www.ubereats.com/new-york/food-delivery/sofias-of-mulberry/HZxBogfAQwCP2_BMpfgPUQ\n",
      "Restaurant error: HTTP Error 410: Gone url: https://www.ubereats.com/new-york/food-delivery/sushi-by-bou-union-square/dKdjs9tATeew4dXFneQsdQ\n",
      "Restaurant error: The read operation timed out url: https://www.ubereats.com/new-york/food-delivery/hao-noodle-chelsea/pHNtBiZRRNyuPpnO-uusdQ\n",
      "Restaurant error: HTTP Error 410: Gone url: https://www.ubereats.com/new-york/food-delivery/the-ice-cream-shop/2y6yFh_HS4q5isxaScOFFg\n",
      "Restaurant error: HTTP Error 410: Gone url: https://www.ubereats.com/new-york/food-delivery/breakfast-in-a-scramble-nyc02-1/639X4gRqRDSX0vIoCWKEsw\n",
      "Restaurant error: HTTP Error 410: Gone url: https://www.ubereats.com/new-york/food-delivery/minca/V__WBOnYQ1SdqijFokZ0lw\n",
      "Restaurant error: HTTP Error 410: Gone url: https://www.ubereats.com/new-york/food-delivery/arbor-bistro/TERAjn0USDSpKI9MUxeCxw\n",
      "Restaurant error: The read operation timed out url: https://www.ubereats.com/new-york/food-delivery/chinese-dhaba-tribeca/NN8pNBb2RAufWKfwKVCo8A\n",
      "Restaurant error: HTTP Error 410: Gone url: https://www.ubereats.com/new-york/food-delivery/all-stars-bar-%26-grill/lPC-MdOnRR64EDzqjt4aBA\n",
      "Restaurant error: HTTP Error 410: Gone url: https://www.ubereats.com/new-york/food-delivery/mcdonalds-151-west-34th-street/oHl8ntlWSHa2MSzCQIKT4A\n",
      "Restaurant error: HTTP Error 410: Gone url: https://www.ubereats.com/new-york/food-delivery/maker-3-real-ah-test/5A5X_UMbS1ind7pa4LnIyw\n",
      "Restaurant error: HTTP Error 404: Not Found url: https://www.ubereats.com/new-york/food-delivery/healthy-green-juice-bar/8pFdTMWKRWy1fz9INUbPxQ\n",
      "Restaurant error: The read operation timed out url: https://www.ubereats.com/new-york/food-delivery/creperie-nyc/HUHly2vGTxiCiK4DHscnjg\n",
      "Restaurant error: HTTP Error 410: Gone url: https://www.ubereats.com/new-york/food-delivery/bohos-kitchen/ujO-7AqhQxafi6QjKHIFvA\n",
      "Restaurant error: HTTP Error 410: Gone url: https://www.ubereats.com/new-york/food-delivery/mulberry-%26-vine-lexington-ave/3TtzXdDbTk22pCooT5LPMQ\n",
      "Restaurant error: HTTP Error 410: Gone url: https://www.ubereats.com/new-york/food-delivery/kitchen-%26-bar-village-east-cinema/3J7OCdtESO20ak_sccx5qw\n",
      "Restaurant error: HTTP Error 410: Gone url: https://www.ubereats.com/new-york/food-delivery/holy-crepe/Ua3zaZWqSIebPNeN1JjIOQ\n",
      "Restaurant error: The read operation timed out url: https://www.ubereats.com/new-york/food-delivery/lenwich-union-square/wgfdiw0LTqOY6MeaemdScg\n",
      "Restaurant error: HTTP Error 410: Gone url: https://www.ubereats.com/new-york/food-delivery/vietspot-tribeca/UJ33SEdMT0iYLbkDMiSGnQ\n",
      "Restaurant error: Remote end closed connection without response url: https://www.ubereats.com/new-york/food-delivery/baby-brasa/h83YoojATmK4u56hpkvLDg\n",
      "Restaurant error: HTTP Error 410: Gone url: https://www.ubereats.com/new-york/food-delivery/pepolino-restaurant/LRwhqCz_RtaL2dP9VqTbSA\n",
      "Restaurant error: Remote end closed connection without response url: https://www.ubereats.com/new-york/food-delivery/mulberry-%26-vine-flatiron/_zyg9nxkTCSEQF4CDo171Q\n",
      "Restaurant error: Remote end closed connection without response url: https://www.ubereats.com/new-york/food-delivery/orion-diner-%26-grill/8pL2QMjTS2ilBbPAXYzKKQ\n",
      "Restaurant error: Remote end closed connection without response url: https://www.ubereats.com/new-york/food-delivery/cakes-by-nerwan-soho/2Bjj2g8VQkKBUEoY_wl2uQ\n",
      "Restaurant error: HTTP Error 410: Gone url: https://www.ubereats.com/new-york/food-delivery/chipotle-mexican-grill-150-e-44th-st-frnt-1/nBsaGVXETsWO6003aGKKdw\n",
      "Restaurant error: HTTP Error 410: Gone url: https://www.ubereats.com/new-york/food-delivery/la-pittura-studio/ppIh_eiOTuOzQqZaMgzPww\n",
      "Restaurant error: HTTP Error 404: Not Found url: https://www.ubereats.com/new-york/food-delivery/healthy-market-place/G5izJ8KLSRqngI20Bum3wQ\n",
      "Restaurant error: HTTP Error 410: Gone url: https://www.ubereats.com/new-york/food-delivery/carvel-664-8th-ave/C62noi0ZS8Knp8GhdCXCUQ\n",
      "Restaurant error: The read operation timed out url: https://www.ubereats.com/new-york/food-delivery/aroma-trattoria/YL2M8hb3SpeF2AegntCZpg\n",
      "Restaurant error: The read operation timed out url: https://www.ubereats.com/new-york/food-delivery/sweetgreen-university-place/mN3DElnNSVWU14doRh4eWg\n",
      "Restaurant error: <urlopen error [Errno 0] Error> url: https://www.ubereats.com/new-york/food-delivery/milk-bar-east-village/PYE6ayZjQwaPvCNrqlryLw\n",
      "Restaurant error: HTTP Error 410: Gone url: https://www.ubereats.com/new-york/food-delivery/nomo-kitchen/8u5mW9KGTK2ZXFG1SxmM2A\n",
      "Restaurant error: The read operation timed out url: https://www.ubereats.com/new-york/food-delivery/smile-to-go-flatiron/yVgPZ7k4Rl-DyagwtvweBw\n",
      "Restaurant error: Remote end closed connection without response url: https://www.ubereats.com/new-york/food-delivery/amalfi-cafe/VdzUc1XxQjuCAOIieBxRvA\n",
      "Restaurant error: The read operation timed out url: https://www.ubereats.com/new-york/food-delivery/gigino-trattoria/SgNDaiwvSeqknUM6xrDPbg\n",
      "Restaurant error: HTTP Error 410: Gone url: https://www.ubereats.com/new-york/food-delivery/cafe-cluny/xGaTeZXPR02UfWI2WqsQFQ\n",
      "Restaurant error: Remote end closed connection without response url: https://www.ubereats.com/new-york/food-delivery/best-burgers-murray-hill/r5DMTv0-Rc-1jlHtGPFXqQ\n",
      "Restaurant error: The read operation timed out url: https://www.ubereats.com/new-york/food-delivery/boticarios/kFgG0XQbTkq3dy1BQOKeOA\n",
      "\n"
     ]
    }
   ],
   "source": [
    "execute_city(\"new-york\")"
   ]
  },
  {
   "cell_type": "code",
   "execution_count": null,
   "metadata": {
    "collapsed": true
   },
   "outputs": [],
   "source": []
  }
 ],
 "metadata": {
  "kernelspec": {
   "display_name": "Python 3",
   "language": "python",
   "name": "python3"
  },
  "language_info": {
   "codemirror_mode": {
    "name": "ipython",
    "version": 3
   },
   "file_extension": ".py",
   "mimetype": "text/x-python",
   "name": "python",
   "nbconvert_exporter": "python",
   "pygments_lexer": "ipython3",
   "version": "3.6.9"
  }
 },
 "nbformat": 4,
 "nbformat_minor": 0
}
