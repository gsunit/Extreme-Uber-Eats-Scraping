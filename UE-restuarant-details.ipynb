{
 "cells": [
  {
   "cell_type": "code",
   "execution_count": 31,
   "metadata": {
    "collapsed": true
   },
   "outputs": [],
   "source": [
    "from IPython.core.interactiveshell import InteractiveShell\n",
    "InteractiveShell.ast_node_interactivity = \"all\"\n",
    "\n",
    "from urllib.request import Request, urlopen\n",
    "from bs4 import BeautifulSoup\n",
    "import re\n",
    "import time\n",
    "import json\n",
    "import csv"
   ]
  },
  {
   "cell_type": "code",
   "execution_count": 32,
   "metadata": {
    "collapsed": false
   },
   "outputs": [
    {
     "data": {
      "text/html": [
       "<div>\n",
       "<style>\n",
       "    .dataframe thead tr:only-child th {\n",
       "        text-align: right;\n",
       "    }\n",
       "\n",
       "    .dataframe thead th {\n",
       "        text-align: left;\n",
       "    }\n",
       "\n",
       "    .dataframe tbody tr th {\n",
       "        vertical-align: top;\n",
       "    }\n",
       "</style>\n",
       "<table border=\"1\" class=\"dataframe\">\n",
       "  <thead>\n",
       "    <tr style=\"text-align: right;\">\n",
       "      <th></th>\n",
       "      <th>url</th>\n",
       "      <th>city</th>\n",
       "    </tr>\n",
       "  </thead>\n",
       "  <tbody>\n",
       "    <tr>\n",
       "      <th>0</th>\n",
       "      <td>https://www.ubereats.com/new-york/food-deliver...</td>\n",
       "      <td>new-york</td>\n",
       "    </tr>\n",
       "    <tr>\n",
       "      <th>1</th>\n",
       "      <td>https://www.ubereats.com/new-york/food-deliver...</td>\n",
       "      <td>new-york</td>\n",
       "    </tr>\n",
       "    <tr>\n",
       "      <th>2</th>\n",
       "      <td>https://www.ubereats.com/new-york/food-deliver...</td>\n",
       "      <td>new-york</td>\n",
       "    </tr>\n",
       "    <tr>\n",
       "      <th>3</th>\n",
       "      <td>https://www.ubereats.com/new-york/food-deliver...</td>\n",
       "      <td>new-york</td>\n",
       "    </tr>\n",
       "    <tr>\n",
       "      <th>4</th>\n",
       "      <td>https://www.ubereats.com/new-york/food-deliver...</td>\n",
       "      <td>new-york</td>\n",
       "    </tr>\n",
       "  </tbody>\n",
       "</table>\n",
       "</div>"
      ],
      "text/plain": [
       "                                                 url      city\n",
       "0  https://www.ubereats.com/new-york/food-deliver...  new-york\n",
       "1  https://www.ubereats.com/new-york/food-deliver...  new-york\n",
       "2  https://www.ubereats.com/new-york/food-deliver...  new-york\n",
       "3  https://www.ubereats.com/new-york/food-deliver...  new-york\n",
       "4  https://www.ubereats.com/new-york/food-deliver...  new-york"
      ]
     },
     "execution_count": 32,
     "metadata": {},
     "output_type": "execute_result"
    }
   ],
   "source": [
    "import pandas as pd\n",
    "urls_df = pd.read_csv('./archive/UE-NY-rest-urls.csv')\n",
    "urls_df.head()"
   ]
  },
  {
   "cell_type": "code",
   "execution_count": 33,
   "metadata": {
    "collapsed": true
   },
   "outputs": [],
   "source": [
    "def get_rest_details(rest_url, error_rests):\n",
    "    start_time = time.time()\n",
    "    rest_obj = {}\n",
    "    try:\n",
    "        req = Request(rest_url, headers={'User-Agent': 'Mozilla/5.0', 'Accept': 'text/html,application/xhtml+xml,application/xml'})\n",
    "        webpage = urlopen(req, timeout=10).read()\n",
    "        soup = BeautifulSoup(webpage, 'html.parser')\n",
    "        rest_obj = json.loads(soup.find(\"script\", type=\"application/ld+json\").text)\n",
    "#         print(rest_obj['name'])\n",
    "    except Exception as e:\n",
    "        print(f\"\\nerror: {e}\\n url: {rest_url}\")\n",
    "        error_rests.append(rest_url)\n",
    "    elapsed_time = time.time()-start_time\n",
    "#     print(f\"elapsed time: {elapsed_time}\")\n",
    "    return rest_obj"
   ]
  },
  {
   "cell_type": "code",
   "execution_count": 34,
   "metadata": {
    "collapsed": false
   },
   "outputs": [],
   "source": [
    "def scrap_all_rest(urls_df, f, error_rests):\n",
    "    start_time = time.time()\n",
    "    num_rests = urls_df.shape[0]\n",
    "    writer = csv.writer(f, delimiter=',')\n",
    "    for i in range(2613, num_rests):\n",
    "        curr_rest = urls_df.iloc[i]\n",
    "        if i % 10 == 0:\n",
    "                print(f\"Progress: {(i*100)//num_rests}%, restaurants done: {i}, time elapsed: {time.time()-start_time}\")\n",
    "                \n",
    "        try:\n",
    "            obj = get_rest_details(curr_rest.url, error_rests)\n",
    "            writer.writerow([\n",
    "                obj['name'].replace(';', ''),\n",
    "                curr_rest.city,\n",
    "                obj.get('servesCuisine'),\n",
    "                obj.get('aggregateRating'),\n",
    "                obj.get('priceRange'),\n",
    "                obj.get('geo'),\n",
    "                obj.get('telephone'),\n",
    "                curr_rest.url,\n",
    "                obj.get('address'),\n",
    "                obj.get('openingHoursSpecification'),\n",
    "            ])\n",
    "        except Exception as e:\n",
    "            print(f\"\\nerror: {e}\\n url: {curr_rest.url}\")\n",
    "            error_rests.append(curr_rest.url)\n",
    "\n",
    "    elapsed_time = time.time()-start_time\n",
    "    print(f\"total time: {elapsed_time}, error count: {len(error_rests)}\")\n",
    "    return error_rests"
   ]
  },
  {
   "cell_type": "code",
   "execution_count": 35,
   "metadata": {
    "collapsed": false
   },
   "outputs": [
    {
     "name": "stdout",
     "output_type": "stream",
     "text": [
      "Progress: 84%, restaurants done: 2620, time elapsed: 15.071674585342407\n",
      "Progress: 84%, restaurants done: 2630, time elapsed: 43.47372341156006\n",
      "\n",
      "error: The read operation timed out\n",
      " url: https://www.ubereats.com/new-york/food-delivery/tasali-alqahera-al-tawreya/oXVZtixNSuWZOQHJPAIbDQ\n",
      "\n",
      "error: 'name'\n",
      " url: https://www.ubereats.com/new-york/food-delivery/tasali-alqahera-al-tawreya/oXVZtixNSuWZOQHJPAIbDQ\n",
      "Progress: 84%, restaurants done: 2640, time elapsed: 78.80008220672607\n",
      "Progress: 85%, restaurants done: 2650, time elapsed: 110.55680871009827\n",
      "Progress: 85%, restaurants done: 2660, time elapsed: 140.93718338012695\n",
      "\n",
      "error: The read operation timed out\n",
      " url: https://www.ubereats.com/new-york/food-delivery/turkish-kitchen/h_jjrsXLTzidjC4pY_fW4A\n",
      "\n",
      "error: 'name'\n",
      " url: https://www.ubereats.com/new-york/food-delivery/turkish-kitchen/h_jjrsXLTzidjC4pY_fW4A\n",
      "Progress: 85%, restaurants done: 2670, time elapsed: 173.82835507392883\n",
      "Progress: 86%, restaurants done: 2680, time elapsed: 197.8453507423401\n",
      "\n",
      "error: The read operation timed out\n",
      " url: https://www.ubereats.com/new-york/food-delivery/sole-di-capri/zRA_14GEQeGV6rgKb8NyHA\n",
      "\n",
      "error: 'name'\n",
      " url: https://www.ubereats.com/new-york/food-delivery/sole-di-capri/zRA_14GEQeGV6rgKb8NyHA\n",
      "Progress: 86%, restaurants done: 2690, time elapsed: 231.25687050819397\n",
      "Progress: 86%, restaurants done: 2700, time elapsed: 256.6324272155762\n",
      "Progress: 87%, restaurants done: 2710, time elapsed: 277.4063482284546\n",
      "Progress: 87%, restaurants done: 2720, time elapsed: 298.3420262336731\n",
      "Progress: 87%, restaurants done: 2730, time elapsed: 323.7449951171875\n",
      "Progress: 87%, restaurants done: 2740, time elapsed: 344.51623797416687\n",
      "\n",
      "error: The read operation timed out\n",
      " url: https://www.ubereats.com/new-york/food-delivery/tsq-brasserie/VtuIrDXpS66JjyMTuMdMTg\n",
      "\n",
      "error: 'name'\n",
      " url: https://www.ubereats.com/new-york/food-delivery/tsq-brasserie/VtuIrDXpS66JjyMTuMdMTg\n",
      "Progress: 88%, restaurants done: 2750, time elapsed: 378.92360615730286\n",
      "Progress: 88%, restaurants done: 2760, time elapsed: 401.130934715271\n",
      "Progress: 88%, restaurants done: 2770, time elapsed: 432.2794988155365\n",
      "Progress: 89%, restaurants done: 2780, time elapsed: 467.08018732070923\n",
      "\n",
      "error: The read operation timed out\n",
      " url: https://www.ubereats.com/new-york/food-delivery/smac-east-village/F32sN5eFT8yHHoDBbK6u7g\n",
      "\n",
      "error: 'name'\n",
      " url: https://www.ubereats.com/new-york/food-delivery/smac-east-village/F32sN5eFT8yHHoDBbK6u7g\n",
      "Progress: 89%, restaurants done: 2790, time elapsed: 503.83667397499084\n",
      "Progress: 89%, restaurants done: 2800, time elapsed: 530.4180951118469\n",
      "Progress: 90%, restaurants done: 2810, time elapsed: 552.7600765228271\n",
      "Progress: 90%, restaurants done: 2820, time elapsed: 577.8239619731903\n",
      "Progress: 90%, restaurants done: 2830, time elapsed: 602.9792165756226\n",
      "\n",
      "error: The read operation timed out\n",
      " url: https://www.ubereats.com/new-york/food-delivery/little-gios-pizza/KA5vtADYQuaFa1_WT6DuPA\n",
      "\n",
      "error: 'name'\n",
      " url: https://www.ubereats.com/new-york/food-delivery/little-gios-pizza/KA5vtADYQuaFa1_WT6DuPA\n",
      "Progress: 91%, restaurants done: 2840, time elapsed: 638.4947865009308\n",
      "Progress: 91%, restaurants done: 2850, time elapsed: 660.1519348621368\n",
      "Progress: 91%, restaurants done: 2860, time elapsed: 691.5227873325348\n",
      "Progress: 92%, restaurants done: 2870, time elapsed: 715.2589957714081\n",
      "Progress: 92%, restaurants done: 2880, time elapsed: 743.5285294055939\n",
      "Progress: 92%, restaurants done: 2890, time elapsed: 765.7240827083588\n",
      "Progress: 93%, restaurants done: 2900, time elapsed: 789.4308326244354\n",
      "Progress: 93%, restaurants done: 2910, time elapsed: 812.4819459915161\n",
      "Progress: 93%, restaurants done: 2920, time elapsed: 838.7759349346161\n",
      "Progress: 94%, restaurants done: 2930, time elapsed: 859.5863099098206\n",
      "Progress: 94%, restaurants done: 2940, time elapsed: 882.1783051490784\n",
      "\n",
      "error: The read operation timed out\n",
      " url: https://www.ubereats.com/new-york/food-delivery/pinklady-cheese-tart/2ztGrxPPRJ6XKhxTKHXz7g\n",
      "\n",
      "error: 'name'\n",
      " url: https://www.ubereats.com/new-york/food-delivery/pinklady-cheese-tart/2ztGrxPPRJ6XKhxTKHXz7g\n",
      "Progress: 94%, restaurants done: 2950, time elapsed: 910.4300055503845\n",
      "Progress: 95%, restaurants done: 2960, time elapsed: 933.141471862793\n",
      "Progress: 95%, restaurants done: 2970, time elapsed: 956.5828669071198\n",
      "\n",
      "error: The read operation timed out\n",
      " url: https://www.ubereats.com/new-york/food-delivery/the-good-rice-bowls/H0OP9ieJQUCZlI_lgszIUA\n",
      "\n",
      "error: 'name'\n",
      " url: https://www.ubereats.com/new-york/food-delivery/the-good-rice-bowls/H0OP9ieJQUCZlI_lgszIUA\n",
      "Progress: 95%, restaurants done: 2980, time elapsed: 985.6091470718384\n",
      "Progress: 96%, restaurants done: 2990, time elapsed: 1011.8942494392395\n",
      "Progress: 96%, restaurants done: 3000, time elapsed: 1035.881089925766\n",
      "Progress: 96%, restaurants done: 3010, time elapsed: 1060.2278974056244\n",
      "Progress: 96%, restaurants done: 3020, time elapsed: 1084.3717513084412\n",
      "Progress: 97%, restaurants done: 3030, time elapsed: 1108.0532410144806\n",
      "Progress: 97%, restaurants done: 3040, time elapsed: 1134.1065442562103\n",
      "Progress: 97%, restaurants done: 3050, time elapsed: 1156.9433274269104\n",
      "Progress: 98%, restaurants done: 3060, time elapsed: 1184.1317608356476\n",
      "Progress: 98%, restaurants done: 3070, time elapsed: 1204.7769269943237\n",
      "Progress: 98%, restaurants done: 3080, time elapsed: 1235.3369920253754\n",
      "\n",
      "error: The read operation timed out\n",
      " url: https://www.ubereats.com/new-york/food-delivery/maestro-pasta/JAa12l6YQzeLQXcI3bBoLw\n",
      "\n",
      "error: 'name'\n",
      " url: https://www.ubereats.com/new-york/food-delivery/maestro-pasta/JAa12l6YQzeLQXcI3bBoLw\n",
      "Progress: 99%, restaurants done: 3090, time elapsed: 1271.070456981659\n",
      "Progress: 99%, restaurants done: 3100, time elapsed: 1299.6772890090942\n",
      "Progress: 99%, restaurants done: 3110, time elapsed: 1323.206711769104\n",
      "total time: 1332.1147186756134, error count: 18\n"
     ]
    },
    {
     "data": {
      "text/plain": [
       "['https://www.ubereats.com/new-york/food-delivery/tasali-alqahera-al-tawreya/oXVZtixNSuWZOQHJPAIbDQ',\n",
       " 'https://www.ubereats.com/new-york/food-delivery/tasali-alqahera-al-tawreya/oXVZtixNSuWZOQHJPAIbDQ',\n",
       " 'https://www.ubereats.com/new-york/food-delivery/turkish-kitchen/h_jjrsXLTzidjC4pY_fW4A',\n",
       " 'https://www.ubereats.com/new-york/food-delivery/turkish-kitchen/h_jjrsXLTzidjC4pY_fW4A',\n",
       " 'https://www.ubereats.com/new-york/food-delivery/sole-di-capri/zRA_14GEQeGV6rgKb8NyHA',\n",
       " 'https://www.ubereats.com/new-york/food-delivery/sole-di-capri/zRA_14GEQeGV6rgKb8NyHA',\n",
       " 'https://www.ubereats.com/new-york/food-delivery/tsq-brasserie/VtuIrDXpS66JjyMTuMdMTg',\n",
       " 'https://www.ubereats.com/new-york/food-delivery/tsq-brasserie/VtuIrDXpS66JjyMTuMdMTg',\n",
       " 'https://www.ubereats.com/new-york/food-delivery/smac-east-village/F32sN5eFT8yHHoDBbK6u7g',\n",
       " 'https://www.ubereats.com/new-york/food-delivery/smac-east-village/F32sN5eFT8yHHoDBbK6u7g',\n",
       " 'https://www.ubereats.com/new-york/food-delivery/little-gios-pizza/KA5vtADYQuaFa1_WT6DuPA',\n",
       " 'https://www.ubereats.com/new-york/food-delivery/little-gios-pizza/KA5vtADYQuaFa1_WT6DuPA',\n",
       " 'https://www.ubereats.com/new-york/food-delivery/pinklady-cheese-tart/2ztGrxPPRJ6XKhxTKHXz7g',\n",
       " 'https://www.ubereats.com/new-york/food-delivery/pinklady-cheese-tart/2ztGrxPPRJ6XKhxTKHXz7g',\n",
       " 'https://www.ubereats.com/new-york/food-delivery/the-good-rice-bowls/H0OP9ieJQUCZlI_lgszIUA',\n",
       " 'https://www.ubereats.com/new-york/food-delivery/the-good-rice-bowls/H0OP9ieJQUCZlI_lgszIUA',\n",
       " 'https://www.ubereats.com/new-york/food-delivery/maestro-pasta/JAa12l6YQzeLQXcI3bBoLw',\n",
       " 'https://www.ubereats.com/new-york/food-delivery/maestro-pasta/JAa12l6YQzeLQXcI3bBoLw']"
      ]
     },
     "execution_count": 35,
     "metadata": {},
     "output_type": "execute_result"
    }
   ],
   "source": [
    "f = open('./UE-NY-rest-details.csv', 'a')\n",
    "error_rests = []\n",
    "scrap_all_rest(urls_df, f, error_rests)\n",
    "# curr_rest = urls_df.iloc[0]\n",
    "# curr_rest.url"
   ]
  },
  {
   "cell_type": "code",
   "execution_count": 43,
   "metadata": {
    "collapsed": false
   },
   "outputs": [],
   "source": [
    "error_rests = ['https://www.ubereats.com/new-york/food-delivery/the-snack-pusher-murray-hill/80WsNn47TVeQ-AQM_BLuBg',\n",
    " 'https://www.ubereats.com/new-york/food-delivery/cafe-oliviero/jpppMJulSWiCJFn1_K4iMg',\n",
    " 'https://www.ubereats.com/new-york/food-delivery/city-burger-co/XrWTliv2QM2GFefDHTdRkg',\n",
    " 'https://www.ubereats.com/new-york/food-delivery/the-ice-cream-shop/2y6yFh_HS4q5isxaScOFFg',\n",
    " 'https://www.ubereats.com/new-york/food-delivery/tasali-alqahera-al-tawreya/oXVZtixNSuWZOQHJPAIbDQ',\n",
    " 'https://www.ubereats.com/new-york/food-delivery/tasali-alqahera-al-tawreya/oXVZtixNSuWZOQHJPAIbDQ',\n",
    " 'https://www.ubereats.com/new-york/food-delivery/turkish-kitchen/h_jjrsXLTzidjC4pY_fW4A',\n",
    " 'https://www.ubereats.com/new-york/food-delivery/turkish-kitchen/h_jjrsXLTzidjC4pY_fW4A',\n",
    " 'https://www.ubereats.com/new-york/food-delivery/sole-di-capri/zRA_14GEQeGV6rgKb8NyHA',\n",
    " 'https://www.ubereats.com/new-york/food-delivery/sole-di-capri/zRA_14GEQeGV6rgKb8NyHA',\n",
    " 'https://www.ubereats.com/new-york/food-delivery/tsq-brasserie/VtuIrDXpS66JjyMTuMdMTg',\n",
    " 'https://www.ubereats.com/new-york/food-delivery/tsq-brasserie/VtuIrDXpS66JjyMTuMdMTg',\n",
    " 'https://www.ubereats.com/new-york/food-delivery/smac-east-village/F32sN5eFT8yHHoDBbK6u7g',\n",
    " 'https://www.ubereats.com/new-york/food-delivery/smac-east-village/F32sN5eFT8yHHoDBbK6u7g',\n",
    " 'https://www.ubereats.com/new-york/food-delivery/little-gios-pizza/KA5vtADYQuaFa1_WT6DuPA',\n",
    " 'https://www.ubereats.com/new-york/food-delivery/little-gios-pizza/KA5vtADYQuaFa1_WT6DuPA',\n",
    " 'https://www.ubereats.com/new-york/food-delivery/pinklady-cheese-tart/2ztGrxPPRJ6XKhxTKHXz7g',\n",
    " 'https://www.ubereats.com/new-york/food-delivery/pinklady-cheese-tart/2ztGrxPPRJ6XKhxTKHXz7g',\n",
    " 'https://www.ubereats.com/new-york/food-delivery/the-good-rice-bowls/H0OP9ieJQUCZlI_lgszIUA',\n",
    " 'https://www.ubereats.com/new-york/food-delivery/the-good-rice-bowls/H0OP9ieJQUCZlI_lgszIUA',\n",
    " 'https://www.ubereats.com/new-york/food-delivery/maestro-pasta/JAa12l6YQzeLQXcI3bBoLw',\n",
    " 'https://www.ubereats.com/new-york/food-delivery/maestro-pasta/JAa12l6YQzeLQXcI3bBoLw',\n",
    " 'https://www.ubereats.com/new-york/food-delivery/the-snack-pusher-murray-hill/80WsNn47TVeQ-AQM_BLuBg',\n",
    " 'https://www.ubereats.com/new-york/food-delivery/cafe-oliviero/jpppMJulSWiCJFn1_K4iMg',\n",
    " 'https://www.ubereats.com/new-york/food-delivery/city-burger-co/XrWTliv2QM2GFefDHTdRkg',\n",
    " 'https://www.ubereats.com/new-york/food-delivery/the-ice-cream-shop/2y6yFh_HS4q5isxaScOFFg']"
   ]
  },
  {
   "cell_type": "code",
   "execution_count": 29,
   "metadata": {
    "collapsed": false
   },
   "outputs": [
    {
     "name": "stdout",
     "output_type": "stream",
     "text": [
      "\n",
      "error: The read operation timed out\n",
      " url: https://www.ubereats.com/new-york/food-delivery/sabor-a-mexico-taqueria/octOySNDTOa9_yTq8Zvzgg\n"
     ]
    }
   ],
   "source": [
    "url = urls_df.iloc[2613]['url']\n",
    "obj = get_rest_details(url, error_rests=[])"
   ]
  },
  {
   "cell_type": "code",
   "execution_count": 24,
   "metadata": {
    "collapsed": false
   },
   "outputs": [],
   "source": [
    "req = Request(url, headers={'User-Agent': 'Mozilla/5.0', 'Accept': 'text/html,application/xhtml+xml,application/xml'})\n",
    "webpage = urlopen(req).read()"
   ]
  },
  {
   "cell_type": "code",
   "execution_count": 26,
   "metadata": {
    "collapsed": false
   },
   "outputs": [
    {
     "data": {
      "text/plain": [
       "{'@context': 'http://schema.org',\n",
       " '@id': 'https://www.ubereats.com/new-york/food-delivery/sabor-a-mexico-taqueria/octOySNDTOa9_yTq8Zvzgg',\n",
       " '@type': 'Restaurant',\n",
       " 'address': {'@type': 'PostalAddress',\n",
       "  'addressCountry': 'US',\n",
       "  'addressLocality': 'New York',\n",
       "  'addressRegion': 'NY',\n",
       "  'postalCode': '10009',\n",
       "  'streetAddress': '160 1st Ave'},\n",
       " 'aggregateRating': {'@type': 'AggregateRating',\n",
       "  'ratingValue': 4.5,\n",
       "  'reviewCount': '10'},\n",
       " 'geo': {'@type': 'GeoCoordinates',\n",
       "  'latitude': 40.7284624,\n",
       "  'longitude': -73.9841764},\n",
       " 'image': ['https://d1ralsognjng37.cloudfront.net/114d705b-c330-49ca-b094-b27747e30651.jpeg',\n",
       "  'https://d1ralsognjng37.cloudfront.net/497bb308-c317-4f6d-a01c-db52f1df30aa.jpeg',\n",
       "  'https://d1ralsognjng37.cloudfront.net/675f23dd-1b7d-45c7-8d32-53ccd6727c23.jpeg',\n",
       "  'https://d1ralsognjng37.cloudfront.net/e606252b-ca98-44c6-94a8-0c13e4633829.jpeg',\n",
       "  'https://d1ralsognjng37.cloudfront.net/087452a6-611b-4608-b450-166c0acf4210.jpeg',\n",
       "  'https://d1ralsognjng37.cloudfront.net/f9fc50a6-a414-4be1-a03b-215638380735.jpeg'],\n",
       " 'name': 'Sabor A Mexico Taqueria',\n",
       " 'openingHoursSpecification': [{'@type': 'OpeningHoursSpecification',\n",
       "   'closes': '22:0',\n",
       "   'dayOfWeek': 'Sunday',\n",
       "   'opens': '12:0'},\n",
       "  {'@type': 'OpeningHoursSpecification',\n",
       "   'closes': '21:25',\n",
       "   'dayOfWeek': ['Monday', 'Tuesday', 'Wednesday', 'Thursday'],\n",
       "   'opens': '13:30'},\n",
       "  {'@type': 'OpeningHoursSpecification',\n",
       "   'closes': '16:0',\n",
       "   'dayOfWeek': ['Monday', 'Tuesday', 'Wednesday', 'Thursday'],\n",
       "   'opens': '11:30'},\n",
       "  {'@type': 'OpeningHoursSpecification',\n",
       "   'closes': '22:0',\n",
       "   'dayOfWeek': 'Friday',\n",
       "   'opens': '12:0'},\n",
       "  {'@type': 'OpeningHoursSpecification',\n",
       "   'closes': '16:0',\n",
       "   'dayOfWeek': 'Friday',\n",
       "   'opens': '11:30'},\n",
       "  {'@type': 'OpeningHoursSpecification',\n",
       "   'closes': '22:0',\n",
       "   'dayOfWeek': 'Saturday',\n",
       "   'opens': '12:0'}],\n",
       " 'potentialAction': {'@type': 'OrderAction',\n",
       "  'deliveryMethod': ['http://purl.org/goodrelations/v1#DeliveryModeOwnFleet',\n",
       "   'http://purl.org/goodrelations/v1#DeliveryModePickUp'],\n",
       "  'target': {'@type': 'EntryPoint',\n",
       "   'actionPlatform': ['http://schema.org/DesktopWebPlatform',\n",
       "    'http://schema.org/MobileWebPlatform'],\n",
       "   'inLanguage': 'English',\n",
       "   'urlTemplate': 'https://www.ubereats.com/new-york/food-delivery/sabor-a-mexico-taqueria/octOySNDTOa9_yTq8Zvzgg?utm_campaign=order-action&amp;utm_medium=organic'}},\n",
       " 'priceRange': '$',\n",
       " 'servesCuisine': ['Mexican', 'Latin American'],\n",
       " 'telephone': '+12125334002'}"
      ]
     },
     "execution_count": 26,
     "metadata": {},
     "output_type": "execute_result"
    }
   ],
   "source": [
    "obj"
   ]
  }
 ],
 "metadata": {
  "kernelspec": {
   "display_name": "Python 3",
   "language": "python",
   "name": "python3"
  },
  "language_info": {
   "codemirror_mode": {
    "name": "ipython",
    "version": 3
   },
   "file_extension": ".py",
   "mimetype": "text/x-python",
   "name": "python",
   "nbconvert_exporter": "python",
   "pygments_lexer": "ipython3",
   "version": "3.6.9"
  }
 },
 "nbformat": 4,
 "nbformat_minor": 0
}
