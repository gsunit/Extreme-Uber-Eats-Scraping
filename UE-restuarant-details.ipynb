{
 "cells": [
  {
   "cell_type": "code",
   "execution_count": null,
   "metadata": {
    "collapsed": true
   },
   "outputs": [],
   "source": [
    "from IPython.core.interactiveshell import InteractiveShell\n",
    "InteractiveShell.ast_node_interactivity = \"all\"\n",
    "\n",
    "from urllib.request import Request, urlopen\n",
    "from bs4 import BeautifulSoup\n",
    "import re\n",
    "import time\n",
    "import json\n",
    "import csv"
   ]
  },
  {
   "cell_type": "code",
   "execution_count": null,
   "metadata": {
    "collapsed": false
   },
   "outputs": [],
   "source": [
    "import pandas as pd\n",
    "urls_df = pd.read_csv('./archive/UE-NY-rest-urls.csv')\n",
    "urls_df.head()"
   ]
  },
  {
   "cell_type": "code",
   "execution_count": null,
   "metadata": {
    "collapsed": true
   },
   "outputs": [],
   "source": [
    "def get_rest_details(rest_url, error_rests):\n",
    "    start_time = time.time()\n",
    "    rest_obj = {}\n",
    "    try:\n",
    "        req = Request(rest_url, headers={'User-Agent': 'Mozilla/5.0', 'Accept': 'text/html,application/xhtml+xml,application/xml'})\n",
    "        webpage = urlopen(req, timeout=10).read()\n",
    "        soup = BeautifulSoup(webpage, 'html.parser')\n",
    "        rest_obj = json.loads(soup.find(\"script\", type=\"application/ld+json\").text)\n",
    "    except Exception as e:\n",
    "        print(f\"\\nerror: {e}\\n url: {rest_url}\")\n",
    "        error_rests.append(rest_url)\n",
    "    elapsed_time = time.time()-start_time\n",
    "    return rest_obj"
   ]
  },
  {
   "cell_type": "code",
   "execution_count": null,
   "metadata": {
    "collapsed": false
   },
   "outputs": [],
   "source": [
    "def scrap_all_rest(urls_df, f, error_rests):\n",
    "    start_time = time.time()\n",
    "    num_rests = urls_df.shape[0]\n",
    "    writer = csv.writer(f, delimiter=',')\n",
    "    for i in range(2613, num_rests):\n",
    "        curr_rest = urls_df.iloc[i]\n",
    "        if i % 10 == 0:\n",
    "                print(f\"Progress: {(i*100)//num_rests}%, restaurants done: {i}, time elapsed: {time.time()-start_time}\")\n",
    "                \n",
    "        try:\n",
    "            obj = get_rest_details(curr_rest.url, error_rests)\n",
    "            writer.writerow([\n",
    "                obj['name'].replace(';', ''),\n",
    "                curr_rest.city,\n",
    "                obj.get('servesCuisine'),\n",
    "                obj.get('aggregateRating'),\n",
    "                obj.get('priceRange'),\n",
    "                obj.get('geo'),\n",
    "                obj.get('telephone'),\n",
    "                curr_rest.url,\n",
    "                obj.get('address'),\n",
    "                obj.get('openingHoursSpecification'),\n",
    "            ])\n",
    "        except Exception as e:\n",
    "            print(f\"\\nerror: {e}\\n url: {curr_rest.url}\")\n",
    "            error_rests.append(curr_rest.url)\n",
    "\n",
    "    elapsed_time = time.time()-start_time\n",
    "    print(f\"total time: {elapsed_time}, error count: {len(error_rests)}\")\n",
    "    return error_rests"
   ]
  },
  {
   "cell_type": "code",
   "execution_count": null,
   "metadata": {
    "collapsed": false
   },
   "outputs": [],
   "source": [
    "f = open('./UE-NY-rest-details.csv', 'a')\n",
    "error_rests = []\n",
    "scrap_all_rest(urls_df, f, error_rests)\n",
    "# curr_rest = urls_df.iloc[0]\n",
    "# curr_rest.url"
   ]
  }
 ],
 "metadata": {
  "kernelspec": {
   "display_name": "Python 3",
   "language": "python",
   "name": "python3"
  },
  "language_info": {
   "codemirror_mode": {
    "name": "ipython",
    "version": 3
   },
   "file_extension": ".py",
   "mimetype": "text/x-python",
   "name": "python",
   "nbconvert_exporter": "python",
   "pygments_lexer": "ipython3",
   "version": "3.6.9"
  }
 },
 "nbformat": 4,
 "nbformat_minor": 0
}
