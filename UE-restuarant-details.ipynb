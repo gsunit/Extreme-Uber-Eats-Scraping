{
 "cells": [
  {
   "cell_type": "code",
   "execution_count": 2,
   "metadata": {
    "collapsed": false
   },
   "outputs": [],
   "source": [
    "from IPython.core.interactiveshell import InteractiveShell\n",
    "InteractiveShell.ast_node_interactivity = \"all\"\n",
    "\n",
    "from urllib.request import Request, urlopen\n",
    "from bs4 import BeautifulSoup\n",
    "import re\n",
    "import time\n",
    "import json\n",
    "import csv\n",
    "from concurrent.futures import ThreadPoolExecutor, as_completed\n",
    "from tqdm import tqdm_notebook\n",
    "\n",
    "HEADERS = {'User-Agent': 'Mozilla/5.0', 'Accept': 'text/html,application/xhtml+xml,application/xml'}"
   ]
  },
  {
   "cell_type": "code",
   "execution_count": 3,
   "metadata": {
    "collapsed": false
   },
   "outputs": [
    {
     "data": {
      "text/html": [
       "<div>\n",
       "<style>\n",
       "    .dataframe thead tr:only-child th {\n",
       "        text-align: right;\n",
       "    }\n",
       "\n",
       "    .dataframe thead th {\n",
       "        text-align: left;\n",
       "    }\n",
       "\n",
       "    .dataframe tbody tr th {\n",
       "        vertical-align: top;\n",
       "    }\n",
       "</style>\n",
       "<table border=\"1\" class=\"dataframe\">\n",
       "  <thead>\n",
       "    <tr style=\"text-align: right;\">\n",
       "      <th></th>\n",
       "      <th>url</th>\n",
       "      <th>city</th>\n",
       "    </tr>\n",
       "  </thead>\n",
       "  <tbody>\n",
       "    <tr>\n",
       "      <th>0</th>\n",
       "      <td>https://www.ubereats.com/new-york/food-deliver...</td>\n",
       "      <td>new-york</td>\n",
       "    </tr>\n",
       "    <tr>\n",
       "      <th>1</th>\n",
       "      <td>https://www.ubereats.com/new-york/food-deliver...</td>\n",
       "      <td>new-york</td>\n",
       "    </tr>\n",
       "    <tr>\n",
       "      <th>2</th>\n",
       "      <td>https://www.ubereats.com/new-york/food-deliver...</td>\n",
       "      <td>new-york</td>\n",
       "    </tr>\n",
       "    <tr>\n",
       "      <th>3</th>\n",
       "      <td>https://www.ubereats.com/new-york/food-deliver...</td>\n",
       "      <td>new-york</td>\n",
       "    </tr>\n",
       "    <tr>\n",
       "      <th>4</th>\n",
       "      <td>https://www.ubereats.com/new-york/food-deliver...</td>\n",
       "      <td>new-york</td>\n",
       "    </tr>\n",
       "  </tbody>\n",
       "</table>\n",
       "</div>"
      ],
      "text/plain": [
       "                                                 url      city\n",
       "0  https://www.ubereats.com/new-york/food-deliver...  new-york\n",
       "1  https://www.ubereats.com/new-york/food-deliver...  new-york\n",
       "2  https://www.ubereats.com/new-york/food-deliver...  new-york\n",
       "3  https://www.ubereats.com/new-york/food-deliver...  new-york\n",
       "4  https://www.ubereats.com/new-york/food-deliver...  new-york"
      ]
     },
     "execution_count": 3,
     "metadata": {},
     "output_type": "execute_result"
    }
   ],
   "source": [
    "import pandas as pd\n",
    "urls_df = pd.read_csv('./archive/UE-NY-rest-urls.csv')\n",
    "urls_df.head()"
   ]
  },
  {
   "cell_type": "code",
   "execution_count": 4,
   "metadata": {
    "collapsed": true
   },
   "outputs": [],
   "source": [
    "def get_rest_details(restaurant_url):\n",
    "    start_time = time.time()\n",
    "    restaurant_obj = {}\n",
    "    try:\n",
    "        req = Request(restaurant_url, headers=HEADERS)\n",
    "        webpage = urlopen(req, timeout=20).read()\n",
    "        soup = BeautifulSoup(webpage, 'html.parser')\n",
    "        restaurant_obj = json.loads(soup.find(\"script\", type=\"application/ld+json\").text)\n",
    "    except Exception as e:\n",
    "        print(f\"Restaurant error: {e} url: {restaurant_url}\")\n",
    "    return restaurant_obj"
   ]
  },
  {
   "cell_type": "code",
   "execution_count": 5,
   "metadata": {
    "collapsed": false
   },
   "outputs": [
    {
     "data": {
      "text/plain": [
       "{'@context': 'http://schema.org',\n",
       " '@id': 'https://www.ubereats.com/new-york/food-delivery/vive-la-crepe-colombus-%26-68th-st/E5pHJPJrRV64y20haSxCUQ',\n",
       " '@type': 'Restaurant',\n",
       " 'address': {'@type': 'PostalAddress',\n",
       "  'addressCountry': 'US',\n",
       "  'addressLocality': 'New York',\n",
       "  'addressRegion': 'NY',\n",
       "  'postalCode': '10023',\n",
       "  'streetAddress': '189 Columbus Ave'},\n",
       " 'aggregateRating': {'@type': 'AggregateRating',\n",
       "  'ratingValue': 4.5,\n",
       "  'reviewCount': '19'},\n",
       " 'geo': {'@type': 'GeoCoordinates',\n",
       "  'latitude': 40.7750114,\n",
       "  'longitude': -73.9803166},\n",
       " 'image': ['https://d1ralsognjng37.cloudfront.net/ab7cd8be-4e13-4210-a4af-52a6432d2871.jpeg',\n",
       "  'https://d1ralsognjng37.cloudfront.net/cf8317f1-2bca-4f03-a15a-682d5bffdaba.jpeg',\n",
       "  'https://d1ralsognjng37.cloudfront.net/d217f7ce-0f49-4fe9-8c35-9ffdbdb44c29.jpeg',\n",
       "  'https://d1ralsognjng37.cloudfront.net/a6ce24ca-cd66-445f-a979-d141ce2a919c.jpeg',\n",
       "  'https://d1ralsognjng37.cloudfront.net/703c9b20-1d2f-4d3d-b578-3ce77c415da3.jpeg',\n",
       "  'https://d1ralsognjng37.cloudfront.net/503ba23b-9c70-4120-873c-890dd52f9237.jpeg'],\n",
       " 'name': 'Vive La Crepe - Colombus &amp; 68th St.',\n",
       " 'openingHoursSpecification': [{'@type': 'OpeningHoursSpecification',\n",
       "   'closes': '18:0',\n",
       "   'dayOfWeek': ['Monday',\n",
       "    'Tuesday',\n",
       "    'Wednesday',\n",
       "    'Thursday',\n",
       "    'Friday',\n",
       "    'Saturday',\n",
       "    'Sunday'],\n",
       "   'opens': '9:0'}],\n",
       " 'potentialAction': {'@type': 'OrderAction',\n",
       "  'deliveryMethod': ['http://purl.org/goodrelations/v1#DeliveryModeOwnFleet',\n",
       "   'http://purl.org/goodrelations/v1#DeliveryModePickUp'],\n",
       "  'target': {'@type': 'EntryPoint',\n",
       "   'actionPlatform': ['http://schema.org/DesktopWebPlatform',\n",
       "    'http://schema.org/MobileWebPlatform'],\n",
       "   'inLanguage': 'English',\n",
       "   'urlTemplate': 'https://www.ubereats.com/new-york/food-delivery/vive-la-crepe-colombus-%26-68th-st/E5pHJPJrRV64y20haSxCUQ?utm_campaign=order-action&amp;utm_medium=organic'}},\n",
       " 'priceRange': '$',\n",
       " 'servesCuisine': ['French', 'Coffee and Tea', 'Desserts'],\n",
       " 'telephone': '+6464788008'}"
      ]
     },
     "execution_count": 5,
     "metadata": {},
     "output_type": "execute_result"
    }
   ],
   "source": [
    "r_url = \"https://www.ubereats.com/new-york/food-delivery/vive-la-crepe-colombus-%26-68th-st/E5pHJPJrRV64y20haSxCUQ\"\n",
    "obj = get_rest_details(r_url)\n",
    "obj"
   ]
  },
  {
   "cell_type": "code",
   "execution_count": null,
   "metadata": {
    "collapsed": false
   },
   "outputs": [],
   "source": [
    "def get_inner_object(string):\n",
    "    obj = {}\n",
    "    if string != None:\n",
    "        obj = json.loads(string.replace('\\'', \"\\\"\"))\n",
    "    return obj\n",
    "\n",
    "def scrap_city_restaurants(cityname):\n",
    "    urls_df = pd.read_csv(cityname+\".csv\")\n",
    "    num_restaurants = urls_df.shape[0]\n",
    "    detais_df = pd.DataFrame(columns=\n",
    "                             ['name',\n",
    "                              'city', \n",
    "                              'cuisine', \n",
    "                              'avgRating', \n",
    "                              'numReviews', \n",
    "                              'priceRange', \n",
    "                              'latitude',\n",
    "                              'longitude'\n",
    "                              'telephone', \n",
    "                              'url', \n",
    "                              'postalCode',\n",
    "                              'streetAddress',\n",
    "                              'addressLocality', \n",
    "                              'addressRegion', \n",
    "                              'openingHoursSpecification',\n",
    "                              'addressString',\n",
    "                              'geoString',\n",
    "                              'ratingString'])\n",
    "    \n",
    "    for i in tqdm(range(5), desc=cityname):\n",
    "        curr_rest = urls_df.iloc[i]     \n",
    "        try:\n",
    "            obj = get_rest_details(curr_rest.url, error_rests)\n",
    "            if obj == None:\n",
    "                raise ValueError(f'Error: Obj was none. City: {cityname})\n",
    "            \n",
    "            rating_obj = get_inner_object(obj.get('aggregateRating'))\n",
    "            address_obj = get_inner_object(obj.get('address'))\n",
    "            geo_obj = get_inner_object(obj.get('geo'))\n",
    "            \n",
    "            dict1 = {\n",
    "                        'name': obj['name'],\n",
    "                        'city': curr_rest.city\n",
    "                        'cuisine': obj.get('servesCuisine')\n",
    "                        'avgRating': rating_obj.get('ratingValue'),\n",
    "                        'numReviews': rating_obj.get('reviewCount'),\n",
    "                        'priceRange': obj.get('priceRange'),\n",
    "                        'latitude': geo_obj.get('latitude'),\n",
    "                        'longitude': geo_obj.get('longitude'),\n",
    "                        'telephone': obj.get('telephone'),\n",
    "                        'url': curr_rest.url,\n",
    "                        'postalCode': address_obj.get('postalCode'),\n",
    "                        'streetAddress': address_obj.get('streetAddress'),\n",
    "                        'addressLocality': address_obj.get('addressLocality'),\n",
    "                        'addressRegion': address_obj.get('addressRegion'),\n",
    "                        'openingHoursSpecification': obj.get('openingHoursSpecification'),\n",
    "                        'addressString': obj.get('address'),\n",
    "                        'geoString': obj.get('geo'),\n",
    "                        'ratingString': obj.get('aggregateRating')\n",
    "                    }\n",
    "                                 \n",
    "            \n",
    "        except Exception as e:\n",
    "            print(f\"Error: {e} url: {curr_rest.url}\")"
   ]
  },
  {
   "cell_type": "code",
   "execution_count": null,
   "metadata": {
    "collapsed": true
   },
   "outputs": [],
   "source": [
    "def store_city_restaurants(df):\n",
    "    "
   ]
  },
  {
   "cell_type": "code",
   "execution_count": 6,
   "metadata": {
    "collapsed": false
   },
   "outputs": [
    {
     "data": {
      "text/plain": [
       "'None'"
      ]
     },
     "execution_count": 6,
     "metadata": {},
     "output_type": "execute_result"
    }
   ],
   "source": [
    "str(None)"
   ]
  }
 ],
 "metadata": {
  "kernelspec": {
   "display_name": "Python 3",
   "language": "python",
   "name": "python3"
  },
  "language_info": {
   "codemirror_mode": {
    "name": "ipython",
    "version": 3
   },
   "file_extension": ".py",
   "mimetype": "text/x-python",
   "name": "python",
   "nbconvert_exporter": "python",
   "pygments_lexer": "ipython3",
   "version": "3.6.9"
  }
 },
 "nbformat": 4,
 "nbformat_minor": 0
}
