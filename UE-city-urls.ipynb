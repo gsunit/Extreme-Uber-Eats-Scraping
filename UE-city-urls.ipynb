{
 "cells": [
  {
   "cell_type": "markdown",
   "metadata": {},
   "source": [
    "# Fetch all Uber Eats cities"
   ]
  },
  {
   "cell_type": "code",
   "execution_count": 2,
   "metadata": {
    "collapsed": true
   },
   "outputs": [],
   "source": [
    "from IPython.core.interactiveshell import InteractiveShell\n",
    "InteractiveShell.ast_node_interactivity = \"all\"\n",
    "\n",
    "from urllib.request import Request, urlopen\n",
    "from bs4 import BeautifulSoup\n",
    "import re\n",
    "  \n",
    "URL = \"https://www.ubereats.com/location\"\n",
    "\n",
    "req = Request(URL, headers={'User-Agent': 'Mozilla/5.0', 'Accept': 'text/html,application/xhtml+xml,application/xml'})\n",
    "webpage = urlopen(req).read()\n",
    "# print(webpage)\n",
    "soup = BeautifulSoup(webpage, 'html.parser') "
   ]
  },
  {
   "cell_type": "code",
   "execution_count": 51,
   "metadata": {
    "collapsed": true
   },
   "outputs": [],
   "source": [
    "import pandas as pd\n",
    "df = pd.DataFrame(columns=['city', 'state', 'url'])"
   ]
  },
  {
   "cell_type": "markdown",
   "metadata": {},
   "source": [
    "### Fetching URL of all cities"
   ]
  },
  {
   "cell_type": "code",
   "execution_count": 52,
   "metadata": {
    "collapsed": false
   },
   "outputs": [
    {
     "data": {
      "text/plain": [
       "51"
      ]
     },
     "execution_count": 52,
     "metadata": {},
     "output_type": "execute_result"
    },
    {
     "name": "stdout",
     "output_type": "stream",
     "text": [
      "Processing: Alabama\n",
      "Processing: Alaska\n",
      "Processing: Arizona\n",
      "Processing: Arkansas\n",
      "Processing: California\n",
      "Processing: Colorado\n",
      "Processing: Connecticut\n",
      "Processing: Delaware\n",
      "Processing: District Of Columbia\n",
      "Processing: Florida\n",
      "Processing: Georgia\n",
      "Processing: Hawaii\n",
      "Processing: Idaho\n",
      "Processing: Illinois\n",
      "Processing: Indiana\n",
      "Processing: Iowa\n",
      "Processing: Kansas\n",
      "Processing: Kentucky\n",
      "Processing: Louisiana\n",
      "Processing: Maine\n",
      "Processing: Maryland\n",
      "Processing: Massachusetts\n",
      "Processing: Michigan\n",
      "Processing: Minnesota\n",
      "Processing: Mississippi\n",
      "Processing: Missouri\n",
      "Processing: Montana\n",
      "Processing: Nebraska\n",
      "Processing: Nevada\n",
      "Processing: New Hampshire\n",
      "Processing: New Jersey\n",
      "Processing: New Mexico\n",
      "Processing: New York\n",
      "Processing: North Carolina\n",
      "Processing: North Dakota\n",
      "Processing: Ohio\n",
      "Processing: Oklahoma\n",
      "Processing: Oregon\n",
      "Processing: Pennsylvania\n",
      "Processing: Puerto Rico\n",
      "Processing: Rhode Island\n",
      "Processing: South Carolina\n",
      "Processing: South Dakota\n",
      "Processing: Tennessee\n",
      "Processing: Texas\n",
      "Processing: Utah\n",
      "Processing: Vermont\n",
      "Processing: Virginia\n",
      "Processing: West Virginia\n",
      "Processing: Wisconsin\n",
      "Processing: Wyoming\n"
     ]
    }
   ],
   "source": [
    "states = soup.findAll(\"div\", class_=\"av ax ay\")\n",
    "states = [state for state in states if state.text != \"All Countries\"]\n",
    "len(states)\n",
    "\n",
    "i = 0\n",
    "for state in states:\n",
    "    print(f\"Processing: {state.text}\")\n",
    "    cities = state.parent.parent.findAll(\"a\")\n",
    "    for city in cities:\n",
    "        df.loc[i] = [\n",
    "            city.text,\n",
    "            state.text,\n",
    "            \"https://www.ubereats.com\" + city['href']\n",
    "        ]\n",
    "        i = i+1"
   ]
  },
  {
   "cell_type": "code",
   "execution_count": 72,
   "metadata": {
    "collapsed": false
   },
   "outputs": [
    {
     "data": {
      "text/html": [
       "<div>\n",
       "<style>\n",
       "    .dataframe thead tr:only-child th {\n",
       "        text-align: right;\n",
       "    }\n",
       "\n",
       "    .dataframe thead th {\n",
       "        text-align: left;\n",
       "    }\n",
       "\n",
       "    .dataframe tbody tr th {\n",
       "        vertical-align: top;\n",
       "    }\n",
       "</style>\n",
       "<table border=\"1\" class=\"dataframe\">\n",
       "  <thead>\n",
       "    <tr style=\"text-align: right;\">\n",
       "      <th></th>\n",
       "      <th>city</th>\n",
       "      <th>state</th>\n",
       "      <th>url</th>\n",
       "    </tr>\n",
       "  </thead>\n",
       "  <tbody>\n",
       "    <tr>\n",
       "      <th>0</th>\n",
       "      <td>Auburn</td>\n",
       "      <td>Alabama</td>\n",
       "      <td>https://www.ubereats.com/location/auburn</td>\n",
       "    </tr>\n",
       "    <tr>\n",
       "      <th>1</th>\n",
       "      <td>Birmingham, AL</td>\n",
       "      <td>Alabama</td>\n",
       "      <td>https://www.ubereats.com/location/birmingham-al</td>\n",
       "    </tr>\n",
       "    <tr>\n",
       "      <th>2</th>\n",
       "      <td>Dothan</td>\n",
       "      <td>Alabama</td>\n",
       "      <td>https://www.ubereats.com/location/dothan</td>\n",
       "    </tr>\n",
       "    <tr>\n",
       "      <th>3</th>\n",
       "      <td>Homewood</td>\n",
       "      <td>Alabama</td>\n",
       "      <td>https://www.ubereats.com/location/homewood-ala...</td>\n",
       "    </tr>\n",
       "    <tr>\n",
       "      <th>4</th>\n",
       "      <td>Hoover</td>\n",
       "      <td>Alabama</td>\n",
       "      <td>https://www.ubereats.com/location/hoover-alabama</td>\n",
       "    </tr>\n",
       "  </tbody>\n",
       "</table>\n",
       "</div>"
      ],
      "text/plain": [
       "             city    state                                                url\n",
       "0          Auburn  Alabama           https://www.ubereats.com/location/auburn\n",
       "1  Birmingham, AL  Alabama    https://www.ubereats.com/location/birmingham-al\n",
       "2          Dothan  Alabama           https://www.ubereats.com/location/dothan\n",
       "3        Homewood  Alabama  https://www.ubereats.com/location/homewood-ala...\n",
       "4          Hoover  Alabama   https://www.ubereats.com/location/hoover-alabama"
      ]
     },
     "execution_count": 72,
     "metadata": {},
     "output_type": "execute_result"
    },
    {
     "data": {
      "text/html": [
       "<div>\n",
       "<style>\n",
       "    .dataframe thead tr:only-child th {\n",
       "        text-align: right;\n",
       "    }\n",
       "\n",
       "    .dataframe thead th {\n",
       "        text-align: left;\n",
       "    }\n",
       "\n",
       "    .dataframe tbody tr th {\n",
       "        vertical-align: top;\n",
       "    }\n",
       "</style>\n",
       "<table border=\"1\" class=\"dataframe\">\n",
       "  <thead>\n",
       "    <tr style=\"text-align: right;\">\n",
       "      <th></th>\n",
       "      <th>city</th>\n",
       "      <th>state</th>\n",
       "      <th>url</th>\n",
       "    </tr>\n",
       "  </thead>\n",
       "  <tbody>\n",
       "    <tr>\n",
       "      <th>3289</th>\n",
       "      <td>West Milwaukee</td>\n",
       "      <td>Wisconsin</td>\n",
       "      <td>https://www.ubereats.com/location/west-milwauk...</td>\n",
       "    </tr>\n",
       "    <tr>\n",
       "      <th>3290</th>\n",
       "      <td>Whitefish Bay</td>\n",
       "      <td>Wisconsin</td>\n",
       "      <td>https://www.ubereats.com/location/whitefish-ba...</td>\n",
       "    </tr>\n",
       "    <tr>\n",
       "      <th>3291</th>\n",
       "      <td>Wisconsin Dells</td>\n",
       "      <td>Wisconsin</td>\n",
       "      <td>https://www.ubereats.com/location/wisconsin-de...</td>\n",
       "    </tr>\n",
       "    <tr>\n",
       "      <th>3292</th>\n",
       "      <td>Casper</td>\n",
       "      <td>Wyoming</td>\n",
       "      <td>https://www.ubereats.com/location/casper-wyoming</td>\n",
       "    </tr>\n",
       "    <tr>\n",
       "      <th>3293</th>\n",
       "      <td>Wyoming</td>\n",
       "      <td>Wyoming</td>\n",
       "      <td>https://www.ubereats.com/location/cheyenne</td>\n",
       "    </tr>\n",
       "  </tbody>\n",
       "</table>\n",
       "</div>"
      ],
      "text/plain": [
       "                 city      state  \\\n",
       "3289   West Milwaukee  Wisconsin   \n",
       "3290    Whitefish Bay  Wisconsin   \n",
       "3291  Wisconsin Dells  Wisconsin   \n",
       "3292           Casper    Wyoming   \n",
       "3293          Wyoming    Wyoming   \n",
       "\n",
       "                                                    url  \n",
       "3289  https://www.ubereats.com/location/west-milwauk...  \n",
       "3290  https://www.ubereats.com/location/whitefish-ba...  \n",
       "3291  https://www.ubereats.com/location/wisconsin-de...  \n",
       "3292   https://www.ubereats.com/location/casper-wyoming  \n",
       "3293         https://www.ubereats.com/location/cheyenne  "
      ]
     },
     "execution_count": 72,
     "metadata": {},
     "output_type": "execute_result"
    },
    {
     "data": {
      "text/plain": [
       "(3294, 3)"
      ]
     },
     "execution_count": 72,
     "metadata": {},
     "output_type": "execute_result"
    }
   ],
   "source": [
    "df.head()\n",
    "df.tail()\n",
    "df.shape"
   ]
  },
  {
   "cell_type": "markdown",
   "metadata": {},
   "source": [
    "### Storing the city URLs"
   ]
  },
  {
   "cell_type": "code",
   "execution_count": 56,
   "metadata": {
    "collapsed": false
   },
   "outputs": [],
   "source": [
    "df.to_csv('./scraped-data/uber-eats-cities.csv', index=None)"
   ]
  },
  {
   "cell_type": "code",
   "execution_count": 79,
   "metadata": {
    "collapsed": false
   },
   "outputs": [
    {
     "name": "stdout",
     "output_type": "stream",
     "text": [
      "https://www.ubereats.com/location/los-angeles\n"
     ]
    }
   ],
   "source": [
    "for i in df['url']:\n",
    "    if \"los-angeles\" in i.split(\"/\"):\n",
    "        print(i)"
   ]
  }
 ],
 "metadata": {
  "kernelspec": {
   "display_name": "Python 3",
   "language": "python",
   "name": "python3"
  },
  "language_info": {
   "codemirror_mode": {
    "name": "ipython",
    "version": 3
   },
   "file_extension": ".py",
   "mimetype": "text/x-python",
   "name": "python",
   "nbconvert_exporter": "python",
   "pygments_lexer": "ipython3",
   "version": "3.6.9"
  }
 },
 "nbformat": 4,
 "nbformat_minor": 0
}
