{
 "cells": [
  {
   "cell_type": "markdown",
   "metadata": {},
   "source": [
    "# Sorting "
   ]
  },
  {
   "cell_type": "code",
   "execution_count": null,
   "metadata": {
    "collapsed": true
   },
   "outputs": [],
   "source": [
    "from IPython.core.interactiveshell import InteractiveShell\n",
    "InteractiveShell.ast_node_interactivity = \"all\"\n",
    "\n",
    "from urllib.request import Request, urlopen\n",
    "from bs4 import BeautifulSoup\n",
    "import re\n",
    "import time\n",
    "import json\n",
    "import csv\n",
    "import os\n",
    "import pandas as pd\n",
    "from tqdm import tqdm_notebook\n",
    "from urllib.error import URLError\n",
    "import time\n",
    "\n",
    "HEADERS = {'User-Agent': 'Mozilla/5.0', 'Accept': 'text/html,application/xhtml+xml,application/xml'}"
   ]
  },
  {
   "cell_type": "markdown",
   "metadata": {},
   "source": [
    "### Reading all tags available on Uber Eats"
   ]
  },
  {
   "cell_type": "code",
   "execution_count": null,
   "metadata": {
    "collapsed": false
   },
   "outputs": [],
   "source": [
    "f = open(\"./scraped-data/UE-categories-all.txt\")\n",
    "categories = f.read().split('\\n')\n",
    "len(categories)\n",
    "# lines"
   ]
  },
  {
   "cell_type": "markdown",
   "metadata": {},
   "source": [
    "### Finding the no. of restaurants associated with a tag"
   ]
  },
  {
   "cell_type": "code",
   "execution_count": null,
   "metadata": {
    "collapsed": false
   },
   "outputs": [],
   "source": [
    "# Finding the no. of restaurants associated with a tag\n",
    "# Example: Run the below line to get all \"American\" restaurants in New York\n",
    "# NY_american_rests = get_category_rests(\"new-york\", \"american\", HEADERS)\n",
    "\n",
    "def get_category_rests(cityname, category, HEADERS):\n",
    "    category = category.lower().replace(\" \", \"-\")\n",
    "    category_url = \"https://www.ubereats.com/category/\"+cityname+\"/\"+category\n",
    "    try:\n",
    "        req = Request(category_url, headers=HEADERS)\n",
    "        webpage = urlopen(req, timeout=10).read()\n",
    "        soup = BeautifulSoup(webpage, 'html.parser')\n",
    "\n",
    "        links = soup.find_all(\"a\")\n",
    "        links = [link['href'] for link in links \n",
    "                 if len(link['href'].split('/'))>=3 \n",
    "                 and link['href'].split('/')[2] == 'food-delivery']\n",
    "        return links\n",
    "    \n",
    "    except Exception as e:\n",
    "        print(f\"error in category: {e}, url: {category_url}\")\n",
    "        return []"
   ]
  },
  {
   "cell_type": "code",
   "execution_count": null,
   "metadata": {
    "collapsed": false
   },
   "outputs": [],
   "source": [
    "category_stats = {}\n",
    "for i in tqdm_notebook(range(len(categories)), desc=\"city categories\"):\n",
    "    category_restaurants = get_category_rests('new-york', categories[i], HEADERS)\n",
    "    category_stats[categories[i]] = len(category_restaurants)"
   ]
  },
  {
   "cell_type": "code",
   "execution_count": null,
   "metadata": {
    "collapsed": false
   },
   "outputs": [],
   "source": [
    "len(NY_american_rests)"
   ]
  }
 ],
 "metadata": {
  "kernelspec": {
   "display_name": "Python 3",
   "language": "python",
   "name": "python3"
  },
  "language_info": {
   "codemirror_mode": {
    "name": "ipython",
    "version": 3
   },
   "file_extension": ".py",
   "mimetype": "text/x-python",
   "name": "python",
   "nbconvert_exporter": "python",
   "pygments_lexer": "ipython3",
   "version": "3.6.9"
  }
 },
 "nbformat": 4,
 "nbformat_minor": 0
}
