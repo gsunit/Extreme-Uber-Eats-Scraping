{
 "cells": [
  {
   "cell_type": "code",
   "execution_count": 1,
   "metadata": {
    "collapsed": true
   },
   "outputs": [],
   "source": [
    "from IPython.core.interactiveshell import InteractiveShell\n",
    "InteractiveShell.ast_node_interactivity = \"all\"\n",
    "\n",
    "from urllib.request import Request, urlopen\n",
    "from bs4 import BeautifulSoup\n",
    "import re\n",
    "import time\n",
    "import json"
   ]
  },
  {
   "cell_type": "code",
   "execution_count": 2,
   "metadata": {
    "collapsed": false
   },
   "outputs": [
    {
     "data": {
      "text/plain": [
       "51"
      ]
     },
     "execution_count": 2,
     "metadata": {},
     "output_type": "execute_result"
    },
    {
     "data": {
      "text/plain": [
       "{'Allergy Friendly',\n",
       " 'American',\n",
       " 'Asian',\n",
       " 'Asian Fusion',\n",
       " 'BBQ',\n",
       " 'Bakery',\n",
       " 'Breakfast and Brunch',\n",
       " 'Bubble Tea',\n",
       " 'Burgers',\n",
       " 'Burritos',\n",
       " 'Cafe',\n",
       " 'Chicken',\n",
       " 'Chinese',\n",
       " 'Coffee and Tea',\n",
       " 'Comfort Food',\n",
       " 'Cupcakes',\n",
       " 'Curry',\n",
       " 'Deli',\n",
       " 'Desserts',\n",
       " 'Donuts',\n",
       " 'Fast Food',\n",
       " 'Greek',\n",
       " 'Healthy',\n",
       " 'Ice Cream',\n",
       " 'Indian',\n",
       " 'Italian',\n",
       " 'Japanese',\n",
       " 'Juice and Smoothies',\n",
       " 'Korean',\n",
       " 'Latin American',\n",
       " 'Mediterranean',\n",
       " 'Mexican',\n",
       " 'Middle Eastern',\n",
       " 'Noodles',\n",
       " 'Pasta',\n",
       " 'Pastry',\n",
       " 'Pizza',\n",
       " 'Ramen',\n",
       " 'Rice',\n",
       " 'Salads',\n",
       " 'Sandwich',\n",
       " 'Seafood',\n",
       " 'Steak',\n",
       " 'Sushi',\n",
       " 'Tacos',\n",
       " 'Thai',\n",
       " 'Vegan',\n",
       " 'Vegetarian',\n",
       " 'Vietnamese',\n",
       " 'Wings',\n",
       " 'Wraps'}"
      ]
     },
     "execution_count": 2,
     "metadata": {},
     "output_type": "execute_result"
    }
   ],
   "source": [
    "f = open(\"./uber-eats-popular-categories.txt\")\n",
    "lines = f.read().split('\\n')\n",
    "categories = set(lines)\n",
    "if '' in categories:\n",
    "    categories.remove('')\n",
    "len(categories)\n",
    "categories"
   ]
  },
  {
   "cell_type": "code",
   "execution_count": 3,
   "metadata": {
    "collapsed": true
   },
   "outputs": [],
   "source": [
    "from urllib.error import URLError\n",
    "import time\n",
    "\n",
    "def get_city_rests(city_url, categories, debug=True):\n",
    "    start_time = time.time()\n",
    "    rests = set()\n",
    "    categ_stats = {}\n",
    "    \n",
    "    for category in categories:\n",
    "        category = category.lower().replace(\" \", \"-\")\n",
    "        category_city_url = \"https://www.ubereats.com/category/\" + city_url.split('/')[-1] + \"/\" + category\n",
    "        try:\n",
    "            req = Request(category_city_url, headers={'User-Agent': 'Mozilla/5.0', 'Accept': 'text/html,application/xhtml+xml,application/xml'})\n",
    "\n",
    "            webpage = urlopen(req).read()\n",
    "            soup = BeautifulSoup(webpage, 'html.parser')\n",
    "            print(soup.title)\n",
    "            rest_links = soup.find_all(\"h3\", class_=\"dr bn bo at ep al aj eq dp\")\n",
    "            categ_stats[category] = len(rest_links)\n",
    "            old_rests_size = len(rests)\n",
    "\n",
    "            if debug == True:\n",
    "                print(f\"found: {len(rest_links)}, old size: {old_rests_size}\")\n",
    "            for link in rest_links:\n",
    "                rests.add(link.a['href'])\n",
    "            if debug == True:\n",
    "                print(f\"added: {len(rests)-old_rests_size}, new size: {len(rests)}\")\n",
    "        except Exception as e:\n",
    "            print(f\"\\nerror: {e}\\n url: {category_city_url}\")\n",
    "            categ_stats[category] = 0\n",
    "    elapsed_time = time.time()-start_time\n",
    "    print(f\"time elapsed: {elapsed_time}\")\n",
    "    return rests, categ_stats"
   ]
  },
  {
   "cell_type": "code",
   "execution_count": 4,
   "metadata": {
    "collapsed": false
   },
   "outputs": [],
   "source": [
    "city_url = \"https://www.ubereats.com/location/new-york\""
   ]
  },
  {
   "cell_type": "code",
   "execution_count": 5,
   "metadata": {
    "collapsed": false
   },
   "outputs": [
    {
     "name": "stdout",
     "output_type": "stream",
     "text": [
      "<title>Asian Delivery | New York City | Uber Eats</title>\n",
      "found: 419, old size: 0\n",
      "added: 419, new size: 419\n",
      "<title>Italian Delivery | New York City | Uber Eats</title>\n",
      "found: 0, old size: 419\n",
      "added: 0, new size: 419\n",
      "<title>Korean Delivery | New York City | Uber Eats</title>\n",
      "found: 55, old size: 419\n",
      "added: 9, new size: 428\n",
      "<title>Pastry Delivery | New York City | Uber Eats</title>\n",
      "found: 28, old size: 428\n",
      "added: 28, new size: 456\n",
      "<title>Asian Fusion Delivery | New York City | Uber Eats</title>\n",
      "found: 142, old size: 456\n",
      "added: 0, new size: 456\n",
      "<title>Middle Eastern Delivery | New York City | Uber Eats</title>\n",
      "found: 37, old size: 456\n",
      "added: 37, new size: 493\n",
      "<title>Latin American Delivery | New York City | Uber Eats</title>\n",
      "found: 74, old size: 493\n",
      "added: 74, new size: 567\n",
      "<title>Pasta Delivery | New York City | Uber Eats</title>\n",
      "found: 171, old size: 567\n",
      "added: 166, new size: 733\n",
      "<title>Vietnamese Delivery | New York City | Uber Eats</title>\n",
      "found: 34, old size: 733\n",
      "added: 20, new size: 753\n",
      "<title>Burgers Delivery | New York City | Uber Eats</title>\n",
      "found: 525, old size: 753\n",
      "added: 498, new size: 1251\n",
      "<title>Seafood Delivery | New York City | Uber Eats</title>\n",
      "found: 205, old size: 1251\n",
      "added: 96, new size: 1347\n",
      "<title>Salads Delivery | New York City | Uber Eats</title>\n",
      "found: 852, old size: 1347\n",
      "added: 573, new size: 1920\n",
      "<title>Mediterranean Delivery | New York City | Uber Eats</title>\n",
      "found: 0, old size: 1920\n",
      "added: 0, new size: 1920\n",
      "<title>American Delivery | New York City | Uber Eats</title>\n",
      "found: 689, old size: 1920\n",
      "added: 311, new size: 2231\n",
      "<title>Fast Food Delivery | New York City | Uber Eats</title>\n",
      "found: 90, old size: 2231\n",
      "added: 12, new size: 2243\n",
      "<title>Donuts Delivery | New York City | Uber Eats</title>\n",
      "found: 105, old size: 2243\n",
      "added: 57, new size: 2300\n",
      "<title>Vegetarian Delivery | New York City | Uber Eats</title>\n",
      "found: 322, old size: 2300\n",
      "added: 119, new size: 2419\n",
      "<title>Healthy Delivery | New York City | Uber Eats</title>\n",
      "found: 0, old size: 2419\n",
      "added: 0, new size: 2419\n",
      "<title>Burritos Delivery | New York City | Uber Eats</title>\n",
      "found: 108, old size: 2419\n",
      "added: 40, new size: 2459\n",
      "<title>Sushi Delivery | New York City | Uber Eats</title>\n",
      "found: 130, old size: 2459\n",
      "added: 13, new size: 2472\n",
      "<title>Steak Delivery | New York City | Uber Eats</title>\n",
      "found: 84, old size: 2472\n",
      "added: 27, new size: 2499\n",
      "<title>Allergy Friendly Delivery | New York City | Uber Eats</title>\n",
      "found: 0, old size: 2499\n",
      "added: 0, new size: 2499\n",
      "<title>Juice and Smoothies Delivery | New York City | Uber Eats</title>\n",
      "found: 121, old size: 2499\n",
      "added: 38, new size: 2537\n",
      "<title>Coffee and Tea Delivery | New York City | Uber Eats</title>\n",
      "found: 171, old size: 2537\n",
      "added: 39, new size: 2576\n",
      "<title>Cupcakes Delivery | New York City | Uber Eats</title>\n",
      "found: 50, old size: 2576\n",
      "added: 14, new size: 2590\n",
      "<title>Comfort Food Delivery | New York City | Uber Eats</title>\n",
      "found: 288, old size: 2590\n",
      "added: 42, new size: 2632\n",
      "<title>Tacos Delivery | New York City | Uber Eats</title>\n",
      "found: 134, old size: 2632\n",
      "added: 12, new size: 2644\n",
      "<title>Chinese Delivery | New York City | Uber Eats</title>\n",
      "found: 162, old size: 2644\n",
      "added: 14, new size: 2658\n",
      "<title>Curry Delivery | New York City | Uber Eats</title>\n",
      "found: 37, old size: 2658\n",
      "added: 2, new size: 2660\n",
      "<title>Deli Delivery | New York City | Uber Eats</title>\n",
      "found: 46, old size: 2660\n",
      "added: 8, new size: 2668\n",
      "<title>Rice Dishes Delivery | New York City | Uber Eats</title>\n",
      "found: 83, old size: 2668\n",
      "added: 25, new size: 2693\n",
      "<title>Greek Delivery | New York City | Uber Eats</title>\n",
      "found: 36, old size: 2693\n",
      "added: 7, new size: 2700\n",
      "\n",
      "error: HTTP Error 404: Not Found\n",
      " url: https://www.ubereats.com/category/new-york/noodles\n",
      "<title>Chicken Delivery | New York City | Uber Eats</title>\n",
      "found: 287, old size: 2700\n",
      "added: 80, new size: 2780\n",
      "<title>Desserts Delivery | New York City | Uber Eats</title>\n",
      "found: 609, old size: 2780\n",
      "added: 217, new size: 2997\n",
      "<title>Bubble Tea Delivery | New York City | Uber Eats</title>\n",
      "found: 48, old size: 2997\n",
      "added: 1, new size: 2998\n",
      "<title>Wings Delivery | New York City | Uber Eats</title>\n",
      "found: 87, old size: 2998\n",
      "added: 8, new size: 3006\n",
      "<title>Bbq Delivery | New York City | Uber Eats</title>\n",
      "found: 44, old size: 3006\n",
      "added: 0, new size: 3006\n",
      "<title>Sandwich Delivery | New York City | Uber Eats</title>\n",
      "found: 476, old size: 3006\n",
      "added: 22, new size: 3028\n",
      "<title>Bakery Delivery | New York City | Uber Eats</title>\n",
      "found: 78, old size: 3028\n",
      "added: 5, new size: 3033\n",
      "<title>Ice Cream Delivery | New York City | Uber Eats</title>\n",
      "found: 32, old size: 3033\n",
      "added: 3, new size: 3036\n",
      "<title>Thai Delivery | New York City | Uber Eats</title>\n",
      "found: 64, old size: 3036\n",
      "added: 2, new size: 3038\n",
      "<title>Cafe Delivery | New York City | Uber Eats</title>\n",
      "found: 58, old size: 3038\n",
      "added: 3, new size: 3041\n",
      "<title>Vegan Delivery | New York City | Uber Eats</title>\n",
      "found: 120, old size: 3041\n",
      "added: 4, new size: 3045\n",
      "<title>Ramen Delivery | New York City | Uber Eats</title>\n",
      "found: 40, old size: 3045\n",
      "added: 4, new size: 3049\n",
      "<title>Mexican Delivery | New York City | Uber Eats</title>\n",
      "found: 127, old size: 3049\n",
      "added: 18, new size: 3067\n",
      "<title>Wraps Delivery | New York City | Uber Eats</title>\n",
      "found: 98, old size: 3067\n",
      "added: 7, new size: 3074\n",
      "<title>Pizza Delivery | New York City | Uber Eats</title>\n",
      "found: 156, old size: 3074\n",
      "added: 13, new size: 3087\n",
      "<title>Japanese Delivery | New York City | Uber Eats</title>\n",
      "found: 185, old size: 3087\n",
      "added: 1, new size: 3088\n",
      "<title>Breakfast and Brunch Delivery | New York City | Uber Eats</title>\n",
      "found: 267, old size: 3088\n",
      "added: 20, new size: 3108\n",
      "<title>Indian Delivery | New York City | Uber Eats</title>\n",
      "found: 70, old size: 3108\n",
      "added: 6, new size: 3114\n",
      "time elapsed: 240.53801941871643\n"
     ]
    }
   ],
   "source": [
    "city_rests, categ_stats = get_city_rests(city_url, categories, debug=True)"
   ]
  },
  {
   "cell_type": "code",
   "execution_count": 6,
   "metadata": {
    "collapsed": false,
    "scrolled": true
   },
   "outputs": [
    {
     "data": {
      "text/plain": [
       "[('salads', 852),\n",
       " ('american', 689),\n",
       " ('desserts', 609),\n",
       " ('burgers', 525),\n",
       " ('sandwich', 476),\n",
       " ('asian', 419),\n",
       " ('vegetarian', 322),\n",
       " ('comfort-food', 288),\n",
       " ('chicken', 287),\n",
       " ('breakfast-and-brunch', 267),\n",
       " ('seafood', 205),\n",
       " ('japanese', 185),\n",
       " ('pasta', 171),\n",
       " ('coffee-and-tea', 171),\n",
       " ('chinese', 162),\n",
       " ('pizza', 156),\n",
       " ('asian-fusion', 142),\n",
       " ('tacos', 134),\n",
       " ('sushi', 130),\n",
       " ('mexican', 127),\n",
       " ('juice-and-smoothies', 121),\n",
       " ('vegan', 120),\n",
       " ('burritos', 108),\n",
       " ('donuts', 105),\n",
       " ('wraps', 98),\n",
       " ('fast-food', 90),\n",
       " ('wings', 87),\n",
       " ('steak', 84),\n",
       " ('rice', 83),\n",
       " ('bakery', 78),\n",
       " ('latin-american', 74),\n",
       " ('indian', 70),\n",
       " ('thai', 64),\n",
       " ('cafe', 58),\n",
       " ('korean', 55),\n",
       " ('cupcakes', 50),\n",
       " ('bubble-tea', 48),\n",
       " ('deli', 46),\n",
       " ('bbq', 44),\n",
       " ('ramen', 40),\n",
       " ('middle-eastern', 37),\n",
       " ('curry', 37),\n",
       " ('greek', 36),\n",
       " ('vietnamese', 34),\n",
       " ('ice-cream', 32),\n",
       " ('pastry', 28),\n",
       " ('italian', 0),\n",
       " ('mediterranean', 0),\n",
       " ('healthy', 0),\n",
       " ('allergy-friendly', 0),\n",
       " ('noodles', 0)]"
      ]
     },
     "execution_count": 6,
     "metadata": {},
     "output_type": "execute_result"
    }
   ],
   "source": [
    "sorted(categ_stats.items(), key = lambda x : x[1], reverse=True)"
   ]
  },
  {
   "cell_type": "code",
   "execution_count": 19,
   "metadata": {
    "collapsed": false
   },
   "outputs": [],
   "source": [
    "import pandas as pd\n",
    "df = pd.DataFrame(columns=['url', 'city'])\n",
    "i=0\n",
    "city_name = city_url.split('/')[-1]\n",
    "for rest in city_rests:\n",
    "    df.loc[i] = [\n",
    "        'https://www.ubereats.com' + rest,\n",
    "        city_name\n",
    "    ]\n",
    "    i = i+1"
   ]
  },
  {
   "cell_type": "code",
   "execution_count": 23,
   "metadata": {
    "collapsed": false
   },
   "outputs": [
    {
     "data": {
      "text/html": [
       "<div>\n",
       "<style>\n",
       "    .dataframe thead tr:only-child th {\n",
       "        text-align: right;\n",
       "    }\n",
       "\n",
       "    .dataframe thead th {\n",
       "        text-align: left;\n",
       "    }\n",
       "\n",
       "    .dataframe tbody tr th {\n",
       "        vertical-align: top;\n",
       "    }\n",
       "</style>\n",
       "<table border=\"1\" class=\"dataframe\">\n",
       "  <thead>\n",
       "    <tr style=\"text-align: right;\">\n",
       "      <th></th>\n",
       "      <th>url</th>\n",
       "      <th>city</th>\n",
       "    </tr>\n",
       "  </thead>\n",
       "  <tbody>\n",
       "    <tr>\n",
       "      <th>0</th>\n",
       "      <td>https://www.ubereats.com/new-york/food-deliver...</td>\n",
       "      <td>new-york</td>\n",
       "    </tr>\n",
       "    <tr>\n",
       "      <th>1</th>\n",
       "      <td>https://www.ubereats.com/new-york/food-deliver...</td>\n",
       "      <td>new-york</td>\n",
       "    </tr>\n",
       "    <tr>\n",
       "      <th>2</th>\n",
       "      <td>https://www.ubereats.com/new-york/food-deliver...</td>\n",
       "      <td>new-york</td>\n",
       "    </tr>\n",
       "    <tr>\n",
       "      <th>3</th>\n",
       "      <td>https://www.ubereats.com/new-york/food-deliver...</td>\n",
       "      <td>new-york</td>\n",
       "    </tr>\n",
       "    <tr>\n",
       "      <th>4</th>\n",
       "      <td>https://www.ubereats.com/new-york/food-deliver...</td>\n",
       "      <td>new-york</td>\n",
       "    </tr>\n",
       "  </tbody>\n",
       "</table>\n",
       "</div>"
      ],
      "text/plain": [
       "                                                 url      city\n",
       "0  https://www.ubereats.com/new-york/food-deliver...  new-york\n",
       "1  https://www.ubereats.com/new-york/food-deliver...  new-york\n",
       "2  https://www.ubereats.com/new-york/food-deliver...  new-york\n",
       "3  https://www.ubereats.com/new-york/food-deliver...  new-york\n",
       "4  https://www.ubereats.com/new-york/food-deliver...  new-york"
      ]
     },
     "execution_count": 23,
     "metadata": {},
     "output_type": "execute_result"
    }
   ],
   "source": [
    "df.head()"
   ]
  },
  {
   "cell_type": "code",
   "execution_count": 24,
   "metadata": {
    "collapsed": true
   },
   "outputs": [],
   "source": [
    "df.to_csv('./UE-NY-rests-list.csv', index=False)"
   ]
  },
  {
   "cell_type": "code",
   "execution_count": null,
   "metadata": {
    "collapsed": false
   },
   "outputs": [],
   "source": [
    "def get_rest_details(rest_url):\n",
    "    start_time = time.time()\n",
    "    rest_obj = {}\n",
    "    try:\n",
    "        req = Request(rest_url, headers={'User-Agent': 'Mozilla/5.0', 'Accept': 'text/html,application/xhtml+xml,application/xml'})\n",
    "        webpage = urlopen(req).read()\n",
    "        soup = BeautifulSoup(webpage, 'html.parser')\n",
    "        rest_obj = json.loads(soup.find(\"script\", type=\"application/ld+json\").text)\n",
    "        print(rest_obj['name'])\n",
    "    except Exception as e:\n",
    "        print(f\"\\nerror: {e}\\n url: {rest_url}\")\n",
    "    \n",
    "    elapsed_time = time.time()-start_time\n",
    "    print(f\"elapsed time: {elapsed_time}\")\n",
    "    return rest_obj"
   ]
  },
  {
   "cell_type": "code",
   "execution_count": null,
   "metadata": {
    "collapsed": false
   },
   "outputs": [],
   "source": [
    "rest_url = \"https://www.ubereats.com/new-york/food-delivery/cha-chan-tang/CKWqFu2RSeK7rxMdN75tpA\"\n",
    "rest_obj = get_rest_details(rest_url)\n",
    "rest_obj"
   ]
  }
 ],
 "metadata": {
  "kernelspec": {
   "display_name": "Python 3",
   "language": "python",
   "name": "python3"
  },
  "language_info": {
   "codemirror_mode": {
    "name": "ipython",
    "version": 3
   },
   "file_extension": ".py",
   "mimetype": "text/x-python",
   "name": "python",
   "nbconvert_exporter": "python",
   "pygments_lexer": "ipython3",
   "version": "3.6.9"
  }
 },
 "nbformat": 4,
 "nbformat_minor": 0
}
