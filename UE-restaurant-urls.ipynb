{
 "cells": [
  {
   "cell_type": "markdown",
   "metadata": {},
   "source": [
    "# Fetch URLs of all Uber Eats restaurants in a city"
   ]
  },
  {
   "cell_type": "code",
   "execution_count": null,
   "metadata": {
    "collapsed": true
   },
   "outputs": [],
   "source": [
    "from IPython.core.interactiveshell import InteractiveShell\n",
    "InteractiveShell.ast_node_interactivity = \"all\"\n",
    "\n",
    "from urllib.request import Request, urlopen\n",
    "from bs4 import BeautifulSoup\n",
    "import re\n",
    "import time\n",
    "import json\n",
    "import csv\n",
    "import os\n",
    "import pandas as pd\n",
    "from tqdm import tqdm_notebook\n",
    "from urllib.error import URLError\n",
    "import time\n",
    "\n",
    "HEADERS = {'User-Agent': 'Mozilla/5.0', 'Accept': 'text/html,application/xhtml+xml,application/xml'}"
   ]
  },
  {
   "cell_type": "markdown",
   "metadata": {},
   "source": [
    "### Popular Uber Eats cuisines\n",
    "\n",
    "Popular cuisines are those which have a large no. restaurants tagged with that cuisine. New York City data was used to choose these cuisines for faster runtime of script (with the possibility of losing out on a few restaurants). Out the total 204 restaurants, the top 52 were chosen by sorting.\n",
    "\n",
    "We don't miss out on many restaturants as there are hardly any resturants with a single tag.\n",
    "\n",
    "If you still want to run the script for all cuisines, open the `UE-categories-all.txt` file instead."
   ]
  },
  {
   "cell_type": "code",
   "execution_count": null,
   "metadata": {
    "collapsed": false
   },
   "outputs": [],
   "source": [
    "f = open(\"./scraped-data/UE-categories-popular.txt\")\n",
    "categories = f.read().split('\\n')\n",
    "if '' in categories:\n",
    "    categories.remove('')\n",
    "len(categories)"
   ]
  },
  {
   "cell_type": "markdown",
   "metadata": {},
   "source": []
  },
  {
   "cell_type": "code",
   "execution_count": null,
   "metadata": {
    "collapsed": false
   },
   "outputs": [],
   "source": [
    "def get_city_restaurants(city_url, categories, headers=HEADERS):\n",
    "    restaurant_set = set()\n",
    "    cityname = city_url.split('/')[-1]\n",
    "    \n",
    "    # checking if city exists\n",
    "    try:\n",
    "        req = Request(city_url, headers=headers)\n",
    "        webpage = urlopen(req, timeout=20).read()\n",
    "        soup = BeautifulSoup(webpage, 'html.parser')\n",
    "    except Exception as e:\n",
    "        print(f\"Error: {e}, url: {city_url}\")\n",
    "        return rests, categ_stats\n",
    "    \n",
    "    # now fetching all restaurants urls category-wise, and storing urls in restaurant_set\n",
    "    for category in tqdm_notebook(categories, desc=cityname):\n",
    "        category = category.lower().replace(\" \", \"-\")\n",
    "        category_city_url = \"https://www.ubereats.com/category/\"+cityname+\"/\"+category\n",
    "        try:\n",
    "            # fetching restaurants in a category\n",
    "            req = Request(category_city_url, headers=headers)\n",
    "            webpage = urlopen(req, timeout=20).read()\n",
    "            soup = BeautifulSoup(webpage, 'html.parser')\n",
    "            links = soup.find_all(\"a\")\n",
    "            links = [link['href'] for link in links \n",
    "                     if len(link['href'].split('/'))>=3 \n",
    "                     and link['href'].split('/')[2] == 'food-delivery']\n",
    "            \n",
    "            # adding link to the final city restaurant_set\n",
    "            for link in links:\n",
    "                restaurant_set.add(link)   \n",
    "        except Exception as e:\n",
    "           print(f\"\\nerror: {e}\\n url: {category_city_url}\")\n",
    "        \n",
    "    return restaurant_set"
   ]
  },
  {
   "cell_type": "code",
   "execution_count": null,
   "metadata": {
    "collapsed": true
   },
   "outputs": [],
   "source": [
    "def store_urls(city_url, city_restaurants):\n",
    "    cityname = city_url.split('/')[-1]\n",
    "    filename = './scraped-data/restaurant-urls/'+cityname+'.csv'\n",
    "    city_df = pd.DataFrame(columns=['url', 'city'])\n",
    "    \n",
    "    i=0\n",
    "    for rest_url in city_rests:\n",
    "        city_df.loc[i] = [\n",
    "            \"https://www.ubereats.com\" + rest_url,\n",
    "            cityname\n",
    "        ]\n",
    "        i = i+1\n",
    "    city_df.to_csv(filename, index=False)"
   ]
  },
  {
   "cell_type": "markdown",
   "metadata": {},
   "source": [
    "### Running the script for a single city"
   ]
  },
  {
   "cell_type": "code",
   "execution_count": null,
   "metadata": {
    "collapsed": true
   },
   "outputs": [],
   "source": [
    "def execute_city(city_url, desc):\n",
    "    city_rests, categ_stats = get_city_rests(city_url, categories, debug=False)\n",
    "    store_urls(city_url, city_rests)"
   ]
  },
  {
   "cell_type": "code",
   "execution_count": null,
   "metadata": {
    "collapsed": false
   },
   "outputs": [],
   "source": [
    "city_url = \"https://www.ubereats.com/location/new-york\"\n",
    "city_restaurants = get_city_restaurants(city_url, categories)\n",
    "store_urls(city_url, city_restaurants)"
   ]
  },
  {
   "cell_type": "markdown",
   "metadata": {},
   "source": [
    "### Parallel processing for scraping all cities"
   ]
  },
  {
   "cell_type": "code",
   "execution_count": null,
   "metadata": {
    "collapsed": false
   },
   "outputs": [],
   "source": [
    "df = pd.read_csv(\"./scraped-data/UE-cities.csv\")\n",
    "for url in df['url']:\n",
    "    "
   ]
  }
 ],
 "metadata": {
  "kernelspec": {
   "display_name": "Python 3",
   "language": "python",
   "name": "python3"
  },
  "language_info": {
   "codemirror_mode": {
    "name": "ipython",
    "version": 3
   },
   "file_extension": ".py",
   "mimetype": "text/x-python",
   "name": "python",
   "nbconvert_exporter": "python",
   "pygments_lexer": "ipython3",
   "version": "3.6.9"
  }
 },
 "nbformat": 4,
 "nbformat_minor": 0
}
