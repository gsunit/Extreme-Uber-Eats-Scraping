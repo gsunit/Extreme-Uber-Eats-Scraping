{
 "cells": [
  {
   "cell_type": "code",
   "execution_count": 1,
   "metadata": {
    "collapsed": true
   },
   "outputs": [],
   "source": [
    "from IPython.core.interactiveshell import InteractiveShell\n",
    "InteractiveShell.ast_node_interactivity = \"all\"\n",
    "\n",
    "from urllib.request import Request, urlopen\n",
    "from bs4 import BeautifulSoup\n",
    "import re\n",
    "import time\n",
    "import json\n",
    "import csv"
   ]
  },
  {
   "cell_type": "code",
   "execution_count": 2,
   "metadata": {
    "collapsed": false
   },
   "outputs": [
    {
     "data": {
      "text/html": [
       "<div>\n",
       "<style>\n",
       "    .dataframe thead tr:only-child th {\n",
       "        text-align: right;\n",
       "    }\n",
       "\n",
       "    .dataframe thead th {\n",
       "        text-align: left;\n",
       "    }\n",
       "\n",
       "    .dataframe tbody tr th {\n",
       "        vertical-align: top;\n",
       "    }\n",
       "</style>\n",
       "<table border=\"1\" class=\"dataframe\">\n",
       "  <thead>\n",
       "    <tr style=\"text-align: right;\">\n",
       "      <th></th>\n",
       "      <th>url</th>\n",
       "      <th>city</th>\n",
       "    </tr>\n",
       "  </thead>\n",
       "  <tbody>\n",
       "    <tr>\n",
       "      <th>0</th>\n",
       "      <td>https://www.ubereats.com/new-york/food-deliver...</td>\n",
       "      <td>new-york</td>\n",
       "    </tr>\n",
       "    <tr>\n",
       "      <th>1</th>\n",
       "      <td>https://www.ubereats.com/new-york/food-deliver...</td>\n",
       "      <td>new-york</td>\n",
       "    </tr>\n",
       "    <tr>\n",
       "      <th>2</th>\n",
       "      <td>https://www.ubereats.com/new-york/food-deliver...</td>\n",
       "      <td>new-york</td>\n",
       "    </tr>\n",
       "    <tr>\n",
       "      <th>3</th>\n",
       "      <td>https://www.ubereats.com/new-york/food-deliver...</td>\n",
       "      <td>new-york</td>\n",
       "    </tr>\n",
       "    <tr>\n",
       "      <th>4</th>\n",
       "      <td>https://www.ubereats.com/new-york/food-deliver...</td>\n",
       "      <td>new-york</td>\n",
       "    </tr>\n",
       "  </tbody>\n",
       "</table>\n",
       "</div>"
      ],
      "text/plain": [
       "                                                 url      city\n",
       "0  https://www.ubereats.com/new-york/food-deliver...  new-york\n",
       "1  https://www.ubereats.com/new-york/food-deliver...  new-york\n",
       "2  https://www.ubereats.com/new-york/food-deliver...  new-york\n",
       "3  https://www.ubereats.com/new-york/food-deliver...  new-york\n",
       "4  https://www.ubereats.com/new-york/food-deliver...  new-york"
      ]
     },
     "execution_count": 2,
     "metadata": {},
     "output_type": "execute_result"
    }
   ],
   "source": [
    "import pandas as pd\n",
    "urls_df = pd.read_csv('./archive/UE-NY-rest-urls.csv')\n",
    "urls_df.head()"
   ]
  },
  {
   "cell_type": "code",
   "execution_count": 3,
   "metadata": {
    "collapsed": true
   },
   "outputs": [],
   "source": [
    "def get_rest_details(rest_url):\n",
    "    start_time = time.time()\n",
    "    rest_obj = {}\n",
    "    try:\n",
    "        req = Request(rest_url, headers={'User-Agent': 'Mozilla/5.0', 'Accept': 'text/html,application/xhtml+xml,application/xml'})\n",
    "        webpage = urlopen(req).read()\n",
    "        soup = BeautifulSoup(webpage, 'html.parser')\n",
    "        rest_obj = json.loads(soup.find(\"script\", type=\"application/ld+json\").text)\n",
    "#         print(rest_obj['name'])\n",
    "    except Exception as e:\n",
    "        print(f\"\\nerror: {e}\\n url: {rest_url}\")\n",
    "    \n",
    "    elapsed_time = time.time()-start_time\n",
    "#     print(f\"elapsed time: {elapsed_time}\")\n",
    "    return rest_obj"
   ]
  },
  {
   "cell_type": "code",
   "execution_count": 4,
   "metadata": {
    "collapsed": false
   },
   "outputs": [],
   "source": [
    "def scrap_all_rest(urls_df, f, error_rests):\n",
    "    start_time = time.time()\n",
    "    num_rests = urls_df.shape[0]\n",
    "    writer = csv.writer(f, delimiter=',')\n",
    "    for i in range(num_rests):\n",
    "        curr_rest = urls_df.iloc[i]\n",
    "        if i % 50 == 0:\n",
    "                print(f\"Progress: {(i*100)//num_rests}%, restaurants done: {i}, time elapsed: {time.time()-start_time}\")\n",
    "                \n",
    "        try:\n",
    "            obj = get_rest_details(curr_rest.url)\n",
    "            writer.writerow([\n",
    "                obj['name'].replace(';', ''),\n",
    "                curr_rest.city,\n",
    "                obj.get('servesCuisine'),\n",
    "                obj.get('aggregateRating'),\n",
    "                obj.get('priceRange'),\n",
    "                obj.get('geo'),\n",
    "                obj.get('telephone'),\n",
    "                curr_rest.url,\n",
    "                obj.get('address'),\n",
    "                obj.get('openingHoursSpecification'),\n",
    "            ])\n",
    "        except Exception as e:\n",
    "            print(f\"\\nerror: {e}\\n url: {curr_rest.url}\")\n",
    "            error_rests.append(curr_rest.url)\n",
    "\n",
    "    elapsed_time = time.time()-start_time\n",
    "    print(f\"total time: {elapsed_time}, error count: {len(error_rests)}\")\n",
    "    return error_rests"
   ]
  },
  {
   "cell_type": "code",
   "execution_count": 5,
   "metadata": {
    "collapsed": false
   },
   "outputs": [
    {
     "name": "stdout",
     "output_type": "stream",
     "text": [
      "Progress: 0%, restaurants done: 0, time elapsed: 0.0003151893615722656\n",
      "Progress: 1%, restaurants done: 50, time elapsed: 120.46354985237122\n",
      "Progress: 3%, restaurants done: 100, time elapsed: 230.5447268486023\n",
      "Progress: 4%, restaurants done: 150, time elapsed: 341.4672374725342\n",
      "Progress: 6%, restaurants done: 200, time elapsed: 465.8680408000946\n",
      "Progress: 8%, restaurants done: 250, time elapsed: 570.3720235824585\n",
      "Progress: 9%, restaurants done: 300, time elapsed: 674.2486836910248\n",
      "Progress: 11%, restaurants done: 350, time elapsed: 783.4704251289368\n",
      "Progress: 12%, restaurants done: 400, time elapsed: 890.1043407917023\n",
      "Progress: 14%, restaurants done: 450, time elapsed: 1018.0634372234344\n",
      "Progress: 16%, restaurants done: 500, time elapsed: 1124.1802880764008\n",
      "Progress: 17%, restaurants done: 550, time elapsed: 1264.4255456924438\n",
      "Progress: 19%, restaurants done: 600, time elapsed: 1380.0564126968384\n",
      "Progress: 20%, restaurants done: 650, time elapsed: 1515.7142720222473\n",
      "Progress: 22%, restaurants done: 700, time elapsed: 1637.8892858028412\n",
      "Progress: 24%, restaurants done: 750, time elapsed: 1745.71883893013\n",
      "Progress: 25%, restaurants done: 800, time elapsed: 1866.522768497467\n",
      "Progress: 27%, restaurants done: 850, time elapsed: 1988.8282220363617\n",
      "Progress: 28%, restaurants done: 900, time elapsed: 2090.3969235420227\n",
      "Progress: 30%, restaurants done: 950, time elapsed: 2209.529529094696\n",
      "\n",
      "error: <urlopen error [Errno 104] Connection reset by peer>\n",
      " url: https://www.ubereats.com/new-york/food-delivery/the-snack-pusher-murray-hill/80WsNn47TVeQ-AQM_BLuBg\n",
      "\n",
      "error: 'name'\n",
      " url: https://www.ubereats.com/new-york/food-delivery/the-snack-pusher-murray-hill/80WsNn47TVeQ-AQM_BLuBg\n",
      "Progress: 32%, restaurants done: 1000, time elapsed: 2927.654450416565\n",
      "Progress: 33%, restaurants done: 1050, time elapsed: 3055.88405585289\n",
      "Progress: 35%, restaurants done: 1100, time elapsed: 3172.714977502823\n",
      "Progress: 36%, restaurants done: 1150, time elapsed: 3323.561165332794\n",
      "Progress: 38%, restaurants done: 1200, time elapsed: 3489.502377986908\n",
      "Progress: 40%, restaurants done: 1250, time elapsed: 3613.034063577652\n",
      "Progress: 41%, restaurants done: 1300, time elapsed: 3747.438141107559\n",
      "Progress: 43%, restaurants done: 1350, time elapsed: 3868.549945831299\n",
      "Progress: 44%, restaurants done: 1400, time elapsed: 4004.1559088230133\n",
      "Progress: 46%, restaurants done: 1450, time elapsed: 4139.593566656113\n",
      "Progress: 48%, restaurants done: 1500, time elapsed: 4288.270123004913\n",
      "Progress: 49%, restaurants done: 1550, time elapsed: 4431.78808760643\n",
      "\n",
      "error: IncompleteRead(87858 bytes read, 202292 more expected)\n",
      " url: https://www.ubereats.com/new-york/food-delivery/cafe-oliviero/jpppMJulSWiCJFn1_K4iMg\n",
      "\n",
      "error: 'name'\n",
      " url: https://www.ubereats.com/new-york/food-delivery/cafe-oliviero/jpppMJulSWiCJFn1_K4iMg\n",
      "Progress: 51%, restaurants done: 1600, time elapsed: 4650.727636575699\n",
      "\n",
      "error: HTTP Error 410: Gone\n",
      " url: https://www.ubereats.com/new-york/food-delivery/city-burger-co/XrWTliv2QM2GFefDHTdRkg\n",
      "\n",
      "error: 'name'\n",
      " url: https://www.ubereats.com/new-york/food-delivery/city-burger-co/XrWTliv2QM2GFefDHTdRkg\n",
      "Progress: 52%, restaurants done: 1650, time elapsed: 4851.962982416153\n",
      "Progress: 54%, restaurants done: 1700, time elapsed: 5071.737966060638\n",
      "Progress: 56%, restaurants done: 1750, time elapsed: 5272.119845867157\n",
      "Progress: 57%, restaurants done: 1800, time elapsed: 5461.699298381805\n",
      "\n",
      "error: HTTP Error 410: Gone\n",
      " url: https://www.ubereats.com/new-york/food-delivery/the-ice-cream-shop/2y6yFh_HS4q5isxaScOFFg\n",
      "\n",
      "error: 'name'\n",
      " url: https://www.ubereats.com/new-york/food-delivery/the-ice-cream-shop/2y6yFh_HS4q5isxaScOFFg\n",
      "Progress: 59%, restaurants done: 1850, time elapsed: 5615.210142612457\n",
      "Progress: 61%, restaurants done: 1900, time elapsed: 5783.666788578033\n",
      "Progress: 62%, restaurants done: 1950, time elapsed: 5973.2470026016235\n",
      "Progress: 64%, restaurants done: 2000, time elapsed: 6165.55805516243\n",
      "Progress: 65%, restaurants done: 2050, time elapsed: 6359.673546791077\n",
      "Progress: 67%, restaurants done: 2100, time elapsed: 6525.198053598404\n",
      "Progress: 69%, restaurants done: 2150, time elapsed: 6711.386443376541\n",
      "Progress: 70%, restaurants done: 2200, time elapsed: 6915.746982097626\n",
      "Progress: 72%, restaurants done: 2250, time elapsed: 7153.876871347427\n",
      "Progress: 73%, restaurants done: 2300, time elapsed: 7346.239171028137\n",
      "Progress: 75%, restaurants done: 2350, time elapsed: 7533.792373180389\n",
      "Progress: 77%, restaurants done: 2400, time elapsed: 7735.197094678879\n",
      "Progress: 78%, restaurants done: 2450, time elapsed: 7946.053134918213\n",
      "Progress: 80%, restaurants done: 2500, time elapsed: 8094.095524549484\n",
      "Progress: 81%, restaurants done: 2550, time elapsed: 8221.78387928009\n",
      "Progress: 83%, restaurants done: 2600, time elapsed: 8433.733632564545\n"
     ]
    },
    {
     "ename": "KeyboardInterrupt",
     "evalue": "",
     "output_type": "error",
     "traceback": [
      "\u001b[1;31m---------------------------------------------------------------------------\u001b[0m",
      "\u001b[1;31mKeyboardInterrupt\u001b[0m                         Traceback (most recent call last)",
      "\u001b[1;32m<ipython-input-5-f892aa8fba79>\u001b[0m in \u001b[0;36m<module>\u001b[1;34m()\u001b[0m\n\u001b[0;32m      1\u001b[0m \u001b[0mf\u001b[0m \u001b[1;33m=\u001b[0m \u001b[0mopen\u001b[0m\u001b[1;33m(\u001b[0m\u001b[1;34m'./UE-NY-rest-details.csv'\u001b[0m\u001b[1;33m,\u001b[0m \u001b[1;34m'a'\u001b[0m\u001b[1;33m)\u001b[0m\u001b[1;33m\u001b[0m\u001b[1;33m\u001b[0m\u001b[0m\n\u001b[0;32m      2\u001b[0m \u001b[0merror_rests\u001b[0m \u001b[1;33m=\u001b[0m \u001b[1;33m[\u001b[0m\u001b[1;33m]\u001b[0m\u001b[1;33m\u001b[0m\u001b[1;33m\u001b[0m\u001b[0m\n\u001b[1;32m----> 3\u001b[1;33m \u001b[0mscrap_all_rest\u001b[0m\u001b[1;33m(\u001b[0m\u001b[0murls_df\u001b[0m\u001b[1;33m,\u001b[0m \u001b[0mf\u001b[0m\u001b[1;33m,\u001b[0m \u001b[0merror_rests\u001b[0m\u001b[1;33m)\u001b[0m\u001b[1;33m\u001b[0m\u001b[1;33m\u001b[0m\u001b[0m\n\u001b[0m\u001b[0;32m      4\u001b[0m \u001b[1;31m# curr_rest = urls_df.iloc[0]\u001b[0m\u001b[1;33m\u001b[0m\u001b[1;33m\u001b[0m\u001b[1;33m\u001b[0m\u001b[0m\n\u001b[0;32m      5\u001b[0m \u001b[1;31m# curr_rest.url\u001b[0m\u001b[1;33m\u001b[0m\u001b[1;33m\u001b[0m\u001b[1;33m\u001b[0m\u001b[0m\n",
      "\u001b[1;32m<ipython-input-4-a19f4920d448>\u001b[0m in \u001b[0;36mscrap_all_rest\u001b[1;34m(urls_df, f, error_rests)\u001b[0m\n\u001b[0;32m      9\u001b[0m \u001b[1;33m\u001b[0m\u001b[0m\n\u001b[0;32m     10\u001b[0m         \u001b[1;32mtry\u001b[0m\u001b[1;33m:\u001b[0m\u001b[1;33m\u001b[0m\u001b[1;33m\u001b[0m\u001b[0m\n\u001b[1;32m---> 11\u001b[1;33m             \u001b[0mobj\u001b[0m \u001b[1;33m=\u001b[0m \u001b[0mget_rest_details\u001b[0m\u001b[1;33m(\u001b[0m\u001b[0mcurr_rest\u001b[0m\u001b[1;33m.\u001b[0m\u001b[0murl\u001b[0m\u001b[1;33m)\u001b[0m\u001b[1;33m\u001b[0m\u001b[1;33m\u001b[0m\u001b[0m\n\u001b[0m\u001b[0;32m     12\u001b[0m             writer.writerow([\n\u001b[0;32m     13\u001b[0m                 \u001b[0mobj\u001b[0m\u001b[1;33m[\u001b[0m\u001b[1;34m'name'\u001b[0m\u001b[1;33m]\u001b[0m\u001b[1;33m.\u001b[0m\u001b[0mreplace\u001b[0m\u001b[1;33m(\u001b[0m\u001b[1;34m';'\u001b[0m\u001b[1;33m,\u001b[0m \u001b[1;34m''\u001b[0m\u001b[1;33m)\u001b[0m\u001b[1;33m,\u001b[0m\u001b[1;33m\u001b[0m\u001b[1;33m\u001b[0m\u001b[0m\n",
      "\u001b[1;32m<ipython-input-3-98a0ff84f9ed>\u001b[0m in \u001b[0;36mget_rest_details\u001b[1;34m(rest_url)\u001b[0m\n\u001b[0;32m      4\u001b[0m     \u001b[1;32mtry\u001b[0m\u001b[1;33m:\u001b[0m\u001b[1;33m\u001b[0m\u001b[1;33m\u001b[0m\u001b[0m\n\u001b[0;32m      5\u001b[0m         \u001b[0mreq\u001b[0m \u001b[1;33m=\u001b[0m \u001b[0mRequest\u001b[0m\u001b[1;33m(\u001b[0m\u001b[0mrest_url\u001b[0m\u001b[1;33m,\u001b[0m \u001b[0mheaders\u001b[0m\u001b[1;33m=\u001b[0m\u001b[1;33m{\u001b[0m\u001b[1;34m'User-Agent'\u001b[0m\u001b[1;33m:\u001b[0m \u001b[1;34m'Mozilla/5.0'\u001b[0m\u001b[1;33m,\u001b[0m \u001b[1;34m'Accept'\u001b[0m\u001b[1;33m:\u001b[0m \u001b[1;34m'text/html,application/xhtml+xml,application/xml'\u001b[0m\u001b[1;33m}\u001b[0m\u001b[1;33m)\u001b[0m\u001b[1;33m\u001b[0m\u001b[1;33m\u001b[0m\u001b[0m\n\u001b[1;32m----> 6\u001b[1;33m         \u001b[0mwebpage\u001b[0m \u001b[1;33m=\u001b[0m \u001b[0murlopen\u001b[0m\u001b[1;33m(\u001b[0m\u001b[0mreq\u001b[0m\u001b[1;33m)\u001b[0m\u001b[1;33m.\u001b[0m\u001b[0mread\u001b[0m\u001b[1;33m(\u001b[0m\u001b[1;33m)\u001b[0m\u001b[1;33m\u001b[0m\u001b[1;33m\u001b[0m\u001b[0m\n\u001b[0m\u001b[0;32m      7\u001b[0m         \u001b[0msoup\u001b[0m \u001b[1;33m=\u001b[0m \u001b[0mBeautifulSoup\u001b[0m\u001b[1;33m(\u001b[0m\u001b[0mwebpage\u001b[0m\u001b[1;33m,\u001b[0m \u001b[1;34m'html.parser'\u001b[0m\u001b[1;33m)\u001b[0m\u001b[1;33m\u001b[0m\u001b[1;33m\u001b[0m\u001b[0m\n\u001b[0;32m      8\u001b[0m         \u001b[0mrest_obj\u001b[0m \u001b[1;33m=\u001b[0m \u001b[0mjson\u001b[0m\u001b[1;33m.\u001b[0m\u001b[0mloads\u001b[0m\u001b[1;33m(\u001b[0m\u001b[0msoup\u001b[0m\u001b[1;33m.\u001b[0m\u001b[0mfind\u001b[0m\u001b[1;33m(\u001b[0m\u001b[1;34m\"script\"\u001b[0m\u001b[1;33m,\u001b[0m \u001b[0mtype\u001b[0m\u001b[1;33m=\u001b[0m\u001b[1;34m\"application/ld+json\"\u001b[0m\u001b[1;33m)\u001b[0m\u001b[1;33m.\u001b[0m\u001b[0mtext\u001b[0m\u001b[1;33m)\u001b[0m\u001b[1;33m\u001b[0m\u001b[1;33m\u001b[0m\u001b[0m\n",
      "\u001b[1;32m/usr/lib/python3.6/http/client.py\u001b[0m in \u001b[0;36mread\u001b[1;34m(self, amt)\u001b[0m\n\u001b[0;32m    470\u001b[0m             \u001b[1;32melse\u001b[0m\u001b[1;33m:\u001b[0m\u001b[1;33m\u001b[0m\u001b[1;33m\u001b[0m\u001b[0m\n\u001b[0;32m    471\u001b[0m                 \u001b[1;32mtry\u001b[0m\u001b[1;33m:\u001b[0m\u001b[1;33m\u001b[0m\u001b[1;33m\u001b[0m\u001b[0m\n\u001b[1;32m--> 472\u001b[1;33m                     \u001b[0ms\u001b[0m \u001b[1;33m=\u001b[0m \u001b[0mself\u001b[0m\u001b[1;33m.\u001b[0m\u001b[0m_safe_read\u001b[0m\u001b[1;33m(\u001b[0m\u001b[0mself\u001b[0m\u001b[1;33m.\u001b[0m\u001b[0mlength\u001b[0m\u001b[1;33m)\u001b[0m\u001b[1;33m\u001b[0m\u001b[1;33m\u001b[0m\u001b[0m\n\u001b[0m\u001b[0;32m    473\u001b[0m                 \u001b[1;32mexcept\u001b[0m \u001b[0mIncompleteRead\u001b[0m\u001b[1;33m:\u001b[0m\u001b[1;33m\u001b[0m\u001b[1;33m\u001b[0m\u001b[0m\n\u001b[0;32m    474\u001b[0m                     \u001b[0mself\u001b[0m\u001b[1;33m.\u001b[0m\u001b[0m_close_conn\u001b[0m\u001b[1;33m(\u001b[0m\u001b[1;33m)\u001b[0m\u001b[1;33m\u001b[0m\u001b[1;33m\u001b[0m\u001b[0m\n",
      "\u001b[1;32m/usr/lib/python3.6/http/client.py\u001b[0m in \u001b[0;36m_safe_read\u001b[1;34m(self, amt)\u001b[0m\n\u001b[0;32m    620\u001b[0m         \u001b[0ms\u001b[0m \u001b[1;33m=\u001b[0m \u001b[1;33m[\u001b[0m\u001b[1;33m]\u001b[0m\u001b[1;33m\u001b[0m\u001b[1;33m\u001b[0m\u001b[0m\n\u001b[0;32m    621\u001b[0m         \u001b[1;32mwhile\u001b[0m \u001b[0mamt\u001b[0m \u001b[1;33m>\u001b[0m \u001b[1;36m0\u001b[0m\u001b[1;33m:\u001b[0m\u001b[1;33m\u001b[0m\u001b[1;33m\u001b[0m\u001b[0m\n\u001b[1;32m--> 622\u001b[1;33m             \u001b[0mchunk\u001b[0m \u001b[1;33m=\u001b[0m \u001b[0mself\u001b[0m\u001b[1;33m.\u001b[0m\u001b[0mfp\u001b[0m\u001b[1;33m.\u001b[0m\u001b[0mread\u001b[0m\u001b[1;33m(\u001b[0m\u001b[0mmin\u001b[0m\u001b[1;33m(\u001b[0m\u001b[0mamt\u001b[0m\u001b[1;33m,\u001b[0m \u001b[0mMAXAMOUNT\u001b[0m\u001b[1;33m)\u001b[0m\u001b[1;33m)\u001b[0m\u001b[1;33m\u001b[0m\u001b[1;33m\u001b[0m\u001b[0m\n\u001b[0m\u001b[0;32m    623\u001b[0m             \u001b[1;32mif\u001b[0m \u001b[1;32mnot\u001b[0m \u001b[0mchunk\u001b[0m\u001b[1;33m:\u001b[0m\u001b[1;33m\u001b[0m\u001b[1;33m\u001b[0m\u001b[0m\n\u001b[0;32m    624\u001b[0m                 \u001b[1;32mraise\u001b[0m \u001b[0mIncompleteRead\u001b[0m\u001b[1;33m(\u001b[0m\u001b[1;34mb''\u001b[0m\u001b[1;33m.\u001b[0m\u001b[0mjoin\u001b[0m\u001b[1;33m(\u001b[0m\u001b[0ms\u001b[0m\u001b[1;33m)\u001b[0m\u001b[1;33m,\u001b[0m \u001b[0mamt\u001b[0m\u001b[1;33m)\u001b[0m\u001b[1;33m\u001b[0m\u001b[1;33m\u001b[0m\u001b[0m\n",
      "\u001b[1;32m/usr/lib/python3.6/socket.py\u001b[0m in \u001b[0;36mreadinto\u001b[1;34m(self, b)\u001b[0m\n\u001b[0;32m    584\u001b[0m         \u001b[1;32mwhile\u001b[0m \u001b[1;32mTrue\u001b[0m\u001b[1;33m:\u001b[0m\u001b[1;33m\u001b[0m\u001b[1;33m\u001b[0m\u001b[0m\n\u001b[0;32m    585\u001b[0m             \u001b[1;32mtry\u001b[0m\u001b[1;33m:\u001b[0m\u001b[1;33m\u001b[0m\u001b[1;33m\u001b[0m\u001b[0m\n\u001b[1;32m--> 586\u001b[1;33m                 \u001b[1;32mreturn\u001b[0m \u001b[0mself\u001b[0m\u001b[1;33m.\u001b[0m\u001b[0m_sock\u001b[0m\u001b[1;33m.\u001b[0m\u001b[0mrecv_into\u001b[0m\u001b[1;33m(\u001b[0m\u001b[0mb\u001b[0m\u001b[1;33m)\u001b[0m\u001b[1;33m\u001b[0m\u001b[1;33m\u001b[0m\u001b[0m\n\u001b[0m\u001b[0;32m    587\u001b[0m             \u001b[1;32mexcept\u001b[0m \u001b[0mtimeout\u001b[0m\u001b[1;33m:\u001b[0m\u001b[1;33m\u001b[0m\u001b[1;33m\u001b[0m\u001b[0m\n\u001b[0;32m    588\u001b[0m                 \u001b[0mself\u001b[0m\u001b[1;33m.\u001b[0m\u001b[0m_timeout_occurred\u001b[0m \u001b[1;33m=\u001b[0m \u001b[1;32mTrue\u001b[0m\u001b[1;33m\u001b[0m\u001b[1;33m\u001b[0m\u001b[0m\n",
      "\u001b[1;32m/usr/lib/python3.6/ssl.py\u001b[0m in \u001b[0;36mrecv_into\u001b[1;34m(self, buffer, nbytes, flags)\u001b[0m\n\u001b[0;32m   1010\u001b[0m                   \u001b[1;34m\"non-zero flags not allowed in calls to recv_into() on %s\"\u001b[0m \u001b[1;33m%\u001b[0m\u001b[1;33m\u001b[0m\u001b[1;33m\u001b[0m\u001b[0m\n\u001b[0;32m   1011\u001b[0m                   self.__class__)\n\u001b[1;32m-> 1012\u001b[1;33m             \u001b[1;32mreturn\u001b[0m \u001b[0mself\u001b[0m\u001b[1;33m.\u001b[0m\u001b[0mread\u001b[0m\u001b[1;33m(\u001b[0m\u001b[0mnbytes\u001b[0m\u001b[1;33m,\u001b[0m \u001b[0mbuffer\u001b[0m\u001b[1;33m)\u001b[0m\u001b[1;33m\u001b[0m\u001b[1;33m\u001b[0m\u001b[0m\n\u001b[0m\u001b[0;32m   1013\u001b[0m         \u001b[1;32melse\u001b[0m\u001b[1;33m:\u001b[0m\u001b[1;33m\u001b[0m\u001b[1;33m\u001b[0m\u001b[0m\n\u001b[0;32m   1014\u001b[0m             \u001b[1;32mreturn\u001b[0m \u001b[0msocket\u001b[0m\u001b[1;33m.\u001b[0m\u001b[0mrecv_into\u001b[0m\u001b[1;33m(\u001b[0m\u001b[0mself\u001b[0m\u001b[1;33m,\u001b[0m \u001b[0mbuffer\u001b[0m\u001b[1;33m,\u001b[0m \u001b[0mnbytes\u001b[0m\u001b[1;33m,\u001b[0m \u001b[0mflags\u001b[0m\u001b[1;33m)\u001b[0m\u001b[1;33m\u001b[0m\u001b[1;33m\u001b[0m\u001b[0m\n",
      "\u001b[1;32m/usr/lib/python3.6/ssl.py\u001b[0m in \u001b[0;36mread\u001b[1;34m(self, len, buffer)\u001b[0m\n\u001b[0;32m    872\u001b[0m             \u001b[1;32mraise\u001b[0m \u001b[0mValueError\u001b[0m\u001b[1;33m(\u001b[0m\u001b[1;34m\"Read on closed or unwrapped SSL socket.\"\u001b[0m\u001b[1;33m)\u001b[0m\u001b[1;33m\u001b[0m\u001b[1;33m\u001b[0m\u001b[0m\n\u001b[0;32m    873\u001b[0m         \u001b[1;32mtry\u001b[0m\u001b[1;33m:\u001b[0m\u001b[1;33m\u001b[0m\u001b[1;33m\u001b[0m\u001b[0m\n\u001b[1;32m--> 874\u001b[1;33m             \u001b[1;32mreturn\u001b[0m \u001b[0mself\u001b[0m\u001b[1;33m.\u001b[0m\u001b[0m_sslobj\u001b[0m\u001b[1;33m.\u001b[0m\u001b[0mread\u001b[0m\u001b[1;33m(\u001b[0m\u001b[0mlen\u001b[0m\u001b[1;33m,\u001b[0m \u001b[0mbuffer\u001b[0m\u001b[1;33m)\u001b[0m\u001b[1;33m\u001b[0m\u001b[1;33m\u001b[0m\u001b[0m\n\u001b[0m\u001b[0;32m    875\u001b[0m         \u001b[1;32mexcept\u001b[0m \u001b[0mSSLError\u001b[0m \u001b[1;32mas\u001b[0m \u001b[0mx\u001b[0m\u001b[1;33m:\u001b[0m\u001b[1;33m\u001b[0m\u001b[1;33m\u001b[0m\u001b[0m\n\u001b[0;32m    876\u001b[0m             \u001b[1;32mif\u001b[0m \u001b[0mx\u001b[0m\u001b[1;33m.\u001b[0m\u001b[0margs\u001b[0m\u001b[1;33m[\u001b[0m\u001b[1;36m0\u001b[0m\u001b[1;33m]\u001b[0m \u001b[1;33m==\u001b[0m \u001b[0mSSL_ERROR_EOF\u001b[0m \u001b[1;32mand\u001b[0m \u001b[0mself\u001b[0m\u001b[1;33m.\u001b[0m\u001b[0msuppress_ragged_eofs\u001b[0m\u001b[1;33m:\u001b[0m\u001b[1;33m\u001b[0m\u001b[1;33m\u001b[0m\u001b[0m\n",
      "\u001b[1;32m/usr/lib/python3.6/ssl.py\u001b[0m in \u001b[0;36mread\u001b[1;34m(self, len, buffer)\u001b[0m\n\u001b[0;32m    629\u001b[0m         \"\"\"\n\u001b[0;32m    630\u001b[0m         \u001b[1;32mif\u001b[0m \u001b[0mbuffer\u001b[0m \u001b[1;32mis\u001b[0m \u001b[1;32mnot\u001b[0m \u001b[1;32mNone\u001b[0m\u001b[1;33m:\u001b[0m\u001b[1;33m\u001b[0m\u001b[1;33m\u001b[0m\u001b[0m\n\u001b[1;32m--> 631\u001b[1;33m             \u001b[0mv\u001b[0m \u001b[1;33m=\u001b[0m \u001b[0mself\u001b[0m\u001b[1;33m.\u001b[0m\u001b[0m_sslobj\u001b[0m\u001b[1;33m.\u001b[0m\u001b[0mread\u001b[0m\u001b[1;33m(\u001b[0m\u001b[0mlen\u001b[0m\u001b[1;33m,\u001b[0m \u001b[0mbuffer\u001b[0m\u001b[1;33m)\u001b[0m\u001b[1;33m\u001b[0m\u001b[1;33m\u001b[0m\u001b[0m\n\u001b[0m\u001b[0;32m    632\u001b[0m         \u001b[1;32melse\u001b[0m\u001b[1;33m:\u001b[0m\u001b[1;33m\u001b[0m\u001b[1;33m\u001b[0m\u001b[0m\n\u001b[0;32m    633\u001b[0m             \u001b[0mv\u001b[0m \u001b[1;33m=\u001b[0m \u001b[0mself\u001b[0m\u001b[1;33m.\u001b[0m\u001b[0m_sslobj\u001b[0m\u001b[1;33m.\u001b[0m\u001b[0mread\u001b[0m\u001b[1;33m(\u001b[0m\u001b[0mlen\u001b[0m\u001b[1;33m)\u001b[0m\u001b[1;33m\u001b[0m\u001b[1;33m\u001b[0m\u001b[0m\n",
      "\u001b[1;31mKeyboardInterrupt\u001b[0m: "
     ]
    }
   ],
   "source": [
    "f = open('./UE-NY-rest-details.csv', 'a')\n",
    "error_rests = []\n",
    "scrap_all_rest(urls_df, f, error_rests)\n",
    "# curr_rest = urls_df.iloc[0]\n",
    "# curr_rest.url"
   ]
  },
  {
   "cell_type": "code",
   "execution_count": 7,
   "metadata": {
    "collapsed": false
   },
   "outputs": [
    {
     "data": {
      "text/plain": [
       "['https://www.ubereats.com/new-york/food-delivery/the-snack-pusher-murray-hill/80WsNn47TVeQ-AQM_BLuBg',\n",
       " 'https://www.ubereats.com/new-york/food-delivery/cafe-oliviero/jpppMJulSWiCJFn1_K4iMg',\n",
       " 'https://www.ubereats.com/new-york/food-delivery/city-burger-co/XrWTliv2QM2GFefDHTdRkg',\n",
       " 'https://www.ubereats.com/new-york/food-delivery/the-ice-cream-shop/2y6yFh_HS4q5isxaScOFFg']"
      ]
     },
     "execution_count": 7,
     "metadata": {},
     "output_type": "execute_result"
    }
   ],
   "source": [
    "error_rests"
   ]
  },
  {
   "cell_type": "code",
   "execution_count": 21,
   "metadata": {
    "collapsed": false
   },
   "outputs": [],
   "source": [
    "url = urls_df.iloc[2613]['url']\n",
    "obj = get_rest_details(url)"
   ]
  },
  {
   "cell_type": "code",
   "execution_count": 18,
   "metadata": {
    "collapsed": false
   },
   "outputs": [
    {
     "data": {
      "text/plain": [
       "{'@context': 'http://schema.org',\n",
       " '@id': 'https://www.ubereats.com/new-york/food-delivery/grandlo-cafe/YYHa-1X9SumDbHHS2bUQZQ',\n",
       " '@type': 'Restaurant',\n",
       " 'address': {'@type': 'PostalAddress',\n",
       "  'addressCountry': 'US',\n",
       "  'addressLocality': 'New York',\n",
       "  'addressRegion': 'NY',\n",
       "  'postalCode': '10002',\n",
       "  'streetAddress': '168 Broome St'},\n",
       " 'aggregateRating': {},\n",
       " 'geo': {'@type': 'GeoCoordinates',\n",
       "  'latitude': 40.7168819,\n",
       "  'longitude': -73.9857066},\n",
       " 'image': ['https://d1ralsognjng37.cloudfront.net/441cca2f-daf1-4896-af8d-d69d0f126d45.jpeg',\n",
       "  'https://d1ralsognjng37.cloudfront.net/8cde219d-81d4-4c05-9720-40f28c6d5e0c.jpeg',\n",
       "  'https://d1ralsognjng37.cloudfront.net/6e748356-226a-4816-b82c-2df3724ee5cf.jpeg',\n",
       "  'https://d1ralsognjng37.cloudfront.net/6f5b0624-f909-4717-bfdb-b50c32972d49.jpeg',\n",
       "  'https://d1ralsognjng37.cloudfront.net/01498a40-70da-492f-be87-857681ee80a2.jpeg',\n",
       "  'https://d1ralsognjng37.cloudfront.net/14d074ea-fabb-4ea8-a55e-cc8d34976fdc.jpeg'],\n",
       " 'name': 'GrandLo Cafe',\n",
       " 'openingHoursSpecification': [{'@type': 'OpeningHoursSpecification',\n",
       "   'closes': '10:0',\n",
       "   'dayOfWeek': 'Sunday',\n",
       "   'opens': '7:0'},\n",
       "  {'@type': 'OpeningHoursSpecification',\n",
       "   'closes': '15:0',\n",
       "   'dayOfWeek': 'Sunday',\n",
       "   'opens': '11:0'},\n",
       "  {'@type': 'OpeningHoursSpecification',\n",
       "   'closes': '15:0',\n",
       "   'dayOfWeek': 'Sunday',\n",
       "   'opens': '7:0'},\n",
       "  {'@type': 'OpeningHoursSpecification',\n",
       "   'closes': '13:0',\n",
       "   'dayOfWeek': 'Sunday',\n",
       "   'opens': '9:0'},\n",
       "  {'@type': 'OpeningHoursSpecification',\n",
       "   'closes': '10:0',\n",
       "   'dayOfWeek': ['Monday', 'Tuesday', 'Wednesday', 'Thursday', 'Friday'],\n",
       "   'opens': '7:0'},\n",
       "  {'@type': 'OpeningHoursSpecification',\n",
       "   'closes': '15:0',\n",
       "   'dayOfWeek': ['Monday', 'Tuesday', 'Wednesday', 'Thursday', 'Friday'],\n",
       "   'opens': '11:0'},\n",
       "  {'@type': 'OpeningHoursSpecification',\n",
       "   'closes': '18:0',\n",
       "   'dayOfWeek': ['Monday', 'Tuesday', 'Wednesday', 'Thursday', 'Friday'],\n",
       "   'opens': '8:0'},\n",
       "  {'@type': 'OpeningHoursSpecification',\n",
       "   'closes': '10:0',\n",
       "   'dayOfWeek': 'Saturday',\n",
       "   'opens': '7:0'},\n",
       "  {'@type': 'OpeningHoursSpecification',\n",
       "   'closes': '15:0',\n",
       "   'dayOfWeek': 'Saturday',\n",
       "   'opens': '11:0'},\n",
       "  {'@type': 'OpeningHoursSpecification',\n",
       "   'closes': '15:0',\n",
       "   'dayOfWeek': 'Saturday',\n",
       "   'opens': '7:0'},\n",
       "  {'@type': 'OpeningHoursSpecification',\n",
       "   'closes': '13:0',\n",
       "   'dayOfWeek': 'Saturday',\n",
       "   'opens': '9:0'}],\n",
       " 'potentialAction': {'@type': 'OrderAction',\n",
       "  'deliveryMethod': ['http://purl.org/goodrelations/v1#DeliveryModeOwnFleet'],\n",
       "  'target': {'@type': 'EntryPoint',\n",
       "   'actionPlatform': ['http://schema.org/DesktopWebPlatform',\n",
       "    'http://schema.org/MobileWebPlatform'],\n",
       "   'inLanguage': 'English',\n",
       "   'urlTemplate': 'https://www.ubereats.com/new-york/food-delivery/grandlo-cafe/YYHa-1X9SumDbHHS2bUQZQ?utm_campaign=order-action&amp;utm_medium=organic'}},\n",
       " 'priceRange': '$',\n",
       " 'servesCuisine': ['American', 'Breakfast and Brunch', 'Latin American'],\n",
       " 'telephone': '+16462014296'}"
      ]
     },
     "execution_count": 18,
     "metadata": {},
     "output_type": "execute_result"
    }
   ],
   "source": [
    "obj"
   ]
  }
 ],
 "metadata": {
  "kernelspec": {
   "display_name": "Python 3",
   "language": "python",
   "name": "python3"
  },
  "language_info": {
   "codemirror_mode": {
    "name": "ipython",
    "version": 3
   },
   "file_extension": ".py",
   "mimetype": "text/x-python",
   "name": "python",
   "nbconvert_exporter": "python",
   "pygments_lexer": "ipython3",
   "version": "3.6.9"
  }
 },
 "nbformat": 4,
 "nbformat_minor": 0
}
