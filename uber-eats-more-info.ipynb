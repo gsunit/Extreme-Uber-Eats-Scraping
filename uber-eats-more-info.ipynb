{
 "cells": [
  {
   "cell_type": "code",
   "execution_count": null,
   "metadata": {
    "collapsed": true
   },
   "outputs": [],
   "source": [
    "# from selenium.webdriver import ActionChains\n",
    "# from selenium.webdriver.common.keys import Keys\n",
    "\n",
    "# main_win_handle = driver.current_window_handle\n",
    "\n",
    "# skip = []\n",
    "\n",
    "# for i in range(df.shape[0]):\n",
    "#     name = df.iloc[i]['name']\n",
    "#     if name in skip:\n",
    "#         continue\n",
    "#     print(f\"Processing:{i}, {name}\")\n",
    "#     url = driver.find_element_by_link_text(name)\n",
    "#     actions = ActionChains(driver)\n",
    "#     actions.key_down(Keys.CONTROL).click(url).key_up(Keys.CONTROL).perform()\n",
    "#     driver.implicitly_wait(4)\n",
    "#     driver.switch_to.window(driver.window_handles[-1])\n",
    "#     driver.implicitly_wait(4)\n",
    "#     try:\n",
    "#         num_reviews1 = WebDriverWait(driver, 10).until(\n",
    "#             EC.presence_of_element_located((By.CLASS_NAME, 'do'))\n",
    "#         )\n",
    "#         num_reviews2 = WebDriverWait(driver, 10).until(\n",
    "#             EC.presence_of_element_located((By.CLASS_NAME, 'dk'))\n",
    "#         )\n",
    "#     except:\n",
    "#         print(f\"error1: {name}\")\n",
    "        \n",
    "    \n",
    "#     if len(num_reviews1.text)>0 and num_reviews1.text[0]=='(' :\n",
    "#         num_reviews = num_reviews1.text\n",
    "#     elif len(num_reviews2.text)>0 and num_reviews2.text[0]=='(' :\n",
    "#         num_reviews = num_reviews2.text\n",
    "#     else :\n",
    "#         num_reviews = '( )'\n",
    "        \n",
    "#     print(num_reviews)\n",
    "# #     df.iloc[i]['num_reviews'] = final_num\n",
    "# #     df.iloc[i]['address'] = final_address\n",
    "    \n",
    "#     driver.close()\n",
    "#     driver.switch_to_window(main_win_handle)\n",
    "#     driver.back()\n",
    "#     driver.implicitly_wait(4)\n",
    "    "
   ]
  },
  {
   "cell_type": "code",
   "execution_count": 3,
   "metadata": {
    "collapsed": false
   },
   "outputs": [
    {
     "data": {
      "text/plain": [
       "['\"address\":{\"@type\":\"PostalAddress\",\"addressLocality\":\"New York\",\"addressRegion\":\"NY\",\"postalCode\":\"10011\",\"addressCountry\":\"US\",\"streetAddress\":\"74 5th Avenue\"}']"
      ]
     },
     "execution_count": 3,
     "metadata": {},
     "output_type": "execute_result"
    }
   ],
   "source": [
    "from urllib.request import Request, urlopen\n",
    "from bs4 import BeautifulSoup\n",
    "import re\n",
    "  \n",
    "URL = \"https://www.ubereats.com/new-york/food-delivery/braddahs-hawaiian-bbq-nyc/6huCg0ATSD6CbJxCmFm05g\"\n",
    "\n",
    "req = Request(URL, headers={'User-Agent': 'Mozilla/5.0', 'Accept': 'text/html,application/xhtml+xml,application/xml'})\n",
    "webpage = urlopen(req).read()\n",
    "# print(webpage)\n",
    "soup = BeautifulSoup(webpage, 'html.parser') \n",
    "# print(soup.prettify()) \n",
    "\n",
    "s = soup.find(\"script\", {\"type\": \"application/ld+json\"}).get_text()\n",
    "re.findall(\"\\\"address\\\":\\s*\\{.+?\\}\", s)"
   ]
  }
 ],
 "metadata": {
  "kernelspec": {
   "display_name": "Python 3",
   "language": "python",
   "name": "python3"
  },
  "language_info": {
   "codemirror_mode": {
    "name": "ipython",
    "version": 3
   },
   "file_extension": ".py",
   "mimetype": "text/x-python",
   "name": "python",
   "nbconvert_exporter": "python",
   "pygments_lexer": "ipython3",
   "version": "3.6.9"
  }
 },
 "nbformat": 4,
 "nbformat_minor": 0
}
