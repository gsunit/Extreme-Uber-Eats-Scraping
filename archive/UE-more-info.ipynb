{
 "cells": [
  {
   "cell_type": "code",
   "execution_count": 1,
   "metadata": {
    "collapsed": false
   },
   "outputs": [
    {
     "data": {
      "text/plain": [
       "['\"address\":{\"@type\":\"PostalAddress\",\"addressLocality\":\"New York\",\"addressRegion\":\"NY\",\"postalCode\":\"10011\",\"addressCountry\":\"US\",\"streetAddress\":\"74 5th Avenue\"}']"
      ]
     },
     "execution_count": 1,
     "metadata": {},
     "output_type": "execute_result"
    }
   ],
   "source": [
    "from IPython.core.interactiveshell import InteractiveShell\n",
    "InteractiveShell.ast_node_interactivity = \"all\"\n",
    "\n",
    "from urllib.request import Request, urlopen\n",
    "from bs4 import BeautifulSoup\n",
    "import re\n",
    "  \n",
    "URL = \"https://www.ubereats.com/new-york/food-delivery/braddahs-hawaiian-bbq-nyc/6huCg0ATSD6CbJxCmFm05g\"\n",
    "\n",
    "req = Request(URL, headers={'User-Agent': 'Mozilla/5.0', 'Accept': 'text/html,application/xhtml+xml,application/xml'})\n",
    "webpage = urlopen(req).read()\n",
    "# print(webpage)\n",
    "soup = BeautifulSoup(webpage, 'html.parser') \n",
    "# print(soup.prettify()) \n",
    "\n",
    "s = soup.find(\"script\", {\"type\": \"application/ld+json\"}).get_text()\n",
    "re.findall(\"\\\"address\\\":\\s*\\{.+?\\}\", s)"
   ]
  },
  {
   "cell_type": "code",
   "execution_count": 2,
   "metadata": {
    "collapsed": true
   },
   "outputs": [],
   "source": [
    "import pandas as pd"
   ]
  },
  {
   "cell_type": "code",
   "execution_count": 3,
   "metadata": {
    "collapsed": false
   },
   "outputs": [
    {
     "data": {
      "text/html": [
       "<div>\n",
       "<style scoped>\n",
       "    .dataframe tbody tr th:only-of-type {\n",
       "        vertical-align: middle;\n",
       "    }\n",
       "\n",
       "    .dataframe tbody tr th {\n",
       "        vertical-align: top;\n",
       "    }\n",
       "\n",
       "    .dataframe thead th {\n",
       "        text-align: right;\n",
       "    }\n",
       "</style>\n",
       "<table border=\"1\" class=\"dataframe\">\n",
       "  <thead>\n",
       "    <tr style=\"text-align: right;\">\n",
       "      <th></th>\n",
       "      <th>Unnamed: 0</th>\n",
       "      <th>name</th>\n",
       "      <th>offer</th>\n",
       "      <th>delivery_fee</th>\n",
       "      <th>delivery_time</th>\n",
       "      <th>rating</th>\n",
       "      <th>cuisine</th>\n",
       "      <th>url</th>\n",
       "      <th>num_reviews</th>\n",
       "      <th>address</th>\n",
       "    </tr>\n",
       "  </thead>\n",
       "  <tbody>\n",
       "    <tr>\n",
       "      <th>0</th>\n",
       "      <td>0</td>\n",
       "      <td>Wendy's (650 Broadway)</td>\n",
       "      <td></td>\n",
       "      <td>$0.99</td>\n",
       "      <td>30–45 Min</td>\n",
       "      <td>4.2</td>\n",
       "      <td>American • Burgers • Fast Food • Breakfast and...</td>\n",
       "      <td>https://www.ubereats.com/new-york/food-deliver...</td>\n",
       "      <td>( )</td>\n",
       "      <td>NaN</td>\n",
       "    </tr>\n",
       "    <tr>\n",
       "      <th>1</th>\n",
       "      <td>1</td>\n",
       "      <td>Bluestone Lane (51 Astor Pl)</td>\n",
       "      <td></td>\n",
       "      <td>$1.99</td>\n",
       "      <td>35–50 Min</td>\n",
       "      <td>4.7</td>\n",
       "      <td>Breakfast and Brunch • Coffee and Tea • Health...</td>\n",
       "      <td>https://www.ubereats.com/new-york/food-deliver...</td>\n",
       "      <td>( )</td>\n",
       "      <td>NaN</td>\n",
       "    </tr>\n",
       "    <tr>\n",
       "      <th>2</th>\n",
       "      <td>2</td>\n",
       "      <td>Murray's Bagels - Greenwich Village</td>\n",
       "      <td></td>\n",
       "      <td>$3.99</td>\n",
       "      <td>40–55 Min</td>\n",
       "      <td>4.8</td>\n",
       "      <td>Breakfast and Brunch • Sandwich • Salads • Des...</td>\n",
       "      <td>https://www.ubereats.com/new-york/food-deliver...</td>\n",
       "      <td>( )</td>\n",
       "      <td>NaN</td>\n",
       "    </tr>\n",
       "    <tr>\n",
       "      <th>3</th>\n",
       "      <td>3</td>\n",
       "      <td>La Parisienne - FiDi</td>\n",
       "      <td></td>\n",
       "      <td>$0.99</td>\n",
       "      <td>20–35 Min</td>\n",
       "      <td>5.0</td>\n",
       "      <td>French • Cafe • Healthy</td>\n",
       "      <td>https://www.ubereats.com/new-york/food-deliver...</td>\n",
       "      <td>( )</td>\n",
       "      <td>NaN</td>\n",
       "    </tr>\n",
       "    <tr>\n",
       "      <th>4</th>\n",
       "      <td>4</td>\n",
       "      <td>Red Mango - FiDi</td>\n",
       "      <td></td>\n",
       "      <td>$1.99</td>\n",
       "      <td>30–45 Min</td>\n",
       "      <td>4.8</td>\n",
       "      <td>Desserts</td>\n",
       "      <td>https://www.ubereats.com/new-york/food-deliver...</td>\n",
       "      <td>( )</td>\n",
       "      <td>NaN</td>\n",
       "    </tr>\n",
       "  </tbody>\n",
       "</table>\n",
       "</div>"
      ],
      "text/plain": [
       "   Unnamed: 0                                 name offer delivery_fee  \\\n",
       "0           0               Wendy's (650 Broadway)              $0.99   \n",
       "1           1         Bluestone Lane (51 Astor Pl)              $1.99   \n",
       "2           2  Murray's Bagels - Greenwich Village              $3.99   \n",
       "3           3                 La Parisienne - FiDi              $0.99   \n",
       "4           4                     Red Mango - FiDi              $1.99   \n",
       "\n",
       "  delivery_time rating                                            cuisine  \\\n",
       "0     30–45 Min    4.2  American • Burgers • Fast Food • Breakfast and...   \n",
       "1     35–50 Min    4.7  Breakfast and Brunch • Coffee and Tea • Health...   \n",
       "2     40–55 Min    4.8  Breakfast and Brunch • Sandwich • Salads • Des...   \n",
       "3     20–35 Min    5.0                            French • Cafe • Healthy   \n",
       "4     30–45 Min    4.8                                           Desserts   \n",
       "\n",
       "                                                 url num_reviews  address  \n",
       "0  https://www.ubereats.com/new-york/food-deliver...         ( )      NaN  \n",
       "1  https://www.ubereats.com/new-york/food-deliver...         ( )      NaN  \n",
       "2  https://www.ubereats.com/new-york/food-deliver...         ( )      NaN  \n",
       "3  https://www.ubereats.com/new-york/food-deliver...         ( )      NaN  \n",
       "4  https://www.ubereats.com/new-york/food-deliver...         ( )      NaN  "
      ]
     },
     "execution_count": 3,
     "metadata": {},
     "output_type": "execute_result"
    }
   ],
   "source": [
    "df = pd.read_csv(\"./new-york-city.csv\")\n",
    "df.head()"
   ]
  },
  {
   "cell_type": "code",
   "execution_count": 4,
   "metadata": {
    "collapsed": false
   },
   "outputs": [
    {
     "data": {
      "text/plain": [
       "Index(['Unnamed: 0', 'name', 'offer', 'delivery_fee', 'delivery_time',\n",
       "       'rating', 'cuisine', 'url', 'num_reviews', 'address'],\n",
       "      dtype='object')"
      ]
     },
     "execution_count": 4,
     "metadata": {},
     "output_type": "execute_result"
    }
   ],
   "source": [
    "df.columns"
   ]
  },
  {
   "cell_type": "code",
   "execution_count": 5,
   "metadata": {
    "collapsed": false
   },
   "outputs": [],
   "source": [
    "df = df.drop(['Unnamed: 0', 'num_reviews'], axis=1)"
   ]
  },
  {
   "cell_type": "code",
   "execution_count": 12,
   "metadata": {
    "collapsed": false
   },
   "outputs": [
    {
     "data": {
      "text/html": [
       "<div>\n",
       "<style scoped>\n",
       "    .dataframe tbody tr th:only-of-type {\n",
       "        vertical-align: middle;\n",
       "    }\n",
       "\n",
       "    .dataframe tbody tr th {\n",
       "        vertical-align: top;\n",
       "    }\n",
       "\n",
       "    .dataframe thead th {\n",
       "        text-align: right;\n",
       "    }\n",
       "</style>\n",
       "<table border=\"1\" class=\"dataframe\">\n",
       "  <thead>\n",
       "    <tr style=\"text-align: right;\">\n",
       "      <th></th>\n",
       "      <th>name</th>\n",
       "      <th>offer</th>\n",
       "      <th>delivery_fee</th>\n",
       "      <th>delivery_time</th>\n",
       "      <th>rating</th>\n",
       "      <th>cuisine</th>\n",
       "      <th>url</th>\n",
       "      <th>address</th>\n",
       "    </tr>\n",
       "  </thead>\n",
       "  <tbody>\n",
       "    <tr>\n",
       "      <th>0</th>\n",
       "      <td>Wendy's (650 Broadway)</td>\n",
       "      <td></td>\n",
       "      <td>$0.99</td>\n",
       "      <td>30–45 Min</td>\n",
       "      <td>4.2</td>\n",
       "      <td>American • Burgers • Fast Food • Breakfast and...</td>\n",
       "      <td>https://www.ubereats.com/new-york/food-deliver...</td>\n",
       "      <td>test3</td>\n",
       "    </tr>\n",
       "    <tr>\n",
       "      <th>1</th>\n",
       "      <td>Bluestone Lane (51 Astor Pl)</td>\n",
       "      <td></td>\n",
       "      <td>$1.99</td>\n",
       "      <td>35–50 Min</td>\n",
       "      <td>4.7</td>\n",
       "      <td>Breakfast and Brunch • Coffee and Tea • Health...</td>\n",
       "      <td>https://www.ubereats.com/new-york/food-deliver...</td>\n",
       "      <td>test</td>\n",
       "    </tr>\n",
       "    <tr>\n",
       "      <th>2</th>\n",
       "      <td>Murray's Bagels - Greenwich Village</td>\n",
       "      <td></td>\n",
       "      <td>$3.99</td>\n",
       "      <td>40–55 Min</td>\n",
       "      <td>4.8</td>\n",
       "      <td>Breakfast and Brunch • Sandwich • Salads • Des...</td>\n",
       "      <td>https://www.ubereats.com/new-york/food-deliver...</td>\n",
       "      <td>NaN</td>\n",
       "    </tr>\n",
       "    <tr>\n",
       "      <th>3</th>\n",
       "      <td>La Parisienne - FiDi</td>\n",
       "      <td></td>\n",
       "      <td>$0.99</td>\n",
       "      <td>20–35 Min</td>\n",
       "      <td>5.0</td>\n",
       "      <td>French • Cafe • Healthy</td>\n",
       "      <td>https://www.ubereats.com/new-york/food-deliver...</td>\n",
       "      <td>NaN</td>\n",
       "    </tr>\n",
       "    <tr>\n",
       "      <th>4</th>\n",
       "      <td>Red Mango - FiDi</td>\n",
       "      <td></td>\n",
       "      <td>$1.99</td>\n",
       "      <td>30–45 Min</td>\n",
       "      <td>4.8</td>\n",
       "      <td>Desserts</td>\n",
       "      <td>https://www.ubereats.com/new-york/food-deliver...</td>\n",
       "      <td>NaN</td>\n",
       "    </tr>\n",
       "  </tbody>\n",
       "</table>\n",
       "</div>"
      ],
      "text/plain": [
       "                                  name offer delivery_fee delivery_time  \\\n",
       "0               Wendy's (650 Broadway)              $0.99     30–45 Min   \n",
       "1         Bluestone Lane (51 Astor Pl)              $1.99     35–50 Min   \n",
       "2  Murray's Bagels - Greenwich Village              $3.99     40–55 Min   \n",
       "3                 La Parisienne - FiDi              $0.99     20–35 Min   \n",
       "4                     Red Mango - FiDi              $1.99     30–45 Min   \n",
       "\n",
       "  rating                                            cuisine  \\\n",
       "0    4.2  American • Burgers • Fast Food • Breakfast and...   \n",
       "1    4.7  Breakfast and Brunch • Coffee and Tea • Health...   \n",
       "2    4.8  Breakfast and Brunch • Sandwich • Salads • Des...   \n",
       "3    5.0                            French • Cafe • Healthy   \n",
       "4    4.8                                           Desserts   \n",
       "\n",
       "                                                 url address  \n",
       "0  https://www.ubereats.com/new-york/food-deliver...   test3  \n",
       "1  https://www.ubereats.com/new-york/food-deliver...    test  \n",
       "2  https://www.ubereats.com/new-york/food-deliver...     NaN  \n",
       "3  https://www.ubereats.com/new-york/food-deliver...     NaN  \n",
       "4  https://www.ubereats.com/new-york/food-deliver...     NaN  "
      ]
     },
     "execution_count": 12,
     "metadata": {},
     "output_type": "execute_result"
    }
   ],
   "source": [
    "df.iat[0,-1] = \"test3\"\n",
    "df.head()"
   ]
  },
  {
   "cell_type": "code",
   "execution_count": 13,
   "metadata": {
    "collapsed": false
   },
   "outputs": [
    {
     "name": "stdout",
     "output_type": "stream",
     "text": [
      "processing 0, https://www.ubereats.com/new-york/food-delivery/wendys-650-broadway/q2rJdGeDT5-THX3wUUNa1A\n",
      "processing 1, https://www.ubereats.com/new-york/food-delivery/bluestone-lane-51-astor-pl/9I6pEZBESNqBXhxvrNeZqQ\n",
      "processing 2, https://www.ubereats.com/new-york/food-delivery/murrays-bagels-greenwich-village/bNRj74IbQHOrRI7lH0ehYw\n",
      "processing 3, https://www.ubereats.com/new-york/food-delivery/la-parisienne-fidi/lJhNCae0RKWzgan9uQxvEA\n",
      "processing 4, https://www.ubereats.com/new-york/food-delivery/red-mango-fidi/t1DRWtsUQa6O9JF2GAt2bg\n",
      "processing 5, https://www.ubereats.com/new-york/food-delivery/the-bean/8gxBvd2BSnen0mGABTlwxw\n",
      "processing 6, https://www.ubereats.com/new-york/food-delivery/dunkin-122-fulton-st/NQM0fC7tQ12rAQ3Gkp6Kzw\n",
      "processing 7, https://www.ubereats.com/new-york/food-delivery/prime-burger-lounge/ECFFeV7-ROCrNNcj4fYPRw\n",
      "processing 8, https://www.ubereats.com/new-york/food-delivery/mias-breakfast-bar/ioNuQqswRdG1RTjdNvpIgw\n",
      "processing 9, https://www.ubereats.com/new-york/food-delivery/pasticceria-rocco-bleecker-st/r5bskOiVQu6KFEqjbRlY9A\n",
      "processing 10, https://www.ubereats.com/new-york/food-delivery/ice-cream-parlor/KwaU5birT-yAyRmeh-Disw\n",
      "processing 11, https://www.ubereats.com/new-york/food-delivery/mcdonalds-fidi-160-broadway/Cn7rm31RTym93cHeWFUSow\n",
      "processing 12, https://www.ubereats.com/new-york/food-delivery/starbucks-100-williams-street/iye2Zq1_Ra2sXhp2LZcCYA\n",
      "processing 13, https://www.ubereats.com/new-york/food-delivery/leos-bagels/yWYPv0ObSsK7uVN5qEpN_A\n",
      "processing 14, https://www.ubereats.com/new-york/food-delivery/wendys-85-nassau-street/GhQE14RLT3ydmua-G5XOag\n",
      "processing 15, https://www.ubereats.com/new-york/food-delivery/burger-king-106-liberty-street/uRBg5on7TECIyBd8pH3ZxQ\n",
      "processing 16, https://www.ubereats.com/new-york/food-delivery/playa-bowls-macdougal/R5ifZMrwR-CE6qnVykf7AQ\n",
      "processing 17, https://www.ubereats.com/new-york/food-delivery/leos-bagels/yWYPv0ObSsK7uVN5qEpN_A\n",
      "processing 18, https://www.ubereats.com/new-york/food-delivery/wendys-85-nassau-street/GhQE14RLT3ydmua-G5XOag\n",
      "processing 19, https://www.ubereats.com/new-york/food-delivery/burger-king-106-liberty-street/uRBg5on7TECIyBd8pH3ZxQ\n",
      "processing 20, https://www.ubereats.com/new-york/food-delivery/playa-bowls-macdougal/R5ifZMrwR-CE6qnVykf7AQ\n",
      "processing 21, https://www.ubereats.com/new-york/food-delivery/mcdonalds-fidi-160-broadway/Cn7rm31RTym93cHeWFUSow\n",
      "processing 22, https://www.ubereats.com/new-york/food-delivery/starbucks-100-williams-street/iye2Zq1_Ra2sXhp2LZcCYA\n",
      "processing 23, https://www.ubereats.com/new-york/food-delivery/ice-cream-parlor/KwaU5birT-yAyRmeh-Disw\n",
      "processing 24, https://www.ubereats.com/new-york/food-delivery/dunkin-52-e-8th-st/NW4IPeELTYK6LQwnK0KGbA\n",
      "processing 25, https://www.ubereats.com/new-york/food-delivery/the-ice-cream-shop/o26crygCSXqsZknWbBx_FQ\n",
      "processing 26, https://www.ubereats.com/new-york/food-delivery/the-hot-italian/kd9iFWwUSfqRJ2bzGh9wXQ\n",
      "processing 27, https://www.ubereats.com/new-york/food-delivery/le-basket/RFjKXtlJT_qf-nfo9hYO6Q\n",
      "processing 28, https://www.ubereats.com/new-york/food-delivery/bagel-express-3rd-ave/0hnEqS8sQJm4bDw-l8YEYA\n",
      "processing 29, https://www.ubereats.com/new-york/food-delivery/clinton-street-baking-co/lm3ZlHXtQXqNJ4dkt9AEnw\n",
      "processing 30, https://www.ubereats.com/new-york/food-delivery/shake-shack-23rd-and-madison-avenue/rAVqozT5QfWcME8nNy_WRQ\n",
      "processing 31, https://www.ubereats.com/new-york/food-delivery/subway-11-broadway-unit-155/dMbSkAEWSemc6SEtfyct2g\n",
      "processing 32, https://www.ubereats.com/new-york/food-delivery/mcdonalds-fidi-160-broadway/Cn7rm31RTym93cHeWFUSow\n",
      "processing 33, https://www.ubereats.com/new-york/food-delivery/starbucks-100-williams-street/iye2Zq1_Ra2sXhp2LZcCYA\n",
      "processing 34, https://www.ubereats.com/new-york/food-delivery/panera-10-union-square-east/o7_EwuTuQ9K68-GO4syKvQ\n",
      "processing 35, https://www.ubereats.com/new-york/food-delivery/dunkin-122-fulton-st/NQM0fC7tQ12rAQ3Gkp6Kzw\n",
      "processing 36, https://www.ubereats.com/new-york/food-delivery/wendys-85-nassau-street/GhQE14RLT3ydmua-G5XOag\n",
      "processing 37, https://www.ubereats.com/new-york/food-delivery/burger-king-106-liberty-street/uRBg5on7TECIyBd8pH3ZxQ\n",
      "processing 38, https://www.ubereats.com/new-york/food-delivery/taco-bell-224-7th-ave/cdPb81aEQ2eMdBORzzRQ5w\n",
      "processing 39, https://www.ubereats.com/new-york/food-delivery/starbucks-100-williams-street/iye2Zq1_Ra2sXhp2LZcCYA\n",
      "processing 40, https://www.ubereats.com/new-york/food-delivery/dunkin-122-fulton-st/NQM0fC7tQ12rAQ3Gkp6Kzw\n",
      "processing 41, https://www.ubereats.com/new-york/food-delivery/mcdonalds-west-village-varick-%26-downing-st/vzioEVUtRDSaZXyfswAwgQ\n",
      "processing 42, https://www.ubereats.com/new-york/food-delivery/tribeca-bagels-canal-st/78J_2QCZQG6L5GAiK0OleQ\n"
     ]
    },
    {
     "ename": "IndexError",
     "evalue": "list index out of range",
     "output_type": "error",
     "traceback": [
      "\u001b[1;31m---------------------------------------------------------------------------\u001b[0m",
      "\u001b[1;31mIndexError\u001b[0m                                Traceback (most recent call last)",
      "\u001b[1;32m<ipython-input-13-ffc53fe718dc>\u001b[0m in \u001b[0;36m<module>\u001b[1;34m()\u001b[0m\n\u001b[0;32m      7\u001b[0m \u001b[1;33m\u001b[0m\u001b[0m\n\u001b[0;32m      8\u001b[0m     \u001b[0ms\u001b[0m \u001b[1;33m=\u001b[0m \u001b[0msoup\u001b[0m\u001b[1;33m.\u001b[0m\u001b[0mfind\u001b[0m\u001b[1;33m(\u001b[0m\u001b[1;34m\"script\"\u001b[0m\u001b[1;33m,\u001b[0m \u001b[1;33m{\u001b[0m\u001b[1;34m\"type\"\u001b[0m\u001b[1;33m:\u001b[0m \u001b[1;34m\"application/ld+json\"\u001b[0m\u001b[1;33m}\u001b[0m\u001b[1;33m)\u001b[0m\u001b[1;33m.\u001b[0m\u001b[0mget_text\u001b[0m\u001b[1;33m(\u001b[0m\u001b[1;33m)\u001b[0m\u001b[1;33m\u001b[0m\u001b[1;33m\u001b[0m\u001b[0m\n\u001b[1;32m----> 9\u001b[1;33m     \u001b[0maddress\u001b[0m \u001b[1;33m=\u001b[0m \u001b[0mre\u001b[0m\u001b[1;33m.\u001b[0m\u001b[0mfindall\u001b[0m\u001b[1;33m(\u001b[0m\u001b[1;34m\"\\\"address\\\":\\s*\\{.+?\\}\"\u001b[0m\u001b[1;33m,\u001b[0m \u001b[0ms\u001b[0m\u001b[1;33m)\u001b[0m\u001b[1;33m[\u001b[0m\u001b[1;36m0\u001b[0m\u001b[1;33m]\u001b[0m\u001b[1;33m\u001b[0m\u001b[1;33m\u001b[0m\u001b[0m\n\u001b[0m\u001b[0;32m     10\u001b[0m     \u001b[0mdf\u001b[0m\u001b[1;33m.\u001b[0m\u001b[0miat\u001b[0m\u001b[1;33m[\u001b[0m\u001b[0mi\u001b[0m\u001b[1;33m,\u001b[0m \u001b[1;33m-\u001b[0m\u001b[1;36m1\u001b[0m\u001b[1;33m]\u001b[0m \u001b[1;33m=\u001b[0m \u001b[0maddress\u001b[0m\u001b[1;33m\u001b[0m\u001b[1;33m\u001b[0m\u001b[0m\n",
      "\u001b[1;31mIndexError\u001b[0m: list index out of range"
     ]
    }
   ],
   "source": [
    "for i in range(df.shape[0]):\n",
    "    url = df.iloc[i]['url']\n",
    "    print(f\"processing {i}, {url}\")\n",
    "    req = Request(url, headers={'User-Agent': 'Mozilla/5.0', 'Accept': 'text/html,application/xhtml+xml,application/xml'})\n",
    "    webpage = urlopen(req).read()\n",
    "    soup = BeautifulSoup(webpage, 'html.parser') \n",
    "\n",
    "    s = soup.find(\"script\", {\"type\": \"application/ld+json\"}).get_text()\n",
    "    address = re.findall(\"\\\"address\\\":\\s*\\{.+?\\}\", s)[0]\n",
    "    df.iat[i, -1] = address"
   ]
  },
  {
   "cell_type": "code",
   "execution_count": 19,
   "metadata": {
    "collapsed": false
   },
   "outputs": [
    {
     "name": "stdout",
     "output_type": "stream",
     "text": [
      "processing 42, https://www.ubereats.com/new-york/food-delivery/wendys-85-nassau-street/GhQE14RLT3ydmua-G5XOag\n",
      "processing 43, https://www.ubereats.com/new-york/food-delivery/wendys-85-nassau-street/GhQE14RLT3ydmua-G5XOag\n",
      "processing 44, https://www.ubereats.com/new-york/food-delivery/wendys-85-nassau-street/GhQE14RLT3ydmua-G5XOag\n",
      "processing 45, https://www.ubereats.com/new-york/food-delivery/wendys-85-nassau-street/GhQE14RLT3ydmua-G5XOag\n",
      "processing 46, https://www.ubereats.com/new-york/food-delivery/wendys-85-nassau-street/GhQE14RLT3ydmua-G5XOag\n",
      "processing 47, https://www.ubereats.com/new-york/food-delivery/wendys-85-nassau-street/GhQE14RLT3ydmua-G5XOag\n",
      "processing 48, https://www.ubereats.com/new-york/food-delivery/wendys-85-nassau-street/GhQE14RLT3ydmua-G5XOag\n",
      "processing 49, https://www.ubereats.com/new-york/food-delivery/wendys-85-nassau-street/GhQE14RLT3ydmua-G5XOag\n",
      "processing 50, https://www.ubereats.com/new-york/food-delivery/wendys-85-nassau-street/GhQE14RLT3ydmua-G5XOag\n",
      "processing 51, https://www.ubereats.com/new-york/food-delivery/wendys-85-nassau-street/GhQE14RLT3ydmua-G5XOag\n",
      "processing 52, https://www.ubereats.com/new-york/food-delivery/wendys-85-nassau-street/GhQE14RLT3ydmua-G5XOag\n",
      "processing 53, https://www.ubereats.com/new-york/food-delivery/wendys-85-nassau-street/GhQE14RLT3ydmua-G5XOag\n",
      "processing 54, https://www.ubereats.com/new-york/food-delivery/wendys-85-nassau-street/GhQE14RLT3ydmua-G5XOag\n",
      "processing 55, https://www.ubereats.com/new-york/food-delivery/wendys-85-nassau-street/GhQE14RLT3ydmua-G5XOag\n",
      "processing 56, https://www.ubereats.com/new-york/food-delivery/wendys-85-nassau-street/GhQE14RLT3ydmua-G5XOag\n",
      "processing 57, https://www.ubereats.com/new-york/food-delivery/wendys-85-nassau-street/GhQE14RLT3ydmua-G5XOag\n",
      "processing 58, https://www.ubereats.com/new-york/food-delivery/wendys-85-nassau-street/GhQE14RLT3ydmua-G5XOag\n",
      "processing 59, https://www.ubereats.com/new-york/food-delivery/wendys-85-nassau-street/GhQE14RLT3ydmua-G5XOag\n",
      "processing 60, https://www.ubereats.com/new-york/food-delivery/wendys-85-nassau-street/GhQE14RLT3ydmua-G5XOag\n",
      "processing 61, https://www.ubereats.com/new-york/food-delivery/wendys-85-nassau-street/GhQE14RLT3ydmua-G5XOag\n",
      "processing 62, https://www.ubereats.com/new-york/food-delivery/wendys-85-nassau-street/GhQE14RLT3ydmua-G5XOag\n",
      "processing 63, https://www.ubereats.com/new-york/food-delivery/wendys-85-nassau-street/GhQE14RLT3ydmua-G5XOag\n",
      "processing 64, https://www.ubereats.com/new-york/food-delivery/wendys-85-nassau-street/GhQE14RLT3ydmua-G5XOag\n",
      "processing 65, https://www.ubereats.com/new-york/food-delivery/wendys-85-nassau-street/GhQE14RLT3ydmua-G5XOag\n",
      "processing 66, https://www.ubereats.com/new-york/food-delivery/wendys-85-nassau-street/GhQE14RLT3ydmua-G5XOag\n",
      "processing 67, https://www.ubereats.com/new-york/food-delivery/wendys-85-nassau-street/GhQE14RLT3ydmua-G5XOag\n",
      "processing 68, https://www.ubereats.com/new-york/food-delivery/wendys-85-nassau-street/GhQE14RLT3ydmua-G5XOag\n",
      "processing 69, https://www.ubereats.com/new-york/food-delivery/wendys-85-nassau-street/GhQE14RLT3ydmua-G5XOag\n",
      "processing 70, https://www.ubereats.com/new-york/food-delivery/wendys-85-nassau-street/GhQE14RLT3ydmua-G5XOag\n",
      "processing 71, https://www.ubereats.com/new-york/food-delivery/wendys-85-nassau-street/GhQE14RLT3ydmua-G5XOag\n",
      "processing 72, https://www.ubereats.com/new-york/food-delivery/wendys-85-nassau-street/GhQE14RLT3ydmua-G5XOag\n",
      "processing 73, https://www.ubereats.com/new-york/food-delivery/wendys-85-nassau-street/GhQE14RLT3ydmua-G5XOag\n",
      "processing 74, https://www.ubereats.com/new-york/food-delivery/wendys-85-nassau-street/GhQE14RLT3ydmua-G5XOag\n",
      "processing 75, https://www.ubereats.com/new-york/food-delivery/wendys-85-nassau-street/GhQE14RLT3ydmua-G5XOag\n",
      "processing 76, https://www.ubereats.com/new-york/food-delivery/wendys-85-nassau-street/GhQE14RLT3ydmua-G5XOag\n",
      "processing 77, https://www.ubereats.com/new-york/food-delivery/wendys-85-nassau-street/GhQE14RLT3ydmua-G5XOag\n",
      "processing 78, https://www.ubereats.com/new-york/food-delivery/wendys-85-nassau-street/GhQE14RLT3ydmua-G5XOag\n",
      "processing 79, https://www.ubereats.com/new-york/food-delivery/wendys-85-nassau-street/GhQE14RLT3ydmua-G5XOag\n",
      "processing 80, https://www.ubereats.com/new-york/food-delivery/wendys-85-nassau-street/GhQE14RLT3ydmua-G5XOag\n",
      "processing 81, https://www.ubereats.com/new-york/food-delivery/wendys-85-nassau-street/GhQE14RLT3ydmua-G5XOag\n",
      "processing 82, https://www.ubereats.com/new-york/food-delivery/wendys-85-nassau-street/GhQE14RLT3ydmua-G5XOag\n",
      "processing 83, https://www.ubereats.com/new-york/food-delivery/wendys-85-nassau-street/GhQE14RLT3ydmua-G5XOag\n",
      "processing 84, https://www.ubereats.com/new-york/food-delivery/wendys-85-nassau-street/GhQE14RLT3ydmua-G5XOag\n",
      "processing 85, https://www.ubereats.com/new-york/food-delivery/wendys-85-nassau-street/GhQE14RLT3ydmua-G5XOag\n",
      "processing 86, https://www.ubereats.com/new-york/food-delivery/wendys-85-nassau-street/GhQE14RLT3ydmua-G5XOag\n",
      "processing 87, https://www.ubereats.com/new-york/food-delivery/wendys-85-nassau-street/GhQE14RLT3ydmua-G5XOag\n"
     ]
    }
   ],
   "source": [
    "for i in range(42,df.shape[0]):\n",
    "    url = df.iloc[43]['url']\n",
    "    print(f\"processing {i}, {url}\")\n",
    "    req = Request(url, headers={'User-Agent': 'Mozilla/5.0', 'Accept': 'text/html,application/xhtml+xml,application/xml'})\n",
    "    webpage = urlopen(req).read()\n",
    "    soup = BeautifulSoup(webpage, 'html.parser') \n",
    "\n",
    "    s = soup.find(\"script\", {\"type\": \"application/ld+json\"}).get_text()\n",
    "    address_list = re.findall(\"\\\"address\\\":\\s*\\{.+?\\}\", s)\n",
    "    \n",
    "    if len(address_list)>0:\n",
    "        df.iat[i, -1] = address_list[0]\n",
    "    else:\n",
    "        print(f\"error finding address for {i}\")"
   ]
  },
  {
   "cell_type": "code",
   "execution_count": 26,
   "metadata": {
    "collapsed": false
   },
   "outputs": [
    {
     "data": {
      "text/plain": [
       "False"
      ]
     },
     "execution_count": 26,
     "metadata": {},
     "output_type": "execute_result"
    }
   ],
   "source": [
    "df['address'].isnull().values.any()"
   ]
  },
  {
   "cell_type": "code",
   "execution_count": 27,
   "metadata": {
    "collapsed": true
   },
   "outputs": [],
   "source": [
    "df.to_csv('./new-york-city.csv', index=False)"
   ]
  },
  {
   "cell_type": "code",
   "execution_count": 28,
   "metadata": {
    "collapsed": false
   },
   "outputs": [
    {
     "data": {
      "text/html": [
       "<div>\n",
       "<style scoped>\n",
       "    .dataframe tbody tr th:only-of-type {\n",
       "        vertical-align: middle;\n",
       "    }\n",
       "\n",
       "    .dataframe tbody tr th {\n",
       "        vertical-align: top;\n",
       "    }\n",
       "\n",
       "    .dataframe thead th {\n",
       "        text-align: right;\n",
       "    }\n",
       "</style>\n",
       "<table border=\"1\" class=\"dataframe\">\n",
       "  <thead>\n",
       "    <tr style=\"text-align: right;\">\n",
       "      <th></th>\n",
       "      <th>name</th>\n",
       "      <th>offer</th>\n",
       "      <th>delivery_fee</th>\n",
       "      <th>delivery_time</th>\n",
       "      <th>rating</th>\n",
       "      <th>cuisine</th>\n",
       "      <th>url</th>\n",
       "      <th>address</th>\n",
       "    </tr>\n",
       "  </thead>\n",
       "  <tbody>\n",
       "    <tr>\n",
       "      <th>0</th>\n",
       "      <td>Wendy's (650 Broadway)</td>\n",
       "      <td></td>\n",
       "      <td>$0.99</td>\n",
       "      <td>30–45 Min</td>\n",
       "      <td>4.2</td>\n",
       "      <td>American • Burgers • Fast Food • Breakfast and...</td>\n",
       "      <td>https://www.ubereats.com/new-york/food-deliver...</td>\n",
       "      <td>\"address\":{\"@type\":\"PostalAddress\",\"addressLoc...</td>\n",
       "    </tr>\n",
       "    <tr>\n",
       "      <th>1</th>\n",
       "      <td>Bluestone Lane (51 Astor Pl)</td>\n",
       "      <td></td>\n",
       "      <td>$1.99</td>\n",
       "      <td>35–50 Min</td>\n",
       "      <td>4.7</td>\n",
       "      <td>Breakfast and Brunch • Coffee and Tea • Health...</td>\n",
       "      <td>https://www.ubereats.com/new-york/food-deliver...</td>\n",
       "      <td>\"address\":{\"@type\":\"PostalAddress\",\"addressLoc...</td>\n",
       "    </tr>\n",
       "    <tr>\n",
       "      <th>2</th>\n",
       "      <td>Murray's Bagels - Greenwich Village</td>\n",
       "      <td></td>\n",
       "      <td>$3.99</td>\n",
       "      <td>40–55 Min</td>\n",
       "      <td>4.8</td>\n",
       "      <td>Breakfast and Brunch • Sandwich • Salads • Des...</td>\n",
       "      <td>https://www.ubereats.com/new-york/food-deliver...</td>\n",
       "      <td>\"address\":{\"@type\":\"PostalAddress\",\"addressLoc...</td>\n",
       "    </tr>\n",
       "    <tr>\n",
       "      <th>3</th>\n",
       "      <td>La Parisienne - FiDi</td>\n",
       "      <td></td>\n",
       "      <td>$0.99</td>\n",
       "      <td>20–35 Min</td>\n",
       "      <td>5.0</td>\n",
       "      <td>French • Cafe • Healthy</td>\n",
       "      <td>https://www.ubereats.com/new-york/food-deliver...</td>\n",
       "      <td>\"address\":{\"@type\":\"PostalAddress\",\"addressLoc...</td>\n",
       "    </tr>\n",
       "    <tr>\n",
       "      <th>4</th>\n",
       "      <td>Red Mango - FiDi</td>\n",
       "      <td></td>\n",
       "      <td>$1.99</td>\n",
       "      <td>30–45 Min</td>\n",
       "      <td>4.8</td>\n",
       "      <td>Desserts</td>\n",
       "      <td>https://www.ubereats.com/new-york/food-deliver...</td>\n",
       "      <td>\"address\":{\"@type\":\"PostalAddress\",\"addressLoc...</td>\n",
       "    </tr>\n",
       "  </tbody>\n",
       "</table>\n",
       "</div>"
      ],
      "text/plain": [
       "                                  name offer delivery_fee delivery_time  \\\n",
       "0               Wendy's (650 Broadway)              $0.99     30–45 Min   \n",
       "1         Bluestone Lane (51 Astor Pl)              $1.99     35–50 Min   \n",
       "2  Murray's Bagels - Greenwich Village              $3.99     40–55 Min   \n",
       "3                 La Parisienne - FiDi              $0.99     20–35 Min   \n",
       "4                     Red Mango - FiDi              $1.99     30–45 Min   \n",
       "\n",
       "  rating                                            cuisine  \\\n",
       "0    4.2  American • Burgers • Fast Food • Breakfast and...   \n",
       "1    4.7  Breakfast and Brunch • Coffee and Tea • Health...   \n",
       "2    4.8  Breakfast and Brunch • Sandwich • Salads • Des...   \n",
       "3    5.0                            French • Cafe • Healthy   \n",
       "4    4.8                                           Desserts   \n",
       "\n",
       "                                                 url  \\\n",
       "0  https://www.ubereats.com/new-york/food-deliver...   \n",
       "1  https://www.ubereats.com/new-york/food-deliver...   \n",
       "2  https://www.ubereats.com/new-york/food-deliver...   \n",
       "3  https://www.ubereats.com/new-york/food-deliver...   \n",
       "4  https://www.ubereats.com/new-york/food-deliver...   \n",
       "\n",
       "                                             address  \n",
       "0  \"address\":{\"@type\":\"PostalAddress\",\"addressLoc...  \n",
       "1  \"address\":{\"@type\":\"PostalAddress\",\"addressLoc...  \n",
       "2  \"address\":{\"@type\":\"PostalAddress\",\"addressLoc...  \n",
       "3  \"address\":{\"@type\":\"PostalAddress\",\"addressLoc...  \n",
       "4  \"address\":{\"@type\":\"PostalAddress\",\"addressLoc...  "
      ]
     },
     "execution_count": 28,
     "metadata": {},
     "output_type": "execute_result"
    }
   ],
   "source": [
    "df.head()"
   ]
  }
 ],
 "metadata": {
  "kernelspec": {
   "display_name": "Python 3",
   "language": "python",
   "name": "python3"
  },
  "language_info": {
   "codemirror_mode": {
    "name": "ipython",
    "version": 3
   },
   "file_extension": ".py",
   "mimetype": "text/x-python",
   "name": "python",
   "nbconvert_exporter": "python",
   "pygments_lexer": "ipython3",
   "version": "3.6.9"
  }
 },
 "nbformat": 4,
 "nbformat_minor": 0
}
