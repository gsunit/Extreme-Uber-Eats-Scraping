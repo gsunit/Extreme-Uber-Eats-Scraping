{
 "cells": [
  {
   "cell_type": "code",
   "execution_count": 98,
   "metadata": {
    "collapsed": true
   },
   "outputs": [],
   "source": [
    "from IPython.core.interactiveshell import InteractiveShell\n",
    "InteractiveShell.ast_node_interactivity = \"all\"\n",
    "from selenium import webdriver\n",
    "from selenium.webdriver.common.by import By\n",
    "from selenium.webdriver.support.ui import WebDriverWait\n",
    "from selenium.webdriver.support import expected_conditions as EC"
   ]
  },
  {
   "cell_type": "code",
   "execution_count": 99,
   "metadata": {
    "collapsed": true
   },
   "outputs": [],
   "source": [
    "# change path to chromedriver on your computer\n",
    "PATH = \"/home/gsunit/development/chromedriver\"\n",
    "\n",
    "# url = \"https://www.ubereats.com/city/new-york-city\""
   ]
  },
  {
   "cell_type": "code",
   "execution_count": 100,
   "metadata": {
    "collapsed": false
   },
   "outputs": [
    {
     "name": "stdout",
     "output_type": "stream",
     "text": [
      "Successfully opened:  Best New York City Restaurants | Food Delivery & Takeout\n"
     ]
    }
   ],
   "source": [
    "driver = webdriver.Chrome(PATH)\n",
    "driver.get(url)\n",
    "print(\"Successfully opened: \", driver.title)"
   ]
  },
  {
   "cell_type": "code",
   "execution_count": 101,
   "metadata": {
    "collapsed": false
   },
   "outputs": [
    {
     "data": {
      "text/plain": [
       "88"
      ]
     },
     "execution_count": 101,
     "metadata": {},
     "output_type": "execute_result"
    }
   ],
   "source": [
    "results = driver.find_elements_by_class_name(\"b2.fc\")\n",
    "len(results)"
   ]
  },
  {
   "cell_type": "code",
   "execution_count": 102,
   "metadata": {
    "collapsed": false
   },
   "outputs": [],
   "source": [
    "import pandas as pd\n",
    "\n",
    "df = pd.DataFrame(columns=['name', 'offer', 'delivery_fee', 'delivery_time', 'rating', 'cuisine', 'url'])\n",
    "# df = pd.DataFrame(columns=['rating', 'cuisine'])"
   ]
  },
  {
   "cell_type": "code",
   "execution_count": 103,
   "metadata": {
    "collapsed": false
   },
   "outputs": [],
   "source": [
    "i=0\n",
    "for result in results:\n",
    "#     print(i)\n",
    "    lines = result.text.split('\\n')\n",
    "    n = len(lines)\n",
    "    df.loc[i] = [\n",
    "        lines[-8] if n>=8 else lines[0],\n",
    "        lines[0] if n==9 else \" \",\n",
    "        lines[-6].split(\" \")[0] if n>=6 else \" \",\n",
    "        lines[-4] if n>=4 else \" \",\n",
    "        lines[-2],\n",
    "        lines[-1],\n",
    "        result.find_element_by_tag_name(\"a\").get_attribute('href')\n",
    "    ]\n",
    "    i = i+1"
   ]
  },
  {
   "cell_type": "code",
   "execution_count": 104,
   "metadata": {
    "collapsed": false
   },
   "outputs": [
    {
     "data": {
      "text/html": [
       "<div>\n",
       "<style scoped>\n",
       "    .dataframe tbody tr th:only-of-type {\n",
       "        vertical-align: middle;\n",
       "    }\n",
       "\n",
       "    .dataframe tbody tr th {\n",
       "        vertical-align: top;\n",
       "    }\n",
       "\n",
       "    .dataframe thead th {\n",
       "        text-align: right;\n",
       "    }\n",
       "</style>\n",
       "<table border=\"1\" class=\"dataframe\">\n",
       "  <thead>\n",
       "    <tr style=\"text-align: right;\">\n",
       "      <th></th>\n",
       "      <th>name</th>\n",
       "      <th>offer</th>\n",
       "      <th>delivery_fee</th>\n",
       "      <th>delivery_time</th>\n",
       "      <th>rating</th>\n",
       "      <th>cuisine</th>\n",
       "      <th>url</th>\n",
       "      <th>num_reviews</th>\n",
       "      <th>address</th>\n",
       "    </tr>\n",
       "  </thead>\n",
       "  <tbody>\n",
       "    <tr>\n",
       "      <th>0</th>\n",
       "      <td>Wendy's (650 Broadway)</td>\n",
       "      <td></td>\n",
       "      <td>$0.99</td>\n",
       "      <td>30–45 Min</td>\n",
       "      <td>4.2</td>\n",
       "      <td>American • Burgers • Fast Food • Breakfast and...</td>\n",
       "      <td>https://www.ubereats.com/new-york/food-deliver...</td>\n",
       "      <td>( )</td>\n",
       "      <td></td>\n",
       "    </tr>\n",
       "    <tr>\n",
       "      <th>1</th>\n",
       "      <td>Bluestone Lane (51 Astor Pl)</td>\n",
       "      <td></td>\n",
       "      <td>$1.99</td>\n",
       "      <td>35–50 Min</td>\n",
       "      <td>4.7</td>\n",
       "      <td>Breakfast and Brunch • Coffee and Tea • Health...</td>\n",
       "      <td>https://www.ubereats.com/new-york/food-deliver...</td>\n",
       "      <td>( )</td>\n",
       "      <td></td>\n",
       "    </tr>\n",
       "    <tr>\n",
       "      <th>2</th>\n",
       "      <td>Murray's Bagels - Greenwich Village</td>\n",
       "      <td></td>\n",
       "      <td>$3.99</td>\n",
       "      <td>40–55 Min</td>\n",
       "      <td>4.8</td>\n",
       "      <td>Breakfast and Brunch • Sandwich • Salads • Des...</td>\n",
       "      <td>https://www.ubereats.com/new-york/food-deliver...</td>\n",
       "      <td>( )</td>\n",
       "      <td></td>\n",
       "    </tr>\n",
       "    <tr>\n",
       "      <th>3</th>\n",
       "      <td>La Parisienne - FiDi</td>\n",
       "      <td></td>\n",
       "      <td>$0.99</td>\n",
       "      <td>20–35 Min</td>\n",
       "      <td>5.0</td>\n",
       "      <td>French • Cafe • Healthy</td>\n",
       "      <td>https://www.ubereats.com/new-york/food-deliver...</td>\n",
       "      <td>( )</td>\n",
       "      <td></td>\n",
       "    </tr>\n",
       "    <tr>\n",
       "      <th>4</th>\n",
       "      <td>Red Mango - FiDi</td>\n",
       "      <td></td>\n",
       "      <td>$1.99</td>\n",
       "      <td>30–45 Min</td>\n",
       "      <td>4.8</td>\n",
       "      <td>Desserts</td>\n",
       "      <td>https://www.ubereats.com/new-york/food-deliver...</td>\n",
       "      <td>( )</td>\n",
       "      <td></td>\n",
       "    </tr>\n",
       "  </tbody>\n",
       "</table>\n",
       "</div>"
      ],
      "text/plain": [
       "                                  name offer delivery_fee delivery_time  \\\n",
       "0               Wendy's (650 Broadway)              $0.99     30–45 Min   \n",
       "1         Bluestone Lane (51 Astor Pl)              $1.99     35–50 Min   \n",
       "2  Murray's Bagels - Greenwich Village              $3.99     40–55 Min   \n",
       "3                 La Parisienne - FiDi              $0.99     20–35 Min   \n",
       "4                     Red Mango - FiDi              $1.99     30–45 Min   \n",
       "\n",
       "  rating                                            cuisine  \\\n",
       "0    4.2  American • Burgers • Fast Food • Breakfast and...   \n",
       "1    4.7  Breakfast and Brunch • Coffee and Tea • Health...   \n",
       "2    4.8  Breakfast and Brunch • Sandwich • Salads • Des...   \n",
       "3    5.0                            French • Cafe • Healthy   \n",
       "4    4.8                                           Desserts   \n",
       "\n",
       "                                                 url num_reviews address  \n",
       "0  https://www.ubereats.com/new-york/food-deliver...         ( )          \n",
       "1  https://www.ubereats.com/new-york/food-deliver...         ( )          \n",
       "2  https://www.ubereats.com/new-york/food-deliver...         ( )          \n",
       "3  https://www.ubereats.com/new-york/food-deliver...         ( )          \n",
       "4  https://www.ubereats.com/new-york/food-deliver...         ( )          "
      ]
     },
     "execution_count": 104,
     "metadata": {},
     "output_type": "execute_result"
    }
   ],
   "source": [
    "df['num_reviews'] = \"( )\"\n",
    "df['address'] = \"\"\n",
    "df.to_csv(url.split('/')[-1] + '.csv')"
   ]
  },
  {
   "cell_type": "code",
   "execution_count": 108,
   "metadata": {
    "collapsed": false
   },
   "outputs": [
    {
     "data": {
      "text/html": [
       "<div>\n",
       "<style scoped>\n",
       "    .dataframe tbody tr th:only-of-type {\n",
       "        vertical-align: middle;\n",
       "    }\n",
       "\n",
       "    .dataframe tbody tr th {\n",
       "        vertical-align: top;\n",
       "    }\n",
       "\n",
       "    .dataframe thead th {\n",
       "        text-align: right;\n",
       "    }\n",
       "</style>\n",
       "<table border=\"1\" class=\"dataframe\">\n",
       "  <thead>\n",
       "    <tr style=\"text-align: right;\">\n",
       "      <th></th>\n",
       "      <th>name</th>\n",
       "      <th>offer</th>\n",
       "      <th>delivery_fee</th>\n",
       "      <th>delivery_time</th>\n",
       "      <th>rating</th>\n",
       "      <th>cuisine</th>\n",
       "      <th>url</th>\n",
       "      <th>num_reviews</th>\n",
       "      <th>address</th>\n",
       "    </tr>\n",
       "  </thead>\n",
       "  <tbody>\n",
       "    <tr>\n",
       "      <th>5</th>\n",
       "      <td>The Bean</td>\n",
       "      <td>Spend $10, Save $2</td>\n",
       "      <td>$1.99</td>\n",
       "      <td>30–40 Min</td>\n",
       "      <td>New</td>\n",
       "      <td>Coffee and Tea • American • Breakfast and Brunch</td>\n",
       "      <td>https://www.ubereats.com/new-york/food-deliver...</td>\n",
       "      <td>( )</td>\n",
       "      <td></td>\n",
       "    </tr>\n",
       "    <tr>\n",
       "      <th>6</th>\n",
       "      <td>Dunkin' (122 Fulton St)</td>\n",
       "      <td>$0 Delivery Fee (Spend $10)</td>\n",
       "      <td>$0.99</td>\n",
       "      <td>10–20 Min</td>\n",
       "      <td>4.1</td>\n",
       "      <td>Breakfast and Brunch • Donuts</td>\n",
       "      <td>https://www.ubereats.com/new-york/food-deliver...</td>\n",
       "      <td>( )</td>\n",
       "      <td></td>\n",
       "    </tr>\n",
       "    <tr>\n",
       "      <th>7</th>\n",
       "      <td>Prime Burger Lounge</td>\n",
       "      <td>Spend $10, Save $2</td>\n",
       "      <td>$1.99</td>\n",
       "      <td>30–40 Min</td>\n",
       "      <td>4.0</td>\n",
       "      <td>Burgers • American • Sandwiches • Desserts</td>\n",
       "      <td>https://www.ubereats.com/new-york/food-deliver...</td>\n",
       "      <td>( )</td>\n",
       "      <td></td>\n",
       "    </tr>\n",
       "    <tr>\n",
       "      <th>8</th>\n",
       "      <td>Mia's Breakfast Bar</td>\n",
       "      <td>Spend $10, Save $2</td>\n",
       "      <td>$1.99</td>\n",
       "      <td>25–35 Min</td>\n",
       "      <td>New</td>\n",
       "      <td>Breakfast and Brunch • American • Sandwiches</td>\n",
       "      <td>https://www.ubereats.com/new-york/food-deliver...</td>\n",
       "      <td>( )</td>\n",
       "      <td></td>\n",
       "    </tr>\n",
       "    <tr>\n",
       "      <th>9</th>\n",
       "      <td>Pasticceria Rocco - Bleecker St</td>\n",
       "      <td>Free Item (Spend $40)</td>\n",
       "      <td>$0.99</td>\n",
       "      <td>25–35 Min</td>\n",
       "      <td>New</td>\n",
       "      <td>Breakfast and Brunch • Pastry • Bakery • Sandw...</td>\n",
       "      <td>https://www.ubereats.com/new-york/food-deliver...</td>\n",
       "      <td>( )</td>\n",
       "      <td></td>\n",
       "    </tr>\n",
       "    <tr>\n",
       "      <th>10</th>\n",
       "      <td>Ice Cream Parlor</td>\n",
       "      <td>Spend $15, Save $3</td>\n",
       "      <td>$0.99</td>\n",
       "      <td>20–30 Min</td>\n",
       "      <td>New</td>\n",
       "      <td>Ice Cream &amp; Frozen Yogurt • Comfort Food • Des...</td>\n",
       "      <td>https://www.ubereats.com/new-york/food-deliver...</td>\n",
       "      <td>( )</td>\n",
       "      <td></td>\n",
       "    </tr>\n",
       "  </tbody>\n",
       "</table>\n",
       "</div>"
      ],
      "text/plain": [
       "                               name                        offer delivery_fee  \\\n",
       "5                          The Bean           Spend $10, Save $2        $1.99   \n",
       "6           Dunkin' (122 Fulton St)  $0 Delivery Fee (Spend $10)        $0.99   \n",
       "7               Prime Burger Lounge           Spend $10, Save $2        $1.99   \n",
       "8               Mia's Breakfast Bar           Spend $10, Save $2        $1.99   \n",
       "9   Pasticceria Rocco - Bleecker St        Free Item (Spend $40)        $0.99   \n",
       "10                 Ice Cream Parlor           Spend $15, Save $3        $0.99   \n",
       "\n",
       "   delivery_time rating                                            cuisine  \\\n",
       "5      30–40 Min    New   Coffee and Tea • American • Breakfast and Brunch   \n",
       "6      10–20 Min    4.1                      Breakfast and Brunch • Donuts   \n",
       "7      30–40 Min    4.0         Burgers • American • Sandwiches • Desserts   \n",
       "8      25–35 Min    New       Breakfast and Brunch • American • Sandwiches   \n",
       "9      25–35 Min    New  Breakfast and Brunch • Pastry • Bakery • Sandw...   \n",
       "10     20–30 Min    New  Ice Cream & Frozen Yogurt • Comfort Food • Des...   \n",
       "\n",
       "                                                  url num_reviews address  \n",
       "5   https://www.ubereats.com/new-york/food-deliver...         ( )          \n",
       "6   https://www.ubereats.com/new-york/food-deliver...         ( )          \n",
       "7   https://www.ubereats.com/new-york/food-deliver...         ( )          \n",
       "8   https://www.ubereats.com/new-york/food-deliver...         ( )          \n",
       "9   https://www.ubereats.com/new-york/food-deliver...         ( )          \n",
       "10  https://www.ubereats.com/new-york/food-deliver...         ( )          "
      ]
     },
     "execution_count": 108,
     "metadata": {},
     "output_type": "execute_result"
    }
   ],
   "source": [
    "df[5:11]"
   ]
  }
 ],
 "metadata": {
  "kernelspec": {
   "display_name": "Python 3",
   "language": "python",
   "name": "python3"
  },
  "language_info": {
   "codemirror_mode": {
    "name": "ipython",
    "version": 3
   },
   "file_extension": ".py",
   "mimetype": "text/x-python",
   "name": "python",
   "nbconvert_exporter": "python",
   "pygments_lexer": "ipython3",
   "version": "3.6.9"
  }
 },
 "nbformat": 4,
 "nbformat_minor": 0
}
