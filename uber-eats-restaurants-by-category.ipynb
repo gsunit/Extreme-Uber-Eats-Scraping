{
 "cells": [
  {
   "cell_type": "code",
   "execution_count": 1,
   "metadata": {
    "collapsed": true
   },
   "outputs": [],
   "source": [
    "from IPython.core.interactiveshell import InteractiveShell\n",
    "InteractiveShell.ast_node_interactivity = \"all\"\n",
    "\n",
    "from urllib.request import Request, urlopen\n",
    "from bs4 import BeautifulSoup\n",
    "import re\n",
    "import time\n",
    "import json"
   ]
  },
  {
   "cell_type": "code",
   "execution_count": null,
   "metadata": {
    "collapsed": false
   },
   "outputs": [],
   "source": [
    "f = open(\"./uber-eats-all-categories.txt\")\n",
    "lines = f.read().split('\\n')\n",
    "categories = set(lines)\n",
    "categories.remove('')\n",
    "len(categories)\n",
    "categories"
   ]
  },
  {
   "cell_type": "code",
   "execution_count": null,
   "metadata": {
    "collapsed": true
   },
   "outputs": [],
   "source": [
    "from urllib.error import URLError\n",
    "import time\n",
    "\n",
    "def get_city_rests(city_url, categories, debug=True):\n",
    "    start_time = time.time()\n",
    "    rests = set()\n",
    "    \n",
    "    for category in categories:\n",
    "        category = category.lower().replace(\" \", \"-\")\n",
    "        category_city_url = \"https://www.ubereats.com/category/\" + city_url.split('/')[-1] + \"/\" + category\n",
    "        try:\n",
    "            req = Request(category_city_url, headers={'User-Agent': 'Mozilla/5.0', 'Accept': 'text/html,application/xhtml+xml,application/xml'})\n",
    "\n",
    "            webpage = urlopen(req).read()\n",
    "            soup = BeautifulSoup(webpage, 'html.parser')\n",
    "            print(soup.title)\n",
    "            rest_links = soup.find_all(\"h3\", class_=\"dr bn bo at ep al aj eq dp\")\n",
    "            old_rests_size = len(rests)\n",
    "\n",
    "            if debug == True:\n",
    "                print(f\"found: {len(rest_links)}, old size: {old_rests_size}\")\n",
    "            for link in rest_links:\n",
    "                rests.add(link.a['href'])\n",
    "            if debug == True:\n",
    "                print(f\"added: {len(rests)-old_rests_size}, new size: {len(rests)}\")\n",
    "\n",
    "        except Exception as e:\n",
    "            print(f\"\\nerror: {e}\\n url: {category_city_url}\")\n",
    "    elapsed_time = time.time()-start_time\n",
    "    print(f\"time elapsed: {elapsed_time}\")\n",
    "    return rests"
   ]
  },
  {
   "cell_type": "code",
   "execution_count": null,
   "metadata": {
    "collapsed": false
   },
   "outputs": [],
   "source": [
    "city_url = \"https://www.ubereats.com/location/new-york\""
   ]
  },
  {
   "cell_type": "code",
   "execution_count": null,
   "metadata": {
    "collapsed": false
   },
   "outputs": [],
   "source": [
    "city_rests = get_city_rests(city_url, categories, debug=True)"
   ]
  },
  {
   "cell_type": "code",
   "execution_count": 6,
   "metadata": {
    "collapsed": false
   },
   "outputs": [],
   "source": [
    "def get_rest_details(rest_url):\n",
    "    start_time = time.time()\n",
    "    rest_obj = {}\n",
    "    try:\n",
    "        req = Request(rest_url, headers={'User-Agent': 'Mozilla/5.0', 'Accept': 'text/html,application/xhtml+xml,application/xml'})\n",
    "        webpage = urlopen(req).read()\n",
    "        soup = BeautifulSoup(webpage, 'html.parser')\n",
    "        rest_obj = json.loads(soup.find(\"script\", type=\"application/ld+json\").text)\n",
    "        print(rest_obj['name'])\n",
    "    except Exception as e:\n",
    "        print(f\"\\nerror: {e}\\n url: {rest_url}\")\n",
    "    \n",
    "    elapsed_time = time.time()-start_time\n",
    "    print(f\"elapsed time: {elapsed_time}\")\n",
    "    return rest_obj"
   ]
  },
  {
   "cell_type": "code",
   "execution_count": 7,
   "metadata": {
    "collapsed": false
   },
   "outputs": [
    {
     "name": "stdout",
     "output_type": "stream",
     "text": [
      "cha chan tang\n",
      "elapsed time: 3.2036447525024414\n"
     ]
    },
    {
     "data": {
      "text/plain": [
       "{'@context': 'http://schema.org',\n",
       " '@id': 'https://www.ubereats.com/new-york/food-delivery/cha-chan-tang/CKWqFu2RSeK7rxMdN75tpA',\n",
       " '@type': 'Restaurant',\n",
       " 'address': {'@type': 'PostalAddress',\n",
       "  'addressCountry': 'US',\n",
       "  'addressLocality': 'New York',\n",
       "  'addressRegion': 'NY',\n",
       "  'postalCode': '10013',\n",
       "  'streetAddress': '45 Mott St'},\n",
       " 'aggregateRating': {'@type': 'AggregateRating',\n",
       "  'ratingValue': 4.7,\n",
       "  'reviewCount': '68'},\n",
       " 'geo': {'@type': 'GeoCoordinates',\n",
       "  'latitude': 40.7153054,\n",
       "  'longitude': -73.99896199999999},\n",
       " 'image': ['https://d1ralsognjng37.cloudfront.net/592d4197-cf28-4548-a47d-8e22f5c98b53.jpeg',\n",
       "  'https://d1ralsognjng37.cloudfront.net/435e34f5-7d88-4f7c-934e-d513c907f424.jpeg',\n",
       "  'https://d1ralsognjng37.cloudfront.net/e10b00a5-df17-4501-9607-fcc17012376a.jpeg',\n",
       "  'https://d1ralsognjng37.cloudfront.net/5d8ab226-6c4b-46e0-93a4-f12e8d629d0a.jpeg',\n",
       "  'https://d1ralsognjng37.cloudfront.net/d3afee20-f517-4fc4-a94a-90e720cb358c.jpeg',\n",
       "  'https://d1ralsognjng37.cloudfront.net/5444fa1a-2d2d-4a16-a1f1-f06a8318146e.jpeg'],\n",
       " 'name': 'cha chan tang',\n",
       " 'openingHoursSpecification': [{'@type': 'OpeningHoursSpecification',\n",
       "   'closes': '11:0',\n",
       "   'dayOfWeek': ['Monday',\n",
       "    'Tuesday',\n",
       "    'Wednesday',\n",
       "    'Thursday',\n",
       "    'Friday',\n",
       "    'Saturday',\n",
       "    'Sunday'],\n",
       "   'opens': '8:30'},\n",
       "  {'@type': 'OpeningHoursSpecification',\n",
       "   'closes': '21:0',\n",
       "   'dayOfWeek': ['Monday',\n",
       "    'Tuesday',\n",
       "    'Wednesday',\n",
       "    'Thursday',\n",
       "    'Friday',\n",
       "    'Saturday',\n",
       "    'Sunday'],\n",
       "   'opens': '11:0'}],\n",
       " 'potentialAction': {'@type': 'OrderAction',\n",
       "  'deliveryMethod': ['http://purl.org/goodrelations/v1#DeliveryModeOwnFleet',\n",
       "   'http://purl.org/goodrelations/v1#DeliveryModePickUp'],\n",
       "  'target': {'@type': 'EntryPoint',\n",
       "   'actionPlatform': ['http://schema.org/DesktopWebPlatform',\n",
       "    'http://schema.org/MobileWebPlatform'],\n",
       "   'inLanguage': 'English',\n",
       "   'urlTemplate': 'https://www.ubereats.com/new-york/food-delivery/cha-chan-tang/CKWqFu2RSeK7rxMdN75tpA?utm_campaign=order-action&amp;utm_medium=organic'}},\n",
       " 'priceRange': '$',\n",
       " 'servesCuisine': ['Chinese', 'Asian', 'Asian Fusion'],\n",
       " 'telephone': '+12125772888'}"
      ]
     },
     "execution_count": 7,
     "metadata": {},
     "output_type": "execute_result"
    }
   ],
   "source": [
    "rest_url = \"https://www.ubereats.com/new-york/food-delivery/cha-chan-tang/CKWqFu2RSeK7rxMdN75tpA\"\n",
    "rest_obj = get_rest_details(rest_url)\n",
    "rest_obj"
   ]
  }
 ],
 "metadata": {
  "kernelspec": {
   "display_name": "Python 3",
   "language": "python",
   "name": "python3"
  },
  "language_info": {
   "codemirror_mode": {
    "name": "ipython",
    "version": 3
   },
   "file_extension": ".py",
   "mimetype": "text/x-python",
   "name": "python",
   "nbconvert_exporter": "python",
   "pygments_lexer": "ipython3",
   "version": "3.6.9"
  }
 },
 "nbformat": 4,
 "nbformat_minor": 0
}
