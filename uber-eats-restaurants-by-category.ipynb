{
 "cells": [
  {
   "cell_type": "code",
   "execution_count": 1,
   "metadata": {
    "collapsed": true
   },
   "outputs": [],
   "source": [
    "from IPython.core.interactiveshell import InteractiveShell\n",
    "InteractiveShell.ast_node_interactivity = \"all\"\n",
    "\n",
    "from urllib.request import Request, urlopen\n",
    "from bs4 import BeautifulSoup\n",
    "import re"
   ]
  },
  {
   "cell_type": "code",
   "execution_count": 2,
   "metadata": {
    "collapsed": false
   },
   "outputs": [
    {
     "data": {
      "text/plain": [
       "91"
      ]
     },
     "execution_count": 2,
     "metadata": {},
     "output_type": "execute_result"
    },
    {
     "data": {
      "text/plain": [
       "{'African',\n",
       " 'Allergy Friendly',\n",
       " 'American',\n",
       " 'Asian',\n",
       " 'Asian Fusion',\n",
       " 'BBQ',\n",
       " 'Bakery',\n",
       " 'Beef',\n",
       " 'Belgian',\n",
       " 'Brazilian',\n",
       " 'Breakfast and Brunch',\n",
       " 'Bubble Tea',\n",
       " 'Burgers',\n",
       " 'Burritos',\n",
       " 'Cafe',\n",
       " 'Cantonese',\n",
       " 'Caribbean',\n",
       " 'Chicken',\n",
       " 'Chinese',\n",
       " 'Chocolate',\n",
       " 'Coffee and Tea',\n",
       " 'Comfort Food',\n",
       " 'Convenience',\n",
       " 'Cuban',\n",
       " 'Cupcakes',\n",
       " 'Curry',\n",
       " 'Deli',\n",
       " 'Desserts',\n",
       " 'Dominican',\n",
       " 'Donuts',\n",
       " 'Ethiopian',\n",
       " 'European',\n",
       " 'Fast Food',\n",
       " 'Filipino',\n",
       " 'French',\n",
       " 'Frozen Yogurt',\n",
       " 'Georgian',\n",
       " 'Gourmet',\n",
       " 'Greek',\n",
       " 'Grocery',\n",
       " 'Halal',\n",
       " 'Hawaiian',\n",
       " 'Healthy',\n",
       " 'Ice Cream',\n",
       " 'Indian',\n",
       " 'Indian Curry',\n",
       " 'Italian',\n",
       " 'Jamaican',\n",
       " 'Japanese',\n",
       " 'Juice and Smoothies',\n",
       " 'Kids Friendly',\n",
       " 'Korean',\n",
       " 'Kosher',\n",
       " 'Lamb',\n",
       " 'Latin American',\n",
       " 'Malaysian',\n",
       " 'Mediterranean',\n",
       " 'Mexican',\n",
       " 'Middle Eastern',\n",
       " 'Modern European',\n",
       " 'New American',\n",
       " 'Noodles',\n",
       " 'Pasta',\n",
       " 'Pastry',\n",
       " 'Peruvian',\n",
       " 'Pizza',\n",
       " 'Pork',\n",
       " 'Ramen',\n",
       " 'Rice',\n",
       " 'Rolls',\n",
       " 'Russian',\n",
       " 'Salads',\n",
       " 'Sandwich',\n",
       " 'Seafood',\n",
       " 'Singaporean',\n",
       " 'South American',\n",
       " 'South Asian',\n",
       " 'Southern',\n",
       " 'Steak',\n",
       " 'Sushi',\n",
       " 'Tacos',\n",
       " 'Taiwanese',\n",
       " 'Tapioca',\n",
       " 'Thai',\n",
       " 'Traditional American',\n",
       " 'Turkish',\n",
       " 'Vegan',\n",
       " 'Vegetarian',\n",
       " 'Vietnamese',\n",
       " 'Wings',\n",
       " 'Wraps'}"
      ]
     },
     "execution_count": 2,
     "metadata": {},
     "output_type": "execute_result"
    }
   ],
   "source": [
    "f = open(\"./categories.txt\")\n",
    "lines = f.read().split('\\n')\n",
    "categories = set(lines)\n",
    "categories.remove('')\n",
    "len(categories)\n",
    "categories"
   ]
  },
  {
   "cell_type": "code",
   "execution_count": 3,
   "metadata": {
    "collapsed": false
   },
   "outputs": [
    {
     "data": {
      "text/plain": [
       "<title>Vegetarian Delivery | New York City | Uber Eats</title>"
      ]
     },
     "execution_count": 3,
     "metadata": {},
     "output_type": "execute_result"
    },
    {
     "name": "stdout",
     "output_type": "stream",
     "text": [
      "found: 316, old size: 0\n",
      "added: 316, new size: 316\n"
     ]
    },
    {
     "data": {
      "text/plain": [
       "<title>Desserts Delivery | New York City | Uber Eats</title>"
      ]
     },
     "execution_count": 3,
     "metadata": {},
     "output_type": "execute_result"
    },
    {
     "name": "stdout",
     "output_type": "stream",
     "text": [
      "found: 600, old size: 316\n",
      "added: 550, new size: 866\n"
     ]
    },
    {
     "data": {
      "text/plain": [
       "<title>New American Delivery | New York City | Uber Eats</title>"
      ]
     },
     "execution_count": 3,
     "metadata": {},
     "output_type": "execute_result"
    },
    {
     "name": "stdout",
     "output_type": "stream",
     "text": [
      "found: 35, old size: 866\n",
      "added: 24, new size: 890\n"
     ]
    },
    {
     "data": {
      "text/plain": [
       "<title>Tacos Delivery | New York City | Uber Eats</title>"
      ]
     },
     "execution_count": 3,
     "metadata": {},
     "output_type": "execute_result"
    },
    {
     "name": "stdout",
     "output_type": "stream",
     "text": [
      "found: 133, old size: 890\n",
      "added: 120, new size: 1010\n"
     ]
    },
    {
     "data": {
      "text/plain": [
       "<title>Traditional American Delivery | New York City | Uber Eats</title>"
      ]
     },
     "execution_count": 3,
     "metadata": {},
     "output_type": "execute_result"
    },
    {
     "name": "stdout",
     "output_type": "stream",
     "text": [
      "found: 16, old size: 1010\n",
      "added: 10, new size: 1020\n"
     ]
    },
    {
     "data": {
      "text/plain": [
       "<title>Gourmet Delivery | New York City | Uber Eats</title>"
      ]
     },
     "execution_count": 3,
     "metadata": {},
     "output_type": "execute_result"
    },
    {
     "name": "stdout",
     "output_type": "stream",
     "text": [
      "found: 10, old size: 1020\n",
      "added: 8, new size: 1028\n"
     ]
    },
    {
     "data": {
      "text/plain": [
       "<title>Georgian Delivery | New York City | Uber Eats</title>"
      ]
     },
     "execution_count": 3,
     "metadata": {},
     "output_type": "execute_result"
    },
    {
     "name": "stdout",
     "output_type": "stream",
     "text": [
      "found: 1, old size: 1028\n",
      "added: 0, new size: 1028\n"
     ]
    },
    {
     "data": {
      "text/plain": [
       "<title>Breakfast and Brunch Delivery | New York City | Uber Eats</title>"
      ]
     },
     "execution_count": 3,
     "metadata": {},
     "output_type": "execute_result"
    },
    {
     "name": "stdout",
     "output_type": "stream",
     "text": [
      "found: 262, old size: 1028\n",
      "added: 167, new size: 1195\n"
     ]
    },
    {
     "data": {
      "text/plain": [
       "<title>Dominican Delivery | New York City | Uber Eats</title>"
      ]
     },
     "execution_count": 3,
     "metadata": {},
     "output_type": "execute_result"
    },
    {
     "name": "stdout",
     "output_type": "stream",
     "text": [
      "found: 1, old size: 1195\n",
      "added: 1, new size: 1196\n"
     ]
    },
    {
     "data": {
      "text/plain": [
       "<title>European Delivery | New York City | Uber Eats</title>"
      ]
     },
     "execution_count": 3,
     "metadata": {},
     "output_type": "execute_result"
    },
    {
     "name": "stdout",
     "output_type": "stream",
     "text": [
      "found: 23, old size: 1196\n",
      "added: 15, new size: 1211\n"
     ]
    },
    {
     "data": {
      "text/plain": [
       "<title>Bakery Delivery | New York City | Uber Eats</title>"
      ]
     },
     "execution_count": 3,
     "metadata": {},
     "output_type": "execute_result"
    },
    {
     "name": "stdout",
     "output_type": "stream",
     "text": [
      "found: 78, old size: 1211\n",
      "added: 11, new size: 1222\n"
     ]
    },
    {
     "data": {
      "text/plain": [
       "<title>South Asian Delivery | New York City | Uber Eats</title>"
      ]
     },
     "execution_count": 3,
     "metadata": {},
     "output_type": "execute_result"
    },
    {
     "name": "stdout",
     "output_type": "stream",
     "text": [
      "found: 8, old size: 1222\n",
      "added: 5, new size: 1227\n"
     ]
    },
    {
     "data": {
      "text/plain": [
       "<title>Filipino Delivery | New York City | Uber Eats</title>"
      ]
     },
     "execution_count": 3,
     "metadata": {},
     "output_type": "execute_result"
    },
    {
     "name": "stdout",
     "output_type": "stream",
     "text": [
      "found: 3, old size: 1227\n",
      "added: 1, new size: 1228\n"
     ]
    },
    {
     "data": {
      "text/plain": [
       "<title>Pizza Delivery | New York City | Uber Eats</title>"
      ]
     },
     "execution_count": 3,
     "metadata": {},
     "output_type": "execute_result"
    },
    {
     "name": "stdout",
     "output_type": "stream",
     "text": [
      "found: 155, old size: 1228\n",
      "added: 126, new size: 1354\n"
     ]
    },
    {
     "data": {
      "text/plain": [
       "<title>Italian Delivery | New York City | Uber Eats</title>"
      ]
     },
     "execution_count": 3,
     "metadata": {},
     "output_type": "execute_result"
    },
    {
     "name": "stdout",
     "output_type": "stream",
     "text": [
      "found: 234, old size: 1354\n",
      "added: 80, new size: 1434\n",
      "error: HTTP Error 404: Not Found\n",
      " url: https://www.ubereats.com/category/new-york/beef\n"
     ]
    },
    {
     "data": {
      "text/plain": [
       "<title>Singaporean Delivery | New York City | Uber Eats</title>"
      ]
     },
     "execution_count": 3,
     "metadata": {},
     "output_type": "execute_result"
    },
    {
     "name": "stdout",
     "output_type": "stream",
     "text": [
      "found: 3, old size: 1434\n",
      "added: 2, new size: 1436\n"
     ]
    },
    {
     "data": {
      "text/plain": [
       "<title>Belgian Delivery | New York City | Uber Eats</title>"
      ]
     },
     "execution_count": 3,
     "metadata": {},
     "output_type": "execute_result"
    },
    {
     "name": "stdout",
     "output_type": "stream",
     "text": [
      "found: 2, old size: 1436\n",
      "added: 1, new size: 1437\n"
     ]
    },
    {
     "data": {
      "text/plain": [
       "<title>Noodles Delivery | New York City | Uber Eats</title>"
      ]
     },
     "execution_count": 3,
     "metadata": {},
     "output_type": "execute_result"
    },
    {
     "name": "stdout",
     "output_type": "stream",
     "text": [
      "found: 173, old size: 1437\n",
      "added: 142, new size: 1579\n"
     ]
    },
    {
     "data": {
      "text/plain": [
       "<title>Brazilian Delivery | New York City | Uber Eats</title>"
      ]
     },
     "execution_count": 3,
     "metadata": {},
     "output_type": "execute_result"
    },
    {
     "name": "stdout",
     "output_type": "stream",
     "text": [
      "found: 5, old size: 1579\n",
      "added: 3, new size: 1582\n"
     ]
    },
    {
     "data": {
      "text/plain": [
       "<title>Greek Delivery | New York City | Uber Eats</title>"
      ]
     },
     "execution_count": 3,
     "metadata": {},
     "output_type": "execute_result"
    },
    {
     "name": "stdout",
     "output_type": "stream",
     "text": [
      "found: 35, old size: 1582\n",
      "added: 10, new size: 1592\n"
     ]
    },
    {
     "data": {
      "text/plain": [
       "<title>Vietnamese Delivery | New York City | Uber Eats</title>"
      ]
     },
     "execution_count": 3,
     "metadata": {},
     "output_type": "execute_result"
    },
    {
     "name": "stdout",
     "output_type": "stream",
     "text": [
      "found: 34, old size: 1592\n",
      "added: 13, new size: 1605\n"
     ]
    },
    {
     "data": {
      "text/plain": [
       "<title>Sushi Delivery | New York City | Uber Eats</title>"
      ]
     },
     "execution_count": 3,
     "metadata": {},
     "output_type": "execute_result"
    },
    {
     "name": "stdout",
     "output_type": "stream",
     "text": [
      "found: 123, old size: 1605\n",
      "added: 92, new size: 1697\n"
     ]
    },
    {
     "data": {
      "text/plain": [
       "<title>Kids Friendly Delivery | New York City | Uber Eats</title>"
      ]
     },
     "execution_count": 3,
     "metadata": {},
     "output_type": "execute_result"
    },
    {
     "name": "stdout",
     "output_type": "stream",
     "text": [
      "found: 52, old size: 1697\n",
      "added: 12, new size: 1709\n"
     ]
    },
    {
     "data": {
      "text/plain": [
       "<title>Wraps Delivery | New York City | Uber Eats</title>"
      ]
     },
     "execution_count": 3,
     "metadata": {},
     "output_type": "execute_result"
    },
    {
     "name": "stdout",
     "output_type": "stream",
     "text": [
      "found: 98, old size: 1709\n",
      "added: 56, new size: 1765\n"
     ]
    },
    {
     "data": {
      "text/plain": [
       "<title>Ice Cream Delivery | New York City | Uber Eats</title>"
      ]
     },
     "execution_count": 3,
     "metadata": {},
     "output_type": "execute_result"
    },
    {
     "name": "stdout",
     "output_type": "stream",
     "text": [
      "found: 31, old size: 1765\n",
      "added: 7, new size: 1772\n"
     ]
    },
    {
     "data": {
      "text/plain": [
       "<title>Cafe Delivery | New York City | Uber Eats</title>"
      ]
     },
     "execution_count": 3,
     "metadata": {},
     "output_type": "execute_result"
    },
    {
     "name": "stdout",
     "output_type": "stream",
     "text": [
      "found: 58, old size: 1772\n",
      "added: 8, new size: 1780\n"
     ]
    },
    {
     "data": {
      "text/plain": [
       "<title>Kosher Delivery | New York City | Uber Eats</title>"
      ]
     },
     "execution_count": 3,
     "metadata": {},
     "output_type": "execute_result"
    },
    {
     "name": "stdout",
     "output_type": "stream",
     "text": [
      "found: 20, old size: 1780\n",
      "added: 6, new size: 1786\n"
     ]
    },
    {
     "data": {
      "text/plain": [
       "<title>Rice Dishes Delivery | New York City | Uber Eats</title>"
      ]
     },
     "execution_count": 3,
     "metadata": {},
     "output_type": "execute_result"
    },
    {
     "name": "stdout",
     "output_type": "stream",
     "text": [
      "found: 83, old size: 1786\n",
      "added: 43, new size: 1829\n"
     ]
    },
    {
     "data": {
      "text/plain": [
       "<title>Latin American Delivery | New York City | Uber Eats</title>"
      ]
     },
     "execution_count": 3,
     "metadata": {},
     "output_type": "execute_result"
    },
    {
     "name": "stdout",
     "output_type": "stream",
     "text": [
      "found: 73, old size: 1829\n",
      "added: 41, new size: 1870\n"
     ]
    },
    {
     "data": {
      "text/plain": [
       "<title>Mexican Delivery | New York City | Uber Eats</title>"
      ]
     },
     "execution_count": 3,
     "metadata": {},
     "output_type": "execute_result"
    },
    {
     "name": "stdout",
     "output_type": "stream",
     "text": [
      "found: 125, old size: 1870\n",
      "added: 31, new size: 1901\n"
     ]
    },
    {
     "data": {
      "text/plain": [
       "<title>Cantonese Delivery | New York City | Uber Eats</title>"
      ]
     },
     "execution_count": 3,
     "metadata": {},
     "output_type": "execute_result"
    },
    {
     "name": "stdout",
     "output_type": "stream",
     "text": [
      "found: 7, old size: 1901\n",
      "added: 2, new size: 1903\n"
     ]
    },
    {
     "data": {
      "text/plain": [
       "<title>Jamaican Delivery | New York City | Uber Eats</title>"
      ]
     },
     "execution_count": 3,
     "metadata": {},
     "output_type": "execute_result"
    },
    {
     "name": "stdout",
     "output_type": "stream",
     "text": [
      "found: 2, old size: 1903\n",
      "added: 2, new size: 1905\n"
     ]
    },
    {
     "data": {
      "text/plain": [
       "<title>Asian Delivery | New York City | Uber Eats</title>"
      ]
     },
     "execution_count": 3,
     "metadata": {},
     "output_type": "execute_result"
    },
    {
     "name": "stdout",
     "output_type": "stream",
     "text": [
      "found: 416, old size: 1905\n",
      "added: 120, new size: 2025\n"
     ]
    },
    {
     "data": {
      "text/plain": [
       "<title>Rolls Delivery | New York City | Uber Eats</title>"
      ]
     },
     "execution_count": 3,
     "metadata": {},
     "output_type": "execute_result"
    },
    {
     "name": "stdout",
     "output_type": "stream",
     "text": [
      "found: 34, old size: 2025\n",
      "added: 1, new size: 2026\n"
     ]
    },
    {
     "data": {
      "text/plain": [
       "<title>Healthy Delivery | New York City | Uber Eats</title>"
      ]
     },
     "execution_count": 3,
     "metadata": {},
     "output_type": "execute_result"
    },
    {
     "name": "stdout",
     "output_type": "stream",
     "text": [
      "found: 241, old size: 2026\n",
      "added: 53, new size: 2079\n"
     ]
    },
    {
     "data": {
      "text/plain": [
       "<title>Bubble Tea Delivery | New York City | Uber Eats</title>"
      ]
     },
     "execution_count": 3,
     "metadata": {},
     "output_type": "execute_result"
    },
    {
     "name": "stdout",
     "output_type": "stream",
     "text": [
      "found: 47, old size: 2079\n",
      "added: 6, new size: 2085\n"
     ]
    },
    {
     "data": {
      "text/plain": [
       "<title>Seafood Delivery | New York City | Uber Eats</title>"
      ]
     },
     "execution_count": 3,
     "metadata": {},
     "output_type": "execute_result"
    },
    {
     "name": "stdout",
     "output_type": "stream",
     "text": [
      "found: 200, old size: 2085\n",
      "added: 48, new size: 2133\n"
     ]
    },
    {
     "data": {
      "text/plain": [
       "<title>Grocery Delivery | New York City | Uber Eats</title>"
      ]
     },
     "execution_count": 3,
     "metadata": {},
     "output_type": "execute_result"
    },
    {
     "name": "stdout",
     "output_type": "stream",
     "text": [
      "found: 11, old size: 2133\n",
      "added: 5, new size: 2138\n",
      "error: HTTP Error 404: Not Found\n",
      " url: https://www.ubereats.com/category/new-york/pork\n"
     ]
    },
    {
     "data": {
      "text/plain": [
       "<title>Burgers Delivery | New York City | Uber Eats</title>"
      ]
     },
     "execution_count": 3,
     "metadata": {},
     "output_type": "execute_result"
    },
    {
     "name": "stdout",
     "output_type": "stream",
     "text": [
      "found: 522, old size: 2138\n",
      "added: 348, new size: 2486\n"
     ]
    },
    {
     "data": {
      "text/plain": [
       "<title>Asian Fusion Delivery | New York City | Uber Eats</title>"
      ]
     },
     "execution_count": 3,
     "metadata": {},
     "output_type": "execute_result"
    },
    {
     "name": "stdout",
     "output_type": "stream",
     "text": [
      "found: 141, old size: 2486\n",
      "added: 0, new size: 2486\n"
     ]
    },
    {
     "data": {
      "text/plain": [
       "<title>Middle Eastern Delivery | New York City | Uber Eats</title>"
      ]
     },
     "execution_count": 3,
     "metadata": {},
     "output_type": "execute_result"
    },
    {
     "name": "stdout",
     "output_type": "stream",
     "text": [
      "found: 36, old size: 2486\n",
      "added: 18, new size: 2504\n"
     ]
    },
    {
     "data": {
      "text/plain": [
       "<title>Deli Delivery | New York City | Uber Eats</title>"
      ]
     },
     "execution_count": 3,
     "metadata": {},
     "output_type": "execute_result"
    },
    {
     "name": "stdout",
     "output_type": "stream",
     "text": [
      "found: 46, old size: 2504\n",
      "added: 10, new size: 2514\n"
     ]
    },
    {
     "data": {
      "text/plain": [
       "<title>Southern Delivery | New York City | Uber Eats</title>"
      ]
     },
     "execution_count": 3,
     "metadata": {},
     "output_type": "execute_result"
    },
    {
     "name": "stdout",
     "output_type": "stream",
     "text": [
      "found: 29, old size: 2514\n",
      "added: 3, new size: 2517\n"
     ]
    },
    {
     "data": {
      "text/plain": [
       "<title>American Delivery | New York City | Uber Eats</title>"
      ]
     },
     "execution_count": 3,
     "metadata": {},
     "output_type": "execute_result"
    },
    {
     "name": "stdout",
     "output_type": "stream",
     "text": [
      "found: 682, old size: 2517\n",
      "added: 103, new size: 2620\n"
     ]
    },
    {
     "data": {
      "text/plain": [
       "<title>Chicken Delivery | New York City | Uber Eats</title>"
      ]
     },
     "execution_count": 3,
     "metadata": {},
     "output_type": "execute_result"
    },
    {
     "name": "stdout",
     "output_type": "stream",
     "text": [
      "found: 287, old size: 2620\n",
      "added: 102, new size: 2722\n"
     ]
    },
    {
     "data": {
      "text/plain": [
       "<title>Coffee and Tea Delivery | New York City | Uber Eats</title>"
      ]
     },
     "execution_count": 3,
     "metadata": {},
     "output_type": "execute_result"
    },
    {
     "name": "stdout",
     "output_type": "stream",
     "text": [
      "found: 170, old size: 2722\n",
      "added: 9, new size: 2731\n"
     ]
    },
    {
     "data": {
      "text/plain": [
       "<title>Chinese Delivery | New York City | Uber Eats</title>"
      ]
     },
     "execution_count": 3,
     "metadata": {},
     "output_type": "execute_result"
    },
    {
     "name": "stdout",
     "output_type": "stream",
     "text": [
      "found: 161, old size: 2731\n",
      "added: 4, new size: 2735\n"
     ]
    },
    {
     "data": {
      "text/plain": [
       "<title>Salads Delivery | New York City | Uber Eats</title>"
      ]
     },
     "execution_count": 3,
     "metadata": {},
     "output_type": "execute_result"
    },
    {
     "name": "stdout",
     "output_type": "stream",
     "text": [
      "found: 844, old size: 2735\n",
      "added: 262, new size: 2997\n"
     ]
    },
    {
     "data": {
      "text/plain": [
       "<title>Steak Delivery | New York City | Uber Eats</title>"
      ]
     },
     "execution_count": 3,
     "metadata": {},
     "output_type": "execute_result"
    },
    {
     "name": "stdout",
     "output_type": "stream",
     "text": [
      "found: 84, old size: 2997\n",
      "added: 22, new size: 3019\n"
     ]
    },
    {
     "data": {
      "text/plain": [
       "<title>Turkish Delivery | New York City | Uber Eats</title>"
      ]
     },
     "execution_count": 3,
     "metadata": {},
     "output_type": "execute_result"
    },
    {
     "name": "stdout",
     "output_type": "stream",
     "text": [
      "found: 9, old size: 3019\n",
      "added: 1, new size: 3020\n"
     ]
    },
    {
     "data": {
      "text/plain": [
       "<title>Hawaiian Delivery | New York City | Uber Eats</title>"
      ]
     },
     "execution_count": 3,
     "metadata": {},
     "output_type": "execute_result"
    },
    {
     "name": "stdout",
     "output_type": "stream",
     "text": [
      "found: 14, old size: 3020\n",
      "added: 0, new size: 3020\n"
     ]
    },
    {
     "data": {
      "text/plain": [
       "<title>Halal Delivery | New York City | Uber Eats</title>"
      ]
     },
     "execution_count": 3,
     "metadata": {},
     "output_type": "execute_result"
    },
    {
     "name": "stdout",
     "output_type": "stream",
     "text": [
      "found: 29, old size: 3020\n",
      "added: 2, new size: 3022\n"
     ]
    },
    {
     "data": {
      "text/plain": [
       "<title>Peruvian Delivery | New York City | Uber Eats</title>"
      ]
     },
     "execution_count": 3,
     "metadata": {},
     "output_type": "execute_result"
    },
    {
     "name": "stdout",
     "output_type": "stream",
     "text": [
      "found: 5, old size: 3022\n",
      "added: 0, new size: 3022\n"
     ]
    },
    {
     "data": {
      "text/plain": [
       "<title>Fast Food Delivery | New York City | Uber Eats</title>"
      ]
     },
     "execution_count": 3,
     "metadata": {},
     "output_type": "execute_result"
    },
    {
     "name": "stdout",
     "output_type": "stream",
     "text": [
      "found: 87, old size: 3022\n",
      "added: 3, new size: 3025\n"
     ]
    },
    {
     "data": {
      "text/plain": [
       "<title>African Delivery | New York City | Uber Eats</title>"
      ]
     },
     "execution_count": 3,
     "metadata": {},
     "output_type": "execute_result"
    },
    {
     "name": "stdout",
     "output_type": "stream",
     "text": [
      "found: 7, old size: 3025\n",
      "added: 2, new size: 3027\n"
     ]
    },
    {
     "data": {
      "text/plain": [
       "<title>Bbq Delivery | New York City | Uber Eats</title>"
      ]
     },
     "execution_count": 3,
     "metadata": {},
     "output_type": "execute_result"
    },
    {
     "name": "stdout",
     "output_type": "stream",
     "text": [
      "found: 43, old size: 3027\n",
      "added: 1, new size: 3028\n"
     ]
    },
    {
     "data": {
      "text/plain": [
       "<title>Vegan Delivery | New York City | Uber Eats</title>"
      ]
     },
     "execution_count": 3,
     "metadata": {},
     "output_type": "execute_result"
    },
    {
     "name": "stdout",
     "output_type": "stream",
     "text": [
      "found: 120, old size: 3028\n",
      "added: 2, new size: 3030\n"
     ]
    },
    {
     "data": {
      "text/plain": [
       "<title>Juice and Smoothies Delivery | New York City | Uber Eats</title>"
      ]
     },
     "execution_count": 3,
     "metadata": {},
     "output_type": "execute_result"
    },
    {
     "name": "stdout",
     "output_type": "stream",
     "text": [
      "found: 121, old size: 3030\n",
      "added: 2, new size: 3032\n"
     ]
    },
    {
     "data": {
      "text/plain": [
       "<title>Mediterranean Delivery | New York City | Uber Eats</title>"
      ]
     },
     "execution_count": 3,
     "metadata": {},
     "output_type": "execute_result"
    },
    {
     "name": "stdout",
     "output_type": "stream",
     "text": [
      "found: 83, old size: 3032\n",
      "added: 8, new size: 3040\n"
     ]
    },
    {
     "data": {
      "text/plain": [
       "<title>Convenience Delivery | New York City | Uber Eats</title>"
      ]
     },
     "execution_count": 3,
     "metadata": {},
     "output_type": "execute_result"
    },
    {
     "name": "stdout",
     "output_type": "stream",
     "text": [
      "found: 8, old size: 3040\n",
      "added: 0, new size: 3040\n"
     ]
    },
    {
     "data": {
      "text/plain": [
       "<title>Donuts Delivery | New York City | Uber Eats</title>"
      ]
     },
     "execution_count": 3,
     "metadata": {},
     "output_type": "execute_result"
    },
    {
     "name": "stdout",
     "output_type": "stream",
     "text": [
      "found: 104, old size: 3040\n",
      "added: 36, new size: 3076\n"
     ]
    },
    {
     "data": {
      "text/plain": [
       "<title>Thai Delivery | New York City | Uber Eats</title>"
      ]
     },
     "execution_count": 3,
     "metadata": {},
     "output_type": "execute_result"
    },
    {
     "name": "stdout",
     "output_type": "stream",
     "text": [
      "found: 64, old size: 3076\n",
      "added: 0, new size: 3076\n"
     ]
    },
    {
     "data": {
      "text/plain": [
       "<title>Korean Delivery | New York City | Uber Eats</title>"
      ]
     },
     "execution_count": 3,
     "metadata": {},
     "output_type": "execute_result"
    },
    {
     "name": "stdout",
     "output_type": "stream",
     "text": [
      "found: 53, old size: 3076\n",
      "added: 2, new size: 3078\n"
     ]
    },
    {
     "data": {
      "text/plain": [
       "<title>Caribbean Delivery | New York City | Uber Eats</title>"
      ]
     },
     "execution_count": 3,
     "metadata": {},
     "output_type": "execute_result"
    },
    {
     "name": "stdout",
     "output_type": "stream",
     "text": [
      "found: 11, old size: 3078\n",
      "added: 1, new size: 3079\n"
     ]
    },
    {
     "data": {
      "text/plain": [
       "<title>Sandwich Delivery | New York City | Uber Eats</title>"
      ]
     },
     "execution_count": 3,
     "metadata": {},
     "output_type": "execute_result"
    },
    {
     "name": "stdout",
     "output_type": "stream",
     "text": [
      "found: 471, old size: 3079\n",
      "added: 3, new size: 3082\n"
     ]
    },
    {
     "data": {
      "text/plain": [
       "<title>Wings Delivery | New York City | Uber Eats</title>"
      ]
     },
     "execution_count": 3,
     "metadata": {},
     "output_type": "execute_result"
    },
    {
     "name": "stdout",
     "output_type": "stream",
     "text": [
      "found: 85, old size: 3082\n",
      "added: 2, new size: 3084\n",
      "error: HTTP Error 404: Not Found\n",
      " url: https://www.ubereats.com/category/new-york/allergy-friendly\n"
     ]
    },
    {
     "data": {
      "text/plain": [
       "<title>Taiwanese Delivery | New York City | Uber Eats</title>"
      ]
     },
     "execution_count": 3,
     "metadata": {},
     "output_type": "execute_result"
    },
    {
     "name": "stdout",
     "output_type": "stream",
     "text": [
      "found: 10, old size: 3084\n",
      "added: 0, new size: 3084\n"
     ]
    },
    {
     "data": {
      "text/plain": [
       "<title>Comfort Food Delivery | New York City | Uber Eats</title>"
      ]
     },
     "execution_count": 3,
     "metadata": {},
     "output_type": "execute_result"
    },
    {
     "name": "stdout",
     "output_type": "stream",
     "text": [
      "found: 286, old size: 3084\n",
      "added: 9, new size: 3093\n"
     ]
    },
    {
     "data": {
      "text/plain": [
       "<title>Pasta Delivery | New York City | Uber Eats</title>"
      ]
     },
     "execution_count": 3,
     "metadata": {},
     "output_type": "execute_result"
    },
    {
     "name": "stdout",
     "output_type": "stream",
     "text": [
      "found: 170, old size: 3093\n",
      "added: 0, new size: 3093\n"
     ]
    },
    {
     "data": {
      "text/plain": [
       "<title>Curry Delivery | New York City | Uber Eats</title>"
      ]
     },
     "execution_count": 3,
     "metadata": {},
     "output_type": "execute_result"
    },
    {
     "name": "stdout",
     "output_type": "stream",
     "text": [
      "found: 42, old size: 3093\n",
      "added: 2, new size: 3095\n"
     ]
    },
    {
     "data": {
      "text/plain": [
       "<title>Modern European Delivery | New York City | Uber Eats</title>"
      ]
     },
     "execution_count": 3,
     "metadata": {},
     "output_type": "execute_result"
    },
    {
     "name": "stdout",
     "output_type": "stream",
     "text": [
      "found: 13, old size: 3095\n",
      "added: 0, new size: 3095\n"
     ]
    },
    {
     "data": {
      "text/plain": [
       "<title>Indian Curry Delivery | New York City | Uber Eats</title>"
      ]
     },
     "execution_count": 3,
     "metadata": {},
     "output_type": "execute_result"
    },
    {
     "name": "stdout",
     "output_type": "stream",
     "text": [
      "found: 14, old size: 3095\n",
      "added: 0, new size: 3095\n"
     ]
    },
    {
     "data": {
      "text/plain": [
       "<title>South American Delivery | New York City | Uber Eats</title>"
      ]
     },
     "execution_count": 3,
     "metadata": {},
     "output_type": "execute_result"
    },
    {
     "name": "stdout",
     "output_type": "stream",
     "text": [
      "found: 4, old size: 3095\n",
      "added: 0, new size: 3095\n"
     ]
    },
    {
     "data": {
      "text/plain": [
       "<title>Cupcakes Delivery | New York City | Uber Eats</title>"
      ]
     },
     "execution_count": 3,
     "metadata": {},
     "output_type": "execute_result"
    },
    {
     "name": "stdout",
     "output_type": "stream",
     "text": [
      "found: 49, old size: 3095\n",
      "added: 1, new size: 3096\n"
     ]
    },
    {
     "data": {
      "text/plain": [
       "<title>Japanese Delivery | New York City | Uber Eats</title>"
      ]
     },
     "execution_count": 3,
     "metadata": {},
     "output_type": "execute_result"
    },
    {
     "name": "stdout",
     "output_type": "stream",
     "text": [
      "found: 185, old size: 3096\n",
      "added: 4, new size: 3100\n"
     ]
    },
    {
     "data": {
      "text/plain": [
       "<title>Cuban Delivery | New York City | Uber Eats</title>"
      ]
     },
     "execution_count": 3,
     "metadata": {},
     "output_type": "execute_result"
    },
    {
     "name": "stdout",
     "output_type": "stream",
     "text": [
      "found: 10, old size: 3100\n",
      "added: 0, new size: 3100\n"
     ]
    },
    {
     "data": {
      "text/plain": [
       "<title>Tapioca Delivery | New York City | Uber Eats</title>"
      ]
     },
     "execution_count": 3,
     "metadata": {},
     "output_type": "execute_result"
    },
    {
     "name": "stdout",
     "output_type": "stream",
     "text": [
      "found: 1, old size: 3100\n",
      "added: 0, new size: 3100\n"
     ]
    },
    {
     "data": {
      "text/plain": [
       "<title>Indian Delivery | New York City | Uber Eats</title>"
      ]
     },
     "execution_count": 3,
     "metadata": {},
     "output_type": "execute_result"
    },
    {
     "name": "stdout",
     "output_type": "stream",
     "text": [
      "found: 70, old size: 3100\n",
      "added: 5, new size: 3105\n"
     ]
    },
    {
     "data": {
      "text/plain": [
       "<title>Malaysian Delivery | New York City | Uber Eats</title>"
      ]
     },
     "execution_count": 3,
     "metadata": {},
     "output_type": "execute_result"
    },
    {
     "name": "stdout",
     "output_type": "stream",
     "text": [
      "found: 6, old size: 3105\n",
      "added: 0, new size: 3105\n"
     ]
    },
    {
     "data": {
      "text/plain": [
       "<title>Russian Delivery | New York City | Uber Eats</title>"
      ]
     },
     "execution_count": 3,
     "metadata": {},
     "output_type": "execute_result"
    },
    {
     "name": "stdout",
     "output_type": "stream",
     "text": [
      "found: 4, old size: 3105\n",
      "added: 1, new size: 3106\n"
     ]
    },
    {
     "data": {
      "text/plain": [
       "<title>Ethiopian Delivery | New York City | Uber Eats</title>"
      ]
     },
     "execution_count": 3,
     "metadata": {},
     "output_type": "execute_result"
    },
    {
     "name": "stdout",
     "output_type": "stream",
     "text": [
      "found: 3, old size: 3106\n",
      "added: 0, new size: 3106\n",
      "error: HTTP Error 404: Not Found\n",
      " url: https://www.ubereats.com/category/new-york/lamb\n"
     ]
    },
    {
     "data": {
      "text/plain": [
       "<title>Pastry Delivery | New York City | Uber Eats</title>"
      ]
     },
     "execution_count": 3,
     "metadata": {},
     "output_type": "execute_result"
    },
    {
     "name": "stdout",
     "output_type": "stream",
     "text": [
      "found: 27, old size: 3106\n",
      "added: 1, new size: 3107\n"
     ]
    },
    {
     "data": {
      "text/plain": [
       "<title>Ramen Delivery | New York City | Uber Eats</title>"
      ]
     },
     "execution_count": 3,
     "metadata": {},
     "output_type": "execute_result"
    },
    {
     "name": "stdout",
     "output_type": "stream",
     "text": [
      "found: 39, old size: 3107\n",
      "added: 1, new size: 3108\n"
     ]
    },
    {
     "data": {
      "text/plain": [
       "<title>French Delivery | New York City | Uber Eats</title>"
      ]
     },
     "execution_count": 3,
     "metadata": {},
     "output_type": "execute_result"
    },
    {
     "name": "stdout",
     "output_type": "stream",
     "text": [
      "found: 28, old size: 3108\n",
      "added: 3, new size: 3111\n"
     ]
    },
    {
     "data": {
      "text/plain": [
       "<title>Chocolate Delivery | New York City | Uber Eats</title>"
      ]
     },
     "execution_count": 3,
     "metadata": {},
     "output_type": "execute_result"
    },
    {
     "name": "stdout",
     "output_type": "stream",
     "text": [
      "found: 10, old size: 3111\n",
      "added: 0, new size: 3111\n"
     ]
    },
    {
     "data": {
      "text/plain": [
       "<title>Frozen Yogurt Delivery | New York City | Uber Eats</title>"
      ]
     },
     "execution_count": 3,
     "metadata": {},
     "output_type": "execute_result"
    },
    {
     "name": "stdout",
     "output_type": "stream",
     "text": [
      "found: 17, old size: 3111\n",
      "added: 1, new size: 3112\n"
     ]
    },
    {
     "data": {
      "text/plain": [
       "<title>Burritos Delivery | New York City | Uber Eats</title>"
      ]
     },
     "execution_count": 3,
     "metadata": {},
     "output_type": "execute_result"
    },
    {
     "name": "stdout",
     "output_type": "stream",
     "text": [
      "found: 108, old size: 3112\n",
      "added: 7, new size: 3119\n"
     ]
    }
   ],
   "source": [
    "from urllib.error import URLError\n",
    "\n",
    "city_url = \"https://www.ubereats.com/location/new-york\"\n",
    "rests = set()\n",
    "# categories = {'indian', 'american', 'mexican', 'coffee and tea'}\n",
    "for category in categories:\n",
    "    category = category.lower().replace(\" \", \"-\")\n",
    "    category_city_url = \"https://www.ubereats.com/category/\" + city_url.split('/')[-1] + \"/\" + category\n",
    "    \n",
    "    \n",
    "    try:\n",
    "        req = Request(category_city_url, headers={'User-Agent': 'Mozilla/5.0', 'Accept': 'text/html,application/xhtml+xml,application/xml'})\n",
    "        webpage = urlopen(req).read()\n",
    "        soup = BeautifulSoup(webpage, 'html.parser')\n",
    "        soup.title\n",
    "        rest_links = soup.find_all(\"h3\", class_=\"dr bn bo at ep al aj eq dp\")\n",
    "        old_rests_size = len(rests)\n",
    "        print(f\"found: {len(rest_links)}, old size: {old_rests_size}\")\n",
    "        for link in rest_links:\n",
    "            rests.add(link.a['href'])\n",
    "        print(f\"added: {len(rests)-old_rests_size}, new size: {len(rests)}\")\n",
    "    except Exception as e:\n",
    "        print(f\"error: {e}\\n url: {category_city_url}\")"
   ]
  },
  {
   "cell_type": "code",
   "execution_count": null,
   "metadata": {
    "collapsed": false
   },
   "outputs": [],
   "source": [
    "rests"
   ]
  }
 ],
 "metadata": {
  "kernelspec": {
   "display_name": "Python 3",
   "language": "python",
   "name": "python3"
  },
  "language_info": {
   "codemirror_mode": {
    "name": "ipython",
    "version": 3
   },
   "file_extension": ".py",
   "mimetype": "text/x-python",
   "name": "python",
   "nbconvert_exporter": "python",
   "pygments_lexer": "ipython3",
   "version": "3.6.9"
  }
 },
 "nbformat": 4,
 "nbformat_minor": 0
}
