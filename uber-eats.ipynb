{
 "cells": [
  {
   "cell_type": "code",
   "execution_count": 19,
   "metadata": {
    "collapsed": true
   },
   "outputs": [],
   "source": [
    "from IPython.core.interactiveshell import InteractiveShell\n",
    "InteractiveShell.ast_node_interactivity = \"all\"\n",
    "from selenium import webdriver"
   ]
  },
  {
   "cell_type": "code",
   "execution_count": 20,
   "metadata": {
    "collapsed": true
   },
   "outputs": [],
   "source": [
    "# change path to chromedriver on your computer\n",
    "PATH = \"/home/gsunit/development/chromedriver\"\n",
    "\n",
    "# url to uber-eats page\n",
    "# url = \"https://www.ubereats.com/city/new-york-city\"\n",
    "url = \"https://www.ubereats.com/city/new-york-city\""
   ]
  },
  {
   "cell_type": "code",
   "execution_count": 21,
   "metadata": {
    "collapsed": false
   },
   "outputs": [
    {
     "name": "stdout",
     "output_type": "stream",
     "text": [
      "Successfully opened:  Best New York City Restaurants | Food Delivery & Takeout\n"
     ]
    }
   ],
   "source": [
    "driver = webdriver.Chrome(PATH)\n",
    "driver.get(url)\n",
    "print(\"Successfully opened: \", driver.title)"
   ]
  },
  {
   "cell_type": "code",
   "execution_count": 22,
   "metadata": {
    "collapsed": false
   },
   "outputs": [
    {
     "data": {
      "text/plain": [
       "[<selenium.webdriver.remote.webelement.WebElement (session=\"f0e0dee77d03ff7e86bd2e554437ca50\", element=\"e5d1f9a7-d953-4593-aba7-6c413f6a8c5a\")>,\n",
       " <selenium.webdriver.remote.webelement.WebElement (session=\"f0e0dee77d03ff7e86bd2e554437ca50\", element=\"f66a4955-c5f9-4565-8b31-78d4a4890594\")>,\n",
       " <selenium.webdriver.remote.webelement.WebElement (session=\"f0e0dee77d03ff7e86bd2e554437ca50\", element=\"17f25654-43f1-4b64-8a98-13cb13988320\")>,\n",
       " <selenium.webdriver.remote.webelement.WebElement (session=\"f0e0dee77d03ff7e86bd2e554437ca50\", element=\"b0d29b22-bdc4-4403-b3e7-e823c6b107c4\")>,\n",
       " <selenium.webdriver.remote.webelement.WebElement (session=\"f0e0dee77d03ff7e86bd2e554437ca50\", element=\"df443773-f5ae-44cf-967f-8f8d46d31199\")>,\n",
       " <selenium.webdriver.remote.webelement.WebElement (session=\"f0e0dee77d03ff7e86bd2e554437ca50\", element=\"5c705294-ecb2-4306-9f28-ad2614d363f8\")>,\n",
       " <selenium.webdriver.remote.webelement.WebElement (session=\"f0e0dee77d03ff7e86bd2e554437ca50\", element=\"8bd5a86b-527b-4c99-86b0-176b32c65c07\")>,\n",
       " <selenium.webdriver.remote.webelement.WebElement (session=\"f0e0dee77d03ff7e86bd2e554437ca50\", element=\"5fe25ad0-dd0e-48d8-a936-59a5db4c25b1\")>,\n",
       " <selenium.webdriver.remote.webelement.WebElement (session=\"f0e0dee77d03ff7e86bd2e554437ca50\", element=\"955238c8-8388-4606-9a6b-37909b97812f\")>,\n",
       " <selenium.webdriver.remote.webelement.WebElement (session=\"f0e0dee77d03ff7e86bd2e554437ca50\", element=\"f1c56d6c-ff9b-4652-a54c-efcd5e24f050\")>,\n",
       " <selenium.webdriver.remote.webelement.WebElement (session=\"f0e0dee77d03ff7e86bd2e554437ca50\", element=\"d0c18049-0fe7-4a06-9840-d0e4944da14f\")>,\n",
       " <selenium.webdriver.remote.webelement.WebElement (session=\"f0e0dee77d03ff7e86bd2e554437ca50\", element=\"6cb6a906-e383-4050-9f78-5b8683bb3477\")>,\n",
       " <selenium.webdriver.remote.webelement.WebElement (session=\"f0e0dee77d03ff7e86bd2e554437ca50\", element=\"1d9f7120-75de-4be4-916f-8a61c38fd372\")>,\n",
       " <selenium.webdriver.remote.webelement.WebElement (session=\"f0e0dee77d03ff7e86bd2e554437ca50\", element=\"4042164a-d7ef-4f61-b403-7669754e181f\")>,\n",
       " <selenium.webdriver.remote.webelement.WebElement (session=\"f0e0dee77d03ff7e86bd2e554437ca50\", element=\"c55347ec-83ed-4eac-b8a9-a6e104c989dc\")>,\n",
       " <selenium.webdriver.remote.webelement.WebElement (session=\"f0e0dee77d03ff7e86bd2e554437ca50\", element=\"2ff5f782-66d7-4fbc-b86e-3d39c40900c9\")>,\n",
       " <selenium.webdriver.remote.webelement.WebElement (session=\"f0e0dee77d03ff7e86bd2e554437ca50\", element=\"2f4e9f67-b401-47ee-98bc-194c799b82fb\")>,\n",
       " <selenium.webdriver.remote.webelement.WebElement (session=\"f0e0dee77d03ff7e86bd2e554437ca50\", element=\"46b813bb-518e-4b4a-976a-5b697fb55b4a\")>,\n",
       " <selenium.webdriver.remote.webelement.WebElement (session=\"f0e0dee77d03ff7e86bd2e554437ca50\", element=\"5760a99c-42ac-4464-87cc-9994dc31c725\")>,\n",
       " <selenium.webdriver.remote.webelement.WebElement (session=\"f0e0dee77d03ff7e86bd2e554437ca50\", element=\"bd691056-a550-4713-ad12-ad0319ad7742\")>,\n",
       " <selenium.webdriver.remote.webelement.WebElement (session=\"f0e0dee77d03ff7e86bd2e554437ca50\", element=\"6045a87c-6b9b-4fb7-9970-d82033d0dfaf\")>,\n",
       " <selenium.webdriver.remote.webelement.WebElement (session=\"f0e0dee77d03ff7e86bd2e554437ca50\", element=\"a8d0266c-6084-4956-8e28-79db24e66ce1\")>,\n",
       " <selenium.webdriver.remote.webelement.WebElement (session=\"f0e0dee77d03ff7e86bd2e554437ca50\", element=\"67cfcdf4-f461-4685-9fa3-2b6ac49cc713\")>,\n",
       " <selenium.webdriver.remote.webelement.WebElement (session=\"f0e0dee77d03ff7e86bd2e554437ca50\", element=\"21b7ea8e-a516-4f18-8f57-c4aa70b5bb90\")>,\n",
       " <selenium.webdriver.remote.webelement.WebElement (session=\"f0e0dee77d03ff7e86bd2e554437ca50\", element=\"0aa9fced-b25e-4add-b6c9-0311bb6f623d\")>,\n",
       " <selenium.webdriver.remote.webelement.WebElement (session=\"f0e0dee77d03ff7e86bd2e554437ca50\", element=\"0fb13fa7-2abf-44c5-ab7d-36eb88d7eba3\")>,\n",
       " <selenium.webdriver.remote.webelement.WebElement (session=\"f0e0dee77d03ff7e86bd2e554437ca50\", element=\"ace75473-85dc-449b-934d-03865c76b2cd\")>,\n",
       " <selenium.webdriver.remote.webelement.WebElement (session=\"f0e0dee77d03ff7e86bd2e554437ca50\", element=\"8ce785b0-d345-48b3-bf2b-29dbcd72b199\")>,\n",
       " <selenium.webdriver.remote.webelement.WebElement (session=\"f0e0dee77d03ff7e86bd2e554437ca50\", element=\"e26b1e76-aca3-4dd6-9e94-ae05aef38871\")>,\n",
       " <selenium.webdriver.remote.webelement.WebElement (session=\"f0e0dee77d03ff7e86bd2e554437ca50\", element=\"b7ec5519-93d5-4df6-879b-2a11319a6646\")>,\n",
       " <selenium.webdriver.remote.webelement.WebElement (session=\"f0e0dee77d03ff7e86bd2e554437ca50\", element=\"a8b0239c-211a-490b-8210-6f78eb7e7f82\")>,\n",
       " <selenium.webdriver.remote.webelement.WebElement (session=\"f0e0dee77d03ff7e86bd2e554437ca50\", element=\"54b5155b-6a2d-46c0-8f0e-2f4749a68439\")>,\n",
       " <selenium.webdriver.remote.webelement.WebElement (session=\"f0e0dee77d03ff7e86bd2e554437ca50\", element=\"3b458f8c-bc2c-4b16-b750-6191e16b49a4\")>,\n",
       " <selenium.webdriver.remote.webelement.WebElement (session=\"f0e0dee77d03ff7e86bd2e554437ca50\", element=\"0c421f27-0446-4d88-9f2e-65b77d4581ad\")>,\n",
       " <selenium.webdriver.remote.webelement.WebElement (session=\"f0e0dee77d03ff7e86bd2e554437ca50\", element=\"66323fb0-7cf7-4882-b611-48354a8627a1\")>,\n",
       " <selenium.webdriver.remote.webelement.WebElement (session=\"f0e0dee77d03ff7e86bd2e554437ca50\", element=\"afb3d204-e630-4e15-8582-e4b2184904c5\")>,\n",
       " <selenium.webdriver.remote.webelement.WebElement (session=\"f0e0dee77d03ff7e86bd2e554437ca50\", element=\"9a215cf5-07b0-4069-accb-5384a48f1b85\")>,\n",
       " <selenium.webdriver.remote.webelement.WebElement (session=\"f0e0dee77d03ff7e86bd2e554437ca50\", element=\"f9519920-7389-4363-a177-dfe7420751e2\")>,\n",
       " <selenium.webdriver.remote.webelement.WebElement (session=\"f0e0dee77d03ff7e86bd2e554437ca50\", element=\"f5e1e360-42d6-4b7b-bb24-10dd2f1a38c8\")>,\n",
       " <selenium.webdriver.remote.webelement.WebElement (session=\"f0e0dee77d03ff7e86bd2e554437ca50\", element=\"117aa0fa-a222-4d92-8d41-95b5d69f61b1\")>,\n",
       " <selenium.webdriver.remote.webelement.WebElement (session=\"f0e0dee77d03ff7e86bd2e554437ca50\", element=\"d681089d-a13a-452b-8c57-e29c146436f4\")>,\n",
       " <selenium.webdriver.remote.webelement.WebElement (session=\"f0e0dee77d03ff7e86bd2e554437ca50\", element=\"5b328ee8-5f98-48cc-8ae2-2c4550cb9ccd\")>,\n",
       " <selenium.webdriver.remote.webelement.WebElement (session=\"f0e0dee77d03ff7e86bd2e554437ca50\", element=\"5b78166b-6b7c-4633-8562-d9cf04a5478c\")>,\n",
       " <selenium.webdriver.remote.webelement.WebElement (session=\"f0e0dee77d03ff7e86bd2e554437ca50\", element=\"15137baf-5d88-4e59-9985-461bef4ce31a\")>,\n",
       " <selenium.webdriver.remote.webelement.WebElement (session=\"f0e0dee77d03ff7e86bd2e554437ca50\", element=\"875d1fc8-6f91-42a1-a0e1-831f9d7de236\")>,\n",
       " <selenium.webdriver.remote.webelement.WebElement (session=\"f0e0dee77d03ff7e86bd2e554437ca50\", element=\"d9685ef5-9665-493f-b450-7b58d9b606f1\")>,\n",
       " <selenium.webdriver.remote.webelement.WebElement (session=\"f0e0dee77d03ff7e86bd2e554437ca50\", element=\"19955d97-37ff-48ac-98a5-d68d4f604bd4\")>,\n",
       " <selenium.webdriver.remote.webelement.WebElement (session=\"f0e0dee77d03ff7e86bd2e554437ca50\", element=\"e4fd889d-b5c9-44d4-867f-e0d1d293510a\")>,\n",
       " <selenium.webdriver.remote.webelement.WebElement (session=\"f0e0dee77d03ff7e86bd2e554437ca50\", element=\"c8d8ac68-7ff3-486b-8e64-0d331d11ea25\")>,\n",
       " <selenium.webdriver.remote.webelement.WebElement (session=\"f0e0dee77d03ff7e86bd2e554437ca50\", element=\"497b00a4-8d98-435b-8cf8-87c2533edf80\")>,\n",
       " <selenium.webdriver.remote.webelement.WebElement (session=\"f0e0dee77d03ff7e86bd2e554437ca50\", element=\"e83cd89e-19d8-41da-9779-fc8f9da5b12a\")>,\n",
       " <selenium.webdriver.remote.webelement.WebElement (session=\"f0e0dee77d03ff7e86bd2e554437ca50\", element=\"318aa06b-a069-4a11-a529-6e7f41c92465\")>,\n",
       " <selenium.webdriver.remote.webelement.WebElement (session=\"f0e0dee77d03ff7e86bd2e554437ca50\", element=\"e6c41e69-bccb-41e3-b9ba-e92bfda5fa75\")>,\n",
       " <selenium.webdriver.remote.webelement.WebElement (session=\"f0e0dee77d03ff7e86bd2e554437ca50\", element=\"3ec3d222-d5bd-46dd-ac7a-f4d9fc9543dc\")>,\n",
       " <selenium.webdriver.remote.webelement.WebElement (session=\"f0e0dee77d03ff7e86bd2e554437ca50\", element=\"542f35eb-704b-423f-8422-075435417f16\")>,\n",
       " <selenium.webdriver.remote.webelement.WebElement (session=\"f0e0dee77d03ff7e86bd2e554437ca50\", element=\"fbce440c-53e7-4b9b-b1f4-0f1216065918\")>,\n",
       " <selenium.webdriver.remote.webelement.WebElement (session=\"f0e0dee77d03ff7e86bd2e554437ca50\", element=\"77997b94-ffa5-4c3d-9fc7-c45e4005a6f0\")>,\n",
       " <selenium.webdriver.remote.webelement.WebElement (session=\"f0e0dee77d03ff7e86bd2e554437ca50\", element=\"82b07b90-3d3e-4469-8403-af6e8b79c3a5\")>,\n",
       " <selenium.webdriver.remote.webelement.WebElement (session=\"f0e0dee77d03ff7e86bd2e554437ca50\", element=\"5c2e0ed3-791f-442c-b61e-e85db9989a55\")>,\n",
       " <selenium.webdriver.remote.webelement.WebElement (session=\"f0e0dee77d03ff7e86bd2e554437ca50\", element=\"311f2ee9-c04d-4a33-bd86-ba24105c6898\")>,\n",
       " <selenium.webdriver.remote.webelement.WebElement (session=\"f0e0dee77d03ff7e86bd2e554437ca50\", element=\"bcf8f6ae-5eb6-4fca-87fb-9e09ed93cd7c\")>,\n",
       " <selenium.webdriver.remote.webelement.WebElement (session=\"f0e0dee77d03ff7e86bd2e554437ca50\", element=\"7d3ad7b0-b753-4e03-929a-b2d810bd1f6b\")>,\n",
       " <selenium.webdriver.remote.webelement.WebElement (session=\"f0e0dee77d03ff7e86bd2e554437ca50\", element=\"ae7bedc8-062c-415c-9b9a-bf105db68c2a\")>,\n",
       " <selenium.webdriver.remote.webelement.WebElement (session=\"f0e0dee77d03ff7e86bd2e554437ca50\", element=\"451287fb-98d2-4edd-a38f-d3350ad05505\")>,\n",
       " <selenium.webdriver.remote.webelement.WebElement (session=\"f0e0dee77d03ff7e86bd2e554437ca50\", element=\"8abba3b6-3839-4e0a-8573-7e3f409811a5\")>,\n",
       " <selenium.webdriver.remote.webelement.WebElement (session=\"f0e0dee77d03ff7e86bd2e554437ca50\", element=\"1714009c-da44-46a7-8711-9663cc0f648e\")>,\n",
       " <selenium.webdriver.remote.webelement.WebElement (session=\"f0e0dee77d03ff7e86bd2e554437ca50\", element=\"c87cd8c9-55df-48b6-8d28-588dfd3f5b79\")>,\n",
       " <selenium.webdriver.remote.webelement.WebElement (session=\"f0e0dee77d03ff7e86bd2e554437ca50\", element=\"27d255f4-3417-4b70-8a34-3766b272bf31\")>,\n",
       " <selenium.webdriver.remote.webelement.WebElement (session=\"f0e0dee77d03ff7e86bd2e554437ca50\", element=\"1b2b0a39-b1f7-4550-b672-a2da74b77a89\")>,\n",
       " <selenium.webdriver.remote.webelement.WebElement (session=\"f0e0dee77d03ff7e86bd2e554437ca50\", element=\"bcdcb371-1495-41c3-acdd-35973ed705d8\")>,\n",
       " <selenium.webdriver.remote.webelement.WebElement (session=\"f0e0dee77d03ff7e86bd2e554437ca50\", element=\"80bea0ec-30ce-4955-b933-48f601801618\")>,\n",
       " <selenium.webdriver.remote.webelement.WebElement (session=\"f0e0dee77d03ff7e86bd2e554437ca50\", element=\"c8c91dee-ff0c-45b0-a9f9-10b1c7e9674c\")>,\n",
       " <selenium.webdriver.remote.webelement.WebElement (session=\"f0e0dee77d03ff7e86bd2e554437ca50\", element=\"981c2b1c-f93a-41b9-9046-3e0358482fea\")>,\n",
       " <selenium.webdriver.remote.webelement.WebElement (session=\"f0e0dee77d03ff7e86bd2e554437ca50\", element=\"b584c771-a6ad-480b-a10f-f804ddaf06ad\")>,\n",
       " <selenium.webdriver.remote.webelement.WebElement (session=\"f0e0dee77d03ff7e86bd2e554437ca50\", element=\"11181dee-a8d5-44a2-bf80-b4651fab2b26\")>,\n",
       " <selenium.webdriver.remote.webelement.WebElement (session=\"f0e0dee77d03ff7e86bd2e554437ca50\", element=\"3c45f8be-c1d1-4d87-b00e-11335883696d\")>,\n",
       " <selenium.webdriver.remote.webelement.WebElement (session=\"f0e0dee77d03ff7e86bd2e554437ca50\", element=\"d1140570-bdbd-492c-8c6b-d1851712c484\")>,\n",
       " <selenium.webdriver.remote.webelement.WebElement (session=\"f0e0dee77d03ff7e86bd2e554437ca50\", element=\"000743d4-9eed-4d9a-96f1-1b2875754111\")>,\n",
       " <selenium.webdriver.remote.webelement.WebElement (session=\"f0e0dee77d03ff7e86bd2e554437ca50\", element=\"78f252a5-bc66-4e52-876c-17589a3ac72f\")>,\n",
       " <selenium.webdriver.remote.webelement.WebElement (session=\"f0e0dee77d03ff7e86bd2e554437ca50\", element=\"edbdaeb8-3d6e-4ba2-bb52-4a262a7c9bf9\")>,\n",
       " <selenium.webdriver.remote.webelement.WebElement (session=\"f0e0dee77d03ff7e86bd2e554437ca50\", element=\"9cd5500c-20fb-4ec4-95d9-4b8928cdbb19\")>,\n",
       " <selenium.webdriver.remote.webelement.WebElement (session=\"f0e0dee77d03ff7e86bd2e554437ca50\", element=\"e834c425-4856-47ba-903e-60df8247b9e2\")>,\n",
       " <selenium.webdriver.remote.webelement.WebElement (session=\"f0e0dee77d03ff7e86bd2e554437ca50\", element=\"292eb116-990a-41e6-bc1f-ea7144a89ef6\")>,\n",
       " <selenium.webdriver.remote.webelement.WebElement (session=\"f0e0dee77d03ff7e86bd2e554437ca50\", element=\"1cf8e8fa-508b-43f3-b26a-0af0b471c989\")>]"
      ]
     },
     "execution_count": 22,
     "metadata": {},
     "output_type": "execute_result"
    }
   ],
   "source": [
    "class_name = 'dn bk bl at fn al aj fo dl'\n",
    "xpath_name = f\"//h3[@class='{class_name}']/a\"\n",
    "\n",
    "search = driver.find_elements_by_xpath(xpath_name)\n",
    "search"
   ]
  }
 ],
 "metadata": {
  "kernelspec": {
   "display_name": "Python 3",
   "language": "python",
   "name": "python3"
  },
  "language_info": {
   "codemirror_mode": {
    "name": "ipython",
    "version": 3
   },
   "file_extension": ".py",
   "mimetype": "text/x-python",
   "name": "python",
   "nbconvert_exporter": "python",
   "pygments_lexer": "ipython3",
   "version": "3.6.9"
  }
 },
 "nbformat": 4,
 "nbformat_minor": 0
}
