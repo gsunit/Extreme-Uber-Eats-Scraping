{
 "cells": [
  {
   "cell_type": "code",
   "execution_count": 1,
   "metadata": {
    "collapsed": true
   },
   "outputs": [],
   "source": [
    "from IPython.core.interactiveshell import InteractiveShell\n",
    "InteractiveShell.ast_node_interactivity = \"all\"\n",
    "from selenium import webdriver"
   ]
  },
  {
   "cell_type": "code",
   "execution_count": 2,
   "metadata": {
    "collapsed": true
   },
   "outputs": [],
   "source": [
    "# change path to chromedriver on your computer\n",
    "PATH = \"/home/gsunit/development/chromedriver\"\n",
    "\n",
    "# url to uber-eats page\n",
    "# url = \"https://www.ubereats.com/city/new-york-city\"\n",
    "url = \"https://www.ubereats.com/city/new-york-city\""
   ]
  },
  {
   "cell_type": "code",
   "execution_count": 3,
   "metadata": {
    "collapsed": false
   },
   "outputs": [
    {
     "name": "stdout",
     "output_type": "stream",
     "text": [
      "Successfully opened:  Best New York City Restaurants | Food Delivery & Takeout\n"
     ]
    }
   ],
   "source": [
    "driver = webdriver.Chrome(PATH)\n",
    "driver.get(url)\n",
    "print(\"Successfully opened: \", driver.title)"
   ]
  },
  {
   "cell_type": "code",
   "execution_count": 4,
   "metadata": {
    "collapsed": false
   },
   "outputs": [
    {
     "data": {
      "text/plain": [
       "93"
      ]
     },
     "execution_count": 4,
     "metadata": {},
     "output_type": "execute_result"
    }
   ],
   "source": [
    "class_name = \"av bi cd fm ed\"\n",
    "# xpath_name = f\"//h3[@class='{class_name}']/a\"\n",
    "# class_name.replace(\" \", \".\")\n",
    "\n",
    "results = driver.find_elements_by_class_name(\"b2.fc\")\n",
    "len(results)"
   ]
  },
  {
   "cell_type": "code",
   "execution_count": 5,
   "metadata": {
    "collapsed": false
   },
   "outputs": [
    {
     "data": {
      "text/plain": [
       "['Buy 1, Get 1 Free',\n",
       " 'Baoworks - NYC',\n",
       " 'Delivery Fee is $1.99',\n",
       " '$1.99 Delivery Fee',\n",
       " ' • ',\n",
       " '30–40 Min',\n",
       " ' • $',\n",
       " '4.4',\n",
       " 'Asian • Asian Fusion • Chinese • Korean • Comfort Food']"
      ]
     },
     "execution_count": 5,
     "metadata": {},
     "output_type": "execute_result"
    }
   ],
   "source": [
    "results[0].text.split('\\n')"
   ]
  },
  {
   "cell_type": "code",
   "execution_count": 6,
   "metadata": {
    "collapsed": false
   },
   "outputs": [
    {
     "data": {
      "text/plain": [
       "[\"Veniero's Pastry\",\n",
       " 'Delivery Fee is $1.99',\n",
       " '$1.99 Delivery Fee',\n",
       " ' • ',\n",
       " '25–35 Min',\n",
       " ' • $',\n",
       " '4.8',\n",
       " 'Desserts • Coffee and Tea • Pastry']"
      ]
     },
     "execution_count": 6,
     "metadata": {},
     "output_type": "execute_result"
    }
   ],
   "source": [
    "results[6].text.split('\\n')"
   ]
  },
  {
   "cell_type": "code",
   "execution_count": 7,
   "metadata": {
    "collapsed": false
   },
   "outputs": [],
   "source": [
    "import pandas as pd\n",
    "\n",
    "df = pd.DataFrame(columns=['name', 'offer', 'delivery_fee', 'delivery_time', 'rating', 'cuisine'])\n",
    "# df = pd.DataFrame(columns=['rating', 'cuisine'])"
   ]
  },
  {
   "cell_type": "code",
   "execution_count": 10,
   "metadata": {
    "collapsed": false
   },
   "outputs": [],
   "source": [
    "i=0\n",
    "for result in results:\n",
    "    lines = result.text.split('\\n')\n",
    "    df.loc[i] = [\n",
    "        lines[-8],\n",
    "        lines[0] if len(lines) == 9 else \" \",\n",
    "        lines[-6].split(\" \")[0],\n",
    "        lines[-4],\n",
    "        lines[-2],\n",
    "        lines[-1]\n",
    "    ]\n",
    "    i = i+1"
   ]
  },
  {
   "cell_type": "code",
   "execution_count": 12,
   "metadata": {
    "collapsed": false
   },
   "outputs": [
    {
     "data": {
      "text/html": [
       "<div>\n",
       "<style scoped>\n",
       "    .dataframe tbody tr th:only-of-type {\n",
       "        vertical-align: middle;\n",
       "    }\n",
       "\n",
       "    .dataframe tbody tr th {\n",
       "        vertical-align: top;\n",
       "    }\n",
       "\n",
       "    .dataframe thead th {\n",
       "        text-align: right;\n",
       "    }\n",
       "</style>\n",
       "<table border=\"1\" class=\"dataframe\">\n",
       "  <thead>\n",
       "    <tr style=\"text-align: right;\">\n",
       "      <th></th>\n",
       "      <th>name</th>\n",
       "      <th>offer</th>\n",
       "      <th>delivery_fee</th>\n",
       "      <th>delivery_time</th>\n",
       "      <th>rating</th>\n",
       "      <th>cuisine</th>\n",
       "    </tr>\n",
       "  </thead>\n",
       "  <tbody>\n",
       "    <tr>\n",
       "      <th>0</th>\n",
       "      <td>Baoworks - NYC</td>\n",
       "      <td>Buy 1, Get 1 Free</td>\n",
       "      <td>$1.99</td>\n",
       "      <td>30–40 Min</td>\n",
       "      <td>4.4</td>\n",
       "      <td>Asian • Asian Fusion • Chinese • Korean • Comf...</td>\n",
       "    </tr>\n",
       "    <tr>\n",
       "      <th>1</th>\n",
       "      <td>Braddah's Hawaiian BBQ - NYC</td>\n",
       "      <td>Buy 1, Get 1 Free</td>\n",
       "      <td>$1.99</td>\n",
       "      <td>25–35 Min</td>\n",
       "      <td>4.6</td>\n",
       "      <td>Hawaiian • Asian • Comfort Food</td>\n",
       "    </tr>\n",
       "    <tr>\n",
       "      <th>2</th>\n",
       "      <td>Kobashi Curry - NYC</td>\n",
       "      <td>Buy 1, Get 1 Free</td>\n",
       "      <td>$1.99</td>\n",
       "      <td>30–40 Min</td>\n",
       "      <td>4.1</td>\n",
       "      <td>Japanese • Asian • Comfort Food • Rice &amp; Curry</td>\n",
       "    </tr>\n",
       "    <tr>\n",
       "      <th>3</th>\n",
       "      <td>Bao Bae - NYC</td>\n",
       "      <td>Buy 1, Get 1 Free</td>\n",
       "      <td>$1.99</td>\n",
       "      <td>20–30 Min</td>\n",
       "      <td>4.4</td>\n",
       "      <td>Asian • Asian Fusion • Chinese • Korean • Seaf...</td>\n",
       "    </tr>\n",
       "    <tr>\n",
       "      <th>4</th>\n",
       "      <td>Los Sabores Latin Cuisine - NYC</td>\n",
       "      <td>Spend $10, Save $2</td>\n",
       "      <td>$1.99</td>\n",
       "      <td>30–40 Min</td>\n",
       "      <td>New</td>\n",
       "      <td>Seafood • American • Southern</td>\n",
       "    </tr>\n",
       "    <tr>\n",
       "      <th>...</th>\n",
       "      <td>...</td>\n",
       "      <td>...</td>\n",
       "      <td>...</td>\n",
       "      <td>...</td>\n",
       "      <td>...</td>\n",
       "      <td>...</td>\n",
       "    </tr>\n",
       "    <tr>\n",
       "      <th>87</th>\n",
       "      <td>The Frenchy Burger</td>\n",
       "      <td></td>\n",
       "      <td>$1.99</td>\n",
       "      <td>35–45 Min</td>\n",
       "      <td>New</td>\n",
       "      <td>American • Burgers • Salads</td>\n",
       "    </tr>\n",
       "    <tr>\n",
       "      <th>88</th>\n",
       "      <td>Crab Du Jour Xpress</td>\n",
       "      <td>Buy 1, Get 1 Free</td>\n",
       "      <td>$0.99</td>\n",
       "      <td>25–35 Min</td>\n",
       "      <td>4.3</td>\n",
       "      <td>Cajun • Fast Food • Seafood</td>\n",
       "    </tr>\n",
       "    <tr>\n",
       "      <th>89</th>\n",
       "      <td>Dirty South Wings &amp; Beer</td>\n",
       "      <td>Spend $15, Save $3</td>\n",
       "      <td>$1.99</td>\n",
       "      <td>15–25 Min</td>\n",
       "      <td>New</td>\n",
       "      <td>Burgers • American • Sandwiches</td>\n",
       "    </tr>\n",
       "    <tr>\n",
       "      <th>90</th>\n",
       "      <td>El Diablito Taqueria</td>\n",
       "      <td></td>\n",
       "      <td>$1.99</td>\n",
       "      <td>20–30 Min</td>\n",
       "      <td>4.6</td>\n",
       "      <td>Latin American • Mexican • Comfort Food</td>\n",
       "    </tr>\n",
       "    <tr>\n",
       "      <th>91</th>\n",
       "      <td>Westville</td>\n",
       "      <td></td>\n",
       "      <td>$1.99</td>\n",
       "      <td>25–35 Min</td>\n",
       "      <td>4.9</td>\n",
       "      <td>Healthy • American • Salads • Desserts</td>\n",
       "    </tr>\n",
       "  </tbody>\n",
       "</table>\n",
       "<p>92 rows × 6 columns</p>\n",
       "</div>"
      ],
      "text/plain": [
       "                               name               offer delivery_fee  \\\n",
       "0                    Baoworks - NYC   Buy 1, Get 1 Free        $1.99   \n",
       "1      Braddah's Hawaiian BBQ - NYC   Buy 1, Get 1 Free        $1.99   \n",
       "2               Kobashi Curry - NYC   Buy 1, Get 1 Free        $1.99   \n",
       "3                     Bao Bae - NYC   Buy 1, Get 1 Free        $1.99   \n",
       "4   Los Sabores Latin Cuisine - NYC  Spend $10, Save $2        $1.99   \n",
       "..                              ...                 ...          ...   \n",
       "87               The Frenchy Burger                            $1.99   \n",
       "88              Crab Du Jour Xpress   Buy 1, Get 1 Free        $0.99   \n",
       "89         Dirty South Wings & Beer  Spend $15, Save $3        $1.99   \n",
       "90             El Diablito Taqueria                            $1.99   \n",
       "91                        Westville                            $1.99   \n",
       "\n",
       "   delivery_time rating                                            cuisine  \n",
       "0      30–40 Min    4.4  Asian • Asian Fusion • Chinese • Korean • Comf...  \n",
       "1      25–35 Min    4.6                    Hawaiian • Asian • Comfort Food  \n",
       "2      30–40 Min    4.1     Japanese • Asian • Comfort Food • Rice & Curry  \n",
       "3      20–30 Min    4.4  Asian • Asian Fusion • Chinese • Korean • Seaf...  \n",
       "4      30–40 Min    New                      Seafood • American • Southern  \n",
       "..           ...    ...                                                ...  \n",
       "87     35–45 Min    New                        American • Burgers • Salads  \n",
       "88     25–35 Min    4.3                        Cajun • Fast Food • Seafood  \n",
       "89     15–25 Min    New                    Burgers • American • Sandwiches  \n",
       "90     20–30 Min    4.6            Latin American • Mexican • Comfort Food  \n",
       "91     25–35 Min    4.9             Healthy • American • Salads • Desserts  \n",
       "\n",
       "[92 rows x 6 columns]"
      ]
     },
     "execution_count": 12,
     "metadata": {},
     "output_type": "execute_result"
    }
   ],
   "source": [
    "df.head(-1)"
   ]
  }
 ],
 "metadata": {
  "kernelspec": {
   "display_name": "Python 3",
   "language": "python",
   "name": "python3"
  },
  "language_info": {
   "codemirror_mode": {
    "name": "ipython",
    "version": 3
   },
   "file_extension": ".py",
   "mimetype": "text/x-python",
   "name": "python",
   "nbconvert_exporter": "python",
   "pygments_lexer": "ipython3",
   "version": "3.6.9"
  }
 },
 "nbformat": 4,
 "nbformat_minor": 0
}
