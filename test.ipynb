{
 "cells": [
  {
   "cell_type": "code",
   "execution_count": 1,
   "metadata": {
    "collapsed": true
   },
   "outputs": [],
   "source": [
    "from IPython.core.interactiveshell import InteractiveShell\n",
    "InteractiveShell.ast_node_interactivity = \"all\"\n",
    "from selenium import webdriver\n",
    "from selenium.webdriver.common.by import By\n",
    "from selenium.webdriver.support.ui import WebDriverWait\n",
    "from selenium.webdriver.support import expected_conditions as EC"
   ]
  },
  {
   "cell_type": "code",
   "execution_count": 68,
   "metadata": {
    "collapsed": false
   },
   "outputs": [
    {
     "name": "stdout",
     "output_type": "stream",
     "text": [
      "Successfully opened:  Order La Parisienne - FiDi Delivery Online | New York City | Menu & Prices | Uber Eats\n"
     ]
    }
   ],
   "source": [
    "# change path to chromedriver on your computer\n",
    "PATH = \"/home/gsunit/development/chromedriver\"\n",
    "\n",
    "# url = \"https://www.ubereats.com/san-francisco/food-delivery/mcdonalds-potrero/9WYtV3R6Qo25dNL6qlvHug\"\n",
    "# url = \"https://www.ubereats.com/new-york/food-delivery/the-bean/8gxBvd2BSnen0mGABTlwxw\"\n",
    "# url = \"https://www.ubereats.com/new-york/food-delivery/dunkin-100-chambers-st/NVvMULGbTwe3Cyy-_3Lnrw\"\n",
    "# url = \"https://www.ubereats.com/new-york/food-delivery/potbelly-sandwich-shop-reade-and-broadway-%7C-264/irtZLmgdR0uYRZxDYhlEJg\"\n",
    "url = \"https://www.ubereats.com/new-york/food-delivery/la-parisienne-fidi/lJhNCae0RKWzgan9uQxvEA\"\n",
    "driver = webdriver.Chrome(PATH)\n",
    "driver.get(url)\n",
    "print(\"Successfully opened: \", driver.title)"
   ]
  },
  {
   "cell_type": "code",
   "execution_count": 69,
   "metadata": {
    "collapsed": false
   },
   "outputs": [
    {
     "data": {
      "text/plain": [
       "'(16)'"
      ]
     },
     "execution_count": 69,
     "metadata": {},
     "output_type": "execute_result"
    }
   ],
   "source": [
    "# num_rev = driver.find_element_by_class_name('dk')\n",
    "# num_rev.text\n",
    "num_reviews1 = WebDriverWait(driver, 10).until(\n",
    "    EC.presence_of_element_located((By.CLASS_NAME, 'do'))\n",
    ")\n",
    "num_reviews2 = WebDriverWait(driver, 10).until(\n",
    "    EC.presence_of_element_located((By.CLASS_NAME, 'dk'))\n",
    ")\n",
    "\n",
    "if len(num_reviews1.text)>0 and num_reviews1.text[0]=='(' :\n",
    "    num_reviews = num_reviews1.text\n",
    "elif len(num_reviews2.text)>0 and num_reviews2.text[0]=='(' :\n",
    "    num_reviews = num_reviews2.text\n",
    "else :\n",
    "    num_reviews = '( )'\n",
    "\n",
    "num_reviews"
   ]
  },
  {
   "cell_type": "code",
   "execution_count": 70,
   "metadata": {
    "collapsed": false
   },
   "outputs": [
    {
     "data": {
      "text/plain": [
       "'9 Maiden Ln, New York, NY 10038'"
      ]
     },
     "execution_count": 70,
     "metadata": {},
     "output_type": "execute_result"
    }
   ],
   "source": [
    "addresses = driver.find_elements_by_class_name('c6.cw.ba.as')\n",
    "addresses[3].text.split('\\n')[0]"
   ]
  },
  {
   "cell_type": "code",
   "execution_count": 36,
   "metadata": {
    "collapsed": false
   },
   "outputs": [],
   "source": [
    "from selenium.webdriver.common.keys import Keys\n",
    "from selenium.webdriver import ActionChains\n",
    "driver.execute_script('''window.open(\"\",\"_blank\");''')\n",
    "driver.get('http://google.com/')"
   ]
  }
 ],
 "metadata": {
  "kernelspec": {
   "display_name": "Python 3",
   "language": "python",
   "name": "python3"
  },
  "language_info": {
   "codemirror_mode": {
    "name": "ipython",
    "version": 3
   },
   "file_extension": ".py",
   "mimetype": "text/x-python",
   "name": "python",
   "nbconvert_exporter": "python",
   "pygments_lexer": "ipython3",
   "version": "3.6.9"
  }
 },
 "nbformat": 4,
 "nbformat_minor": 0
}
