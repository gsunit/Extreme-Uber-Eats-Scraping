{
 "cells": [
  {
   "cell_type": "code",
   "execution_count": 31,
   "metadata": {
    "collapsed": false
   },
   "outputs": [],
   "source": [
    "from IPython.core.interactiveshell import InteractiveShell\n",
    "InteractiveShell.ast_node_interactivity = \"all\"\n",
    "\n",
    "from urllib.request import Request, urlopen\n",
    "from bs4 import BeautifulSoup\n",
    "import re\n",
    "  \n",
    "URL = \"https://www.ubereats.com/san-francisco/food-delivery/all-nite-pizza/gcy4R6ewS16mPqFf2mrcJw\"\n",
    "\n",
    "req = Request(URL, headers={'User-Agent': 'Mozilla/5.0', 'Accept': 'text/html,application/xhtml+xml,application/xml'})\n",
    "webpage = urlopen(req).read()\n",
    "# print(webpage)\n",
    "soup = BeautifulSoup(webpage, 'html.parser') \n",
    "# print(soup.prettify()) \n",
    "\n",
    "# s = soup.find(\"script\", {\"type\": \"application/ld+json\"}).get_text()\n",
    "# re.findall(\"\\\"address\\\":\\s*\\{.+?\\}\", s)"
   ]
  },
  {
   "cell_type": "code",
   "execution_count": 32,
   "metadata": {
    "collapsed": false
   },
   "outputs": [],
   "source": [
    "categ_links = soup.find_all(\"a\", class_=\"f3 dd f4\")\n",
    "for categ in categ_links:\n",
    "    categ.text"
   ]
  },
  {
   "cell_type": "code",
   "execution_count": 34,
   "metadata": {
    "collapsed": false
   },
   "outputs": [],
   "source": [
    "# soup"
   ]
  }
 ],
 "metadata": {
  "kernelspec": {
   "display_name": "Python 3",
   "language": "python",
   "name": "python3"
  },
  "language_info": {
   "codemirror_mode": {
    "name": "ipython",
    "version": 3
   },
   "file_extension": ".py",
   "mimetype": "text/x-python",
   "name": "python",
   "nbconvert_exporter": "python",
   "pygments_lexer": "ipython3",
   "version": "3.6.9"
  }
 },
 "nbformat": 4,
 "nbformat_minor": 0
}
