{
 "cells": [
  {
   "cell_type": "code",
   "execution_count": 1,
   "metadata": {
    "collapsed": true
   },
   "outputs": [],
   "source": [
    "from IPython.core.interactiveshell import InteractiveShell\n",
    "InteractiveShell.ast_node_interactivity = \"all\"\n",
    "\n",
    "from urllib.request import Request, urlopen\n",
    "from bs4 import BeautifulSoup\n",
    "import re\n",
    "import time\n",
    "import json\n",
    "import csv\n",
    "import os\n",
    "import pandas as pd\n",
    "from tqdm import tqdm_notebook\n",
    "from urllib.error import URLError\n",
    "import time"
   ]
  },
  {
   "cell_type": "code",
   "execution_count": 2,
   "metadata": {
    "collapsed": false
   },
   "outputs": [
    {
     "data": {
      "text/plain": [
       "89"
      ]
     },
     "execution_count": 2,
     "metadata": {},
     "output_type": "execute_result"
    }
   ],
   "source": [
    "f = open(\"./scraped-data/UE-categories-all.txt\")\n",
    "lines = f.read().split('\\n')\n",
    "categories = set(lines)\n",
    "if '' in categories:\n",
    "    categories.remove('')\n",
    "len(categories)"
   ]
  },
  {
   "cell_type": "code",
   "execution_count": 3,
   "metadata": {
    "collapsed": false
   },
   "outputs": [],
   "source": [
    "def get_city_rests(city_url, categories, debug=False):\n",
    "    start_time = time.time()\n",
    "    rests = set()\n",
    "    categ_stats = {}\n",
    "    cityname = city_url.split('/')[-1]\n",
    "    try:\n",
    "        req = Request(city_url, headers={'User-Agent': 'Mozilla/5.0', 'Accept': 'text/html,application/xhtml+xml,application/xml'})\n",
    "        webpage = urlopen(req, timeout=20).read()\n",
    "        soup = BeautifulSoup(webpage, 'html.parser')\n",
    "    except Exception as e:\n",
    "        print(f\"Error: {e}, url: {city_url}\")\n",
    "        return rests, categ_stats\n",
    "    \n",
    "    for category in tqdm_notebook(categories, desc=cityname):\n",
    "        category = category.lower().replace(\" \", \"-\")\n",
    "        category_city_url = \"https://www.ubereats.com/category/\" + cityname + \"/\" + category\n",
    "        try:\n",
    "            req = Request(category_city_url, headers={'User-Agent': 'Mozilla/5.0', 'Accept': 'text/html,application/xhtml+xml,application/xml'})\n",
    "\n",
    "            webpage = urlopen(req, timeout=20).read()\n",
    "            soup = BeautifulSoup(webpage, 'html.parser')\n",
    "            if debug == True:\n",
    "                print(soup.title)\n",
    "            rest_links = soup.find_all(\"h3\", class_=\"b7 ch b9 b4 f0 al aj f1 ba\")\n",
    "            categ_stats[category] = len(rest_links)\n",
    "            old_rests_size = len(rests)\n",
    "\n",
    "            if debug == True:\n",
    "                print(f\"found: {len(rest_links)}, old size: {old_rests_size}\")\n",
    "            for link in rest_links:\n",
    "                rests.add(link.a['href'])\n",
    "            if debug == True:\n",
    "                print(f\"added: {len(rests)-old_rests_size}, new size: {len(rests)}\")\n",
    "        except Exception as e:\n",
    "            if debug == True:\n",
    "                print(f\"\\nerror: {e}\\n url: {category_city_url}\")\n",
    "            categ_stats[category] = 0\n",
    "    elapsed_time = time.time()-start_time\n",
    "    if debug == True:\n",
    "        print(f\"time elapsed: {elapsed_time}\")\n",
    "    return rests, categ_stats"
   ]
  },
  {
   "cell_type": "code",
   "execution_count": 5,
   "metadata": {
    "collapsed": false
   },
   "outputs": [],
   "source": [
    "def store_urls(city_url, city_rests):\n",
    "    cityname = city_url.split('/')[-1]\n",
    "    filename = './scraped-data/rest-urls/2600-2700/'+cityname+'.csv'\n",
    "    city_df = pd.DataFrame(columns=['url', 'city'])\n",
    "    \n",
    "    i=0\n",
    "    for rest_url in city_rests:\n",
    "        city_df.loc[i] = [\n",
    "            \"https://www.ubereats.com\" + rest_url,\n",
    "            cityname\n",
    "        ]\n",
    "        i = i+1\n",
    "    city_df.to_csv(filename, index=False)"
   ]
  },
  {
   "cell_type": "code",
   "execution_count": 6,
   "metadata": {
    "collapsed": false
   },
   "outputs": [
    {
     "data": {
      "text/plain": [
       "3294"
      ]
     },
     "execution_count": 6,
     "metadata": {},
     "output_type": "execute_result"
    }
   ],
   "source": [
    "cities = pd.read_csv('./scraped-data/UE-cities.csv')['url']\n",
    "len(cities)"
   ]
  },
  {
   "cell_type": "code",
   "execution_count": null,
   "metadata": {
    "collapsed": false
   },
   "outputs": [],
   "source": [
    "for city_url in tqdm_notebook(cities[2600:2700], desc=\"city-rest-urls\"):\n",
    "    city_rests, categ_stats = get_city_rests(city_url, categories, debug=False)\n",
    "    store_urls(city_url, city_rests)"
   ]
  }
 ],
 "metadata": {
  "kernelspec": {
   "display_name": "Python 3",
   "language": "python",
   "name": "python3"
  },
  "language_info": {
   "codemirror_mode": {
    "name": "ipython",
    "version": 3
   },
   "file_extension": ".py",
   "mimetype": "text/x-python",
   "name": "python",
   "nbconvert_exporter": "python",
   "pygments_lexer": "ipython3",
   "version": "3.6.9"
  }
 },
 "nbformat": 4,
 "nbformat_minor": 0
}
